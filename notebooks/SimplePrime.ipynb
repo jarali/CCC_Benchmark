{
 "cells": [
  {
   "cell_type": "code",
   "execution_count": null,
   "id": "6c7394ef-a5ba-4067-8a19-4729fb4183e8",
   "metadata": {},
   "outputs": [],
   "source": [
    "import time\n",
    "def find_primes(n):\n",
    "    start_time = time.time()\n",
    "    primes = []\n",
    "    num = 2\n",
    "    \n",
    "    \n",
    "    while len(primes) < n:\n",
    "        is_prime = True\n",
    "        \n",
    "        # Check if the number has divisors other than 1 and itself\n",
    "        for i in range(2, int(num**0.5) + 1):\n",
    "            if num % i == 0:\n",
    "                is_prime = False\n",
    "                break\n",
    "        \n",
    "        if is_prime:\n",
    "            primes.append(num)\n",
    "        \n",
    "        num += 1\n",
    "    \n",
    "    # Print the prime numbers to the console\n",
    "    for prime in primes:\n",
    "        print(prime)\n",
    "        \n",
    "    end_time = time.time()\n",
    "    time_taken = end_time - start_time\n",
    "    print(f\"\\nTime taken to find {n} prime numbers: {time_taken:.4f} seconds\")\n",
    "\n",
    "find_primes(100000)\n"
   ]
  },
  {
   "cell_type": "code",
   "execution_count": null,
   "id": "4a5e34d0-390d-4cde-a865-46e9978bcccd",
   "metadata": {},
   "outputs": [],
   "source": []
  }
 ],
 "metadata": {
  "kernelspec": {
   "display_name": "Python 3 (ipykernel)",
   "language": "python",
   "name": "python3"
  },
  "language_info": {
   "codemirror_mode": {
    "name": "ipython",
    "version": 3
   },
   "file_extension": ".py",
   "mimetype": "text/x-python",
   "name": "python",
   "nbconvert_exporter": "python",
   "pygments_lexer": "ipython3",
   "version": "3.10.12"
  }
 },
 "nbformat": 4,
 "nbformat_minor": 5
}
