{
 "cells": [
  {
   "cell_type": "code",
   "execution_count": null,
   "id": "06f5e140",
   "metadata": {
    "_cell_guid": "b1076dfc-b9ad-4769-8c92-a6c4dae69d19",
    "_uuid": "8f2839f25d086af736a60e9eeb907d3b93b6e0e5",
    "papermill": {
     "duration": 0.043831,
     "end_time": "2023-03-30T04:38:47.095220",
     "exception": false,
     "start_time": "2023-03-30T04:38:47.051389",
     "status": "completed"
    },
    "tags": []
   },
   "outputs": [],
   "source": [
    "# This Python 3 environment comes with many helpful analytics libraries installed\n",
    "# It is defined by the kaggle/python Docker image: https://github.com/kaggle/docker-python\n",
    "# For example, here's several helpful packages to load\n",
    "\n",
    "import numpy as np # linear algebra\n",
    "import pandas as pd # data processing, CSV file I/O (e.g. pd.read_csv)\n",
    "\n",
    "# Input data files are available in the read-only \"../input/\" directory\n",
    "# For example, running this (by clicking run or pressing Shift+Enter) will list all files under the input directory\n",
    "\n",
    "import os\n",
    "for dirname, _, filenames in os.walk('../datasets/flight-delays'):\n",
    "    for filename in filenames:\n",
    "        print(os.path.join(dirname, filename))\n",
    "\n",
    "# You can write up to 20GB to the current directory (/kaggle/working/) that gets preserved as output when you create a version using \"Save & Run All\" \n",
    "# You can also write temporary files to /kaggle/temp/, but they won't be saved outside of the current session"
   ]
  },
  {
   "cell_type": "code",
   "execution_count": null,
   "id": "4b48e8fc",
   "metadata": {
    "papermill": {
     "duration": 0.021182,
     "end_time": "2023-03-30T04:38:47.129849",
     "exception": false,
     "start_time": "2023-03-30T04:38:47.108667",
     "status": "completed"
    },
    "tags": []
   },
   "outputs": [],
   "source": [
    "low_memory=False"
   ]
  },
  {
   "cell_type": "code",
   "execution_count": null,
   "id": "74c438f4",
   "metadata": {
    "papermill": {
     "duration": 26.495825,
     "end_time": "2023-03-30T04:39:13.639368",
     "exception": false,
     "start_time": "2023-03-30T04:38:47.143543",
     "status": "completed"
    },
    "tags": []
   },
   "outputs": [],
   "source": [
    "df = pd.read_csv('../datasets/flight-delays/flights.csv')"
   ]
  },
  {
   "cell_type": "code",
   "execution_count": null,
   "id": "d9735022",
   "metadata": {
    "papermill": {
     "duration": 0.025752,
     "end_time": "2023-03-30T04:39:13.678086",
     "exception": false,
     "start_time": "2023-03-30T04:39:13.652334",
     "status": "completed"
    },
    "tags": []
   },
   "outputs": [],
   "source": [
    "df.shape"
   ]
  },
  {
   "cell_type": "code",
   "execution_count": null,
   "id": "b8bb8277",
   "metadata": {
    "papermill": {
     "duration": 0.029999,
     "end_time": "2023-03-30T04:39:13.720581",
     "exception": false,
     "start_time": "2023-03-30T04:39:13.690582",
     "status": "completed"
    },
    "tags": []
   },
   "outputs": [],
   "source": [
    "df.dtypes"
   ]
  },
  {
   "cell_type": "code",
   "execution_count": null,
   "id": "96e855d0",
   "metadata": {
    "papermill": {
     "duration": 0.056487,
     "end_time": "2023-03-30T04:39:13.789798",
     "exception": false,
     "start_time": "2023-03-30T04:39:13.733311",
     "status": "completed"
    },
    "tags": []
   },
   "outputs": [],
   "source": [
    "df.head()"
   ]
  },
  {
   "cell_type": "code",
   "execution_count": null,
   "id": "654a8657",
   "metadata": {
    "papermill": {
     "duration": 0.39667,
     "end_time": "2023-03-30T04:39:14.199664",
     "exception": false,
     "start_time": "2023-03-30T04:39:13.802994",
     "status": "completed"
    },
    "tags": []
   },
   "outputs": [],
   "source": [
    "import matplotlib.pyplot as plt\n",
    "plt.hist(df['WHEELS_OFF'], bins=15)\n",
    "plt.show()"
   ]
  },
  {
   "cell_type": "code",
   "execution_count": null,
   "id": "ada8500e",
   "metadata": {
    "papermill": {
     "duration": 0.392315,
     "end_time": "2023-03-30T04:39:14.605378",
     "exception": false,
     "start_time": "2023-03-30T04:39:14.213063",
     "status": "completed"
    },
    "tags": []
   },
   "outputs": [],
   "source": [
    "import matplotlib.pyplot as plt\n",
    "plt.hist(df['DAY'], bins=31)\n",
    "plt.show()"
   ]
  },
  {
   "cell_type": "code",
   "execution_count": null,
   "id": "3a038545",
   "metadata": {
    "papermill": {
     "duration": 0.345437,
     "end_time": "2023-03-30T04:39:14.964592",
     "exception": false,
     "start_time": "2023-03-30T04:39:14.619155",
     "status": "completed"
    },
    "tags": []
   },
   "outputs": [],
   "source": [
    "import matplotlib.pyplot as plt\n",
    "plt.hist(df['MONTH'], bins=12)\n",
    "plt.show()"
   ]
  },
  {
   "cell_type": "markdown",
   "id": "dec225f3",
   "metadata": {
    "papermill": {
     "duration": 0.013575,
     "end_time": "2023-03-30T04:39:14.992393",
     "exception": false,
     "start_time": "2023-03-30T04:39:14.978818",
     "status": "completed"
    },
    "tags": []
   },
   "source": [
    "**Cleaning** Unnecessary Columns for the Delay Calculation"
   ]
  },
  {
   "cell_type": "code",
   "execution_count": null,
   "id": "935bdda1",
   "metadata": {
    "papermill": {
     "duration": 0.024806,
     "end_time": "2023-03-30T04:39:15.031086",
     "exception": false,
     "start_time": "2023-03-30T04:39:15.006280",
     "status": "completed"
    },
    "tags": []
   },
   "outputs": [],
   "source": [
    "df.columns"
   ]
  },
  {
   "cell_type": "code",
   "execution_count": null,
   "id": "9ae25e01",
   "metadata": {
    "papermill": {
     "duration": 0.282475,
     "end_time": "2023-03-30T04:39:15.327809",
     "exception": false,
     "start_time": "2023-03-30T04:39:15.045334",
     "status": "completed"
    },
    "tags": []
   },
   "outputs": [],
   "source": [
    "df.drop(['ARRIVAL_TIME',  'DIVERTED',\n",
    "       'CANCELLED', 'CANCELLATION_REASON', 'AIR_SYSTEM_DELAY',\n",
    "       'SECURITY_DELAY', 'AIRLINE_DELAY', 'LATE_AIRCRAFT_DELAY',\n",
    "       'WEATHER_DELAY','DEPARTURE_TIME','WHEELS_ON', 'TAXI_IN',\n",
    "       'DEPARTURE_DELAY', 'TAXI_OUT', 'WHEELS_OFF',\n",
    "         'ELAPSED_TIME', 'AIR_TIME',],axis = 1,inplace = True)"
   ]
  },
  {
   "cell_type": "code",
   "execution_count": null,
   "id": "f7e9cdde",
   "metadata": {
    "papermill": {
     "duration": 0.027379,
     "end_time": "2023-03-30T04:39:15.369362",
     "exception": false,
     "start_time": "2023-03-30T04:39:15.341983",
     "status": "completed"
    },
    "tags": []
   },
   "outputs": [],
   "source": [
    "df.dtypes"
   ]
  },
  {
   "cell_type": "code",
   "execution_count": null,
   "id": "6bad5bb4",
   "metadata": {
    "papermill": {
     "duration": 0.39817,
     "end_time": "2023-03-30T04:39:15.781710",
     "exception": false,
     "start_time": "2023-03-30T04:39:15.383540",
     "status": "completed"
    },
    "tags": []
   },
   "outputs": [],
   "source": [
    "df['AIRLINE'].value_counts()"
   ]
  },
  {
   "cell_type": "code",
   "execution_count": null,
   "id": "87b287e6",
   "metadata": {
    "papermill": {
     "duration": 0.395912,
     "end_time": "2023-03-30T04:39:16.191722",
     "exception": false,
     "start_time": "2023-03-30T04:39:15.795810",
     "status": "completed"
    },
    "tags": []
   },
   "outputs": [],
   "source": [
    "df['ORIGIN_AIRPORT'].value_counts()"
   ]
  },
  {
   "cell_type": "markdown",
   "id": "a051c187",
   "metadata": {
    "papermill": {
     "duration": 0.014042,
     "end_time": "2023-03-30T04:39:16.220285",
     "exception": false,
     "start_time": "2023-03-30T04:39:16.206243",
     "status": "completed"
    },
    "tags": []
   },
   "source": [
    "we see there are some airports, only flew 1 times. So we can filter out the airports with less than 50 flights. "
   ]
  },
  {
   "cell_type": "code",
   "execution_count": null,
   "id": "c6ebcb31",
   "metadata": {
    "papermill": {
     "duration": 0.023689,
     "end_time": "2023-03-30T04:39:16.258475",
     "exception": false,
     "start_time": "2023-03-30T04:39:16.234786",
     "status": "completed"
    },
    "tags": []
   },
   "outputs": [],
   "source": [
    "#x = df.groupby('DESTINATION_AIRPORT').count()\n",
    "#y = x[x.iloc[:,0]<50].index\n",
    "#y"
   ]
  },
  {
   "cell_type": "markdown",
   "id": "687395cb",
   "metadata": {
    "papermill": {
     "duration": 0.014155,
     "end_time": "2023-03-30T04:39:16.287230",
     "exception": false,
     "start_time": "2023-03-30T04:39:16.273075",
     "status": "completed"
    },
    "tags": []
   },
   "source": [
    "We found a better approach, the iata codes of airports are already in airports.csv file, so we filter out the flights to elsewhere than the airports in the airports.csv list. "
   ]
  },
  {
   "cell_type": "code",
   "execution_count": null,
   "id": "b87203a2",
   "metadata": {
    "papermill": {
     "duration": 0.043201,
     "end_time": "2023-03-30T04:39:16.344917",
     "exception": false,
     "start_time": "2023-03-30T04:39:16.301716",
     "status": "completed"
    },
    "tags": []
   },
   "outputs": [],
   "source": [
    "airports = pd.read_csv('../datasets/flight-delays/airports.csv')\n",
    "airports.head()"
   ]
  },
  {
   "cell_type": "code",
   "execution_count": null,
   "id": "bed586c6",
   "metadata": {
    "papermill": {
     "duration": 1.717091,
     "end_time": "2023-03-30T04:39:18.077039",
     "exception": false,
     "start_time": "2023-03-30T04:39:16.359948",
     "status": "completed"
    },
    "tags": []
   },
   "outputs": [],
   "source": [
    "df = df[df['ORIGIN_AIRPORT'].isin(airports['IATA_CODE'])]\n",
    "df = df[df['DESTINATION_AIRPORT'].isin(airports['IATA_CODE'])]\n",
    "df.shape"
   ]
  },
  {
   "cell_type": "markdown",
   "id": "77241f75",
   "metadata": {
    "papermill": {
     "duration": 0.014261,
     "end_time": "2023-03-30T04:39:18.106279",
     "exception": false,
     "start_time": "2023-03-30T04:39:18.092018",
     "status": "completed"
    },
    "tags": []
   },
   "source": [
    "Airlines in a single column -> One Hot Encoding -> Multiple Columns"
   ]
  },
  {
   "cell_type": "code",
   "execution_count": null,
   "id": "44097cc5",
   "metadata": {
    "papermill": {
     "duration": 0.658428,
     "end_time": "2023-03-30T04:39:18.779509",
     "exception": false,
     "start_time": "2023-03-30T04:39:18.121081",
     "status": "completed"
    },
    "tags": []
   },
   "outputs": [],
   "source": [
    "pd.get_dummies(df['AIRLINE'])"
   ]
  },
  {
   "cell_type": "code",
   "execution_count": null,
   "id": "231f1970",
   "metadata": {
    "papermill": {
     "duration": 2.093509,
     "end_time": "2023-03-30T04:39:20.889049",
     "exception": false,
     "start_time": "2023-03-30T04:39:18.795540",
     "status": "completed"
    },
    "tags": []
   },
   "outputs": [],
   "source": [
    "df = pd.concat([df, pd.get_dummies(df['AIRLINE'])],axis = 1)\n",
    "df.drop('AIRLINE',axis = 1,inplace = True)\n",
    "df.head()"
   ]
  },
  {
   "cell_type": "code",
   "execution_count": null,
   "id": "106e80c4",
   "metadata": {
    "papermill": {
     "duration": 0.319288,
     "end_time": "2023-03-30T04:39:21.224028",
     "exception": false,
     "start_time": "2023-03-30T04:39:20.904740",
     "status": "completed"
    },
    "tags": []
   },
   "outputs": [],
   "source": [
    "df.drop('FLIGHT_NUMBER',axis = 1, inplace = True)"
   ]
  },
  {
   "cell_type": "code",
   "execution_count": null,
   "id": "0e933531",
   "metadata": {
    "papermill": {
     "duration": 0.028206,
     "end_time": "2023-03-30T04:39:21.267740",
     "exception": false,
     "start_time": "2023-03-30T04:39:21.239534",
     "status": "completed"
    },
    "tags": []
   },
   "outputs": [],
   "source": [
    "df.dtypes"
   ]
  },
  {
   "cell_type": "markdown",
   "id": "58ccc08b",
   "metadata": {
    "papermill": {
     "duration": 0.015502,
     "end_time": "2023-03-30T04:39:21.298810",
     "exception": false,
     "start_time": "2023-03-30T04:39:21.283308",
     "status": "completed"
    },
    "tags": []
   },
   "source": [
    "# **Calculating Ground Time** : \n",
    "Ground Time is the time before each flight and if the ground time longer, the expected delay will be less (because the staff will have more time for routines). \n",
    "Ground Time = (Scheduled Departure time) - (Scheduled Arrival time of previous flight)\n",
    "\n",
    "So, how can we find the scheduled arrival time of previous flight?\n",
    "Solution: \n",
    "1. Sort flights for each tail number.\n",
    "2. Add (previous flight arrival time) to the next flight \n",
    "3. Subtract two values : (Scheduled Departure time) - (Scheduled Arrival time of previous flight)\n"
   ]
  },
  {
   "cell_type": "code",
   "execution_count": null,
   "id": "f91e3198",
   "metadata": {
    "papermill": {
     "duration": 0.55155,
     "end_time": "2023-03-30T04:39:21.865930",
     "exception": false,
     "start_time": "2023-03-30T04:39:21.314380",
     "status": "completed"
    },
    "tags": []
   },
   "outputs": [],
   "source": [
    "df['TAIL_NUMBER'].value_counts()"
   ]
  },
  {
   "cell_type": "markdown",
   "id": "fbfe5593",
   "metadata": {
    "papermill": {
     "duration": 0.01558,
     "end_time": "2023-03-30T04:39:21.897601",
     "exception": false,
     "start_time": "2023-03-30T04:39:21.882021",
     "status": "completed"
    },
    "tags": []
   },
   "source": [
    "Now, we discover some planes (tail_numbers) have less than 50 flights (even 1 flight), so we filter them out."
   ]
  },
  {
   "cell_type": "code",
   "execution_count": null,
   "id": "f5091974",
   "metadata": {
    "papermill": {
     "duration": 2.341798,
     "end_time": "2023-03-30T04:39:24.255052",
     "exception": false,
     "start_time": "2023-03-30T04:39:21.913254",
     "status": "completed"
    },
    "tags": []
   },
   "outputs": [],
   "source": [
    "x = df.groupby('TAIL_NUMBER').count()\n",
    "y = x[x.iloc[:,0]<50].index\n",
    "y"
   ]
  },
  {
   "cell_type": "code",
   "execution_count": null,
   "id": "5d03a259",
   "metadata": {
    "papermill": {
     "duration": 1.108773,
     "end_time": "2023-03-30T04:39:25.379943",
     "exception": false,
     "start_time": "2023-03-30T04:39:24.271170",
     "status": "completed"
    },
    "tags": []
   },
   "outputs": [],
   "source": [
    "df = df[~df['TAIL_NUMBER'].isin(y)]\n",
    "df.shape"
   ]
  },
  {
   "cell_type": "code",
   "execution_count": null,
   "id": "c186cd6b",
   "metadata": {
    "papermill": {
     "duration": 1.886287,
     "end_time": "2023-03-30T04:39:27.281936",
     "exception": false,
     "start_time": "2023-03-30T04:39:25.395649",
     "status": "completed"
    },
    "tags": []
   },
   "outputs": [],
   "source": [
    "import matplotlib.pyplot as plt\n",
    "plt.hist(df['SCHEDULED_DEPARTURE'], bins=1000)\n",
    "plt.show()"
   ]
  },
  {
   "cell_type": "markdown",
   "id": "8b154051",
   "metadata": {
    "papermill": {
     "duration": 0.015801,
     "end_time": "2023-03-30T04:39:27.313796",
     "exception": false,
     "start_time": "2023-03-30T04:39:27.297995",
     "status": "completed"
    },
    "tags": []
   },
   "source": [
    "We understand that, the scheduled_time column keeps time of departure in numeric format, for example 3:40 is converted to 340. Now we transform it to minutes from 00:00"
   ]
  },
  {
   "cell_type": "code",
   "execution_count": null,
   "id": "e9f8ce8f",
   "metadata": {
    "papermill": {
     "duration": 2.457745,
     "end_time": "2023-03-30T04:39:29.787584",
     "exception": false,
     "start_time": "2023-03-30T04:39:27.329839",
     "status": "completed"
    },
    "tags": []
   },
   "outputs": [],
   "source": [
    "df['SCHEDULED_DEPARTURE']=round(df['SCHEDULED_DEPARTURE']/100,0)*60 + df['SCHEDULED_DEPARTURE']%100\n",
    "df['SCHEDULED_ARRIVAL']=round(df['SCHEDULED_ARRIVAL']/100,0)*60 + df['SCHEDULED_ARRIVAL']%100\n",
    "plt.hist(df['SCHEDULED_DEPARTURE'], bins=1000)\n",
    "plt.show()"
   ]
  },
  {
   "cell_type": "markdown",
   "id": "2cd73d39",
   "metadata": {
    "papermill": {
     "duration": 0.016555,
     "end_time": "2023-03-30T04:39:29.821268",
     "exception": false,
     "start_time": "2023-03-30T04:39:29.804713",
     "status": "completed"
    },
    "tags": []
   },
   "source": [
    "now the values are between 0 to 1440 (24.00) and we can subtract them from each other"
   ]
  },
  {
   "cell_type": "markdown",
   "id": "8342556b",
   "metadata": {
    "papermill": {
     "duration": 0.015881,
     "end_time": "2023-03-30T04:39:29.853925",
     "exception": false,
     "start_time": "2023-03-30T04:39:29.838044",
     "status": "completed"
    },
    "tags": []
   },
   "source": [
    "# Calculating the Ground Time and Delay from Previous Flight\n",
    "\n",
    "We believe if there is a delay from the previous flight and there is a tiny ground time, the delay for this flight is inevitable. "
   ]
  },
  {
   "cell_type": "code",
   "execution_count": null,
   "id": "8bfa6f64",
   "metadata": {
    "papermill": {
     "duration": 0.246882,
     "end_time": "2023-03-30T04:39:30.117158",
     "exception": false,
     "start_time": "2023-03-30T04:39:29.870276",
     "status": "completed"
    },
    "tags": []
   },
   "outputs": [],
   "source": [
    "df= df.sample(frac=0.01, replace=True, random_state=1)"
   ]
  },
  {
   "cell_type": "code",
   "execution_count": null,
   "id": "13171797",
   "metadata": {
    "papermill": {
     "duration": 0.027548,
     "end_time": "2023-03-30T04:39:30.161002",
     "exception": false,
     "start_time": "2023-03-30T04:39:30.133454",
     "status": "completed"
    },
    "tags": []
   },
   "outputs": [],
   "source": [
    "df.shape"
   ]
  },
  {
   "cell_type": "code",
   "execution_count": null,
   "id": "01c72ec5",
   "metadata": {
    "papermill": {
     "duration": 110.670776,
     "end_time": "2023-03-30T04:41:20.848341",
     "exception": false,
     "start_time": "2023-03-30T04:39:30.177565",
     "status": "completed"
    },
    "tags": []
   },
   "outputs": [],
   "source": [
    "result = pd.DataFrame(columns =['Previous_Arrival', 'Previous_Delay']  + list(df.columns)  )\n",
    "for air_plane in df['TAIL_NUMBER'].unique():\n",
    "    temp = df[df['TAIL_NUMBER']==air_plane]\n",
    "    temp = temp.sort_values(['YEAR','MONTH','DAY','SCHEDULED_DEPARTURE'])\n",
    "    temp['Previous_Arrival'] = temp['SCHEDULED_ARRIVAL'].shift(1)\n",
    "    temp['Previous_Delay'] = temp['ARRIVAL_DELAY'].shift(1)\n",
    "    result = pd.concat([result,temp])\n",
    "result.head()\n"
   ]
  },
  {
   "cell_type": "code",
   "execution_count": null,
   "id": "16205634",
   "metadata": {
    "papermill": {
     "duration": 0.073139,
     "end_time": "2023-03-30T04:41:20.938088",
     "exception": false,
     "start_time": "2023-03-30T04:41:20.864949",
     "status": "completed"
    },
    "tags": []
   },
   "outputs": [],
   "source": [
    "def f(x):\n",
    "    if(x<0):\n",
    "        return 1440 + x\n",
    "    return x\n",
    "\n",
    "result['Ground_Time'] = result['SCHEDULED_DEPARTURE'] - result['Previous_Arrival']\n",
    "result['Ground_Time'] = result['Ground_Time'].apply(f)\n",
    "df = result\n",
    "df.head()"
   ]
  },
  {
   "cell_type": "code",
   "execution_count": null,
   "id": "6c0ee949",
   "metadata": {
    "papermill": {
     "duration": 0.0635,
     "end_time": "2023-03-30T04:41:21.019015",
     "exception": false,
     "start_time": "2023-03-30T04:41:20.955515",
     "status": "completed"
    },
    "tags": []
   },
   "outputs": [],
   "source": [
    "\n",
    "df.drop(['TAIL_NUMBER'],axis = 1,inplace = True)"
   ]
  },
  {
   "cell_type": "code",
   "execution_count": null,
   "id": "e91bdcf8",
   "metadata": {
    "papermill": {
     "duration": 0.076025,
     "end_time": "2023-03-30T04:41:21.112906",
     "exception": false,
     "start_time": "2023-03-30T04:41:21.036881",
     "status": "completed"
    },
    "tags": []
   },
   "outputs": [],
   "source": [
    "df['Route'] = df['ORIGIN_AIRPORT'] + df['DESTINATION_AIRPORT']\n",
    "df.drop(['ORIGIN_AIRPORT','DESTINATION_AIRPORT'],axis = 1,inplace = True)"
   ]
  },
  {
   "cell_type": "code",
   "execution_count": null,
   "id": "827a3620",
   "metadata": {
    "papermill": {
     "duration": 0.050524,
     "end_time": "2023-03-30T04:41:21.180865",
     "exception": false,
     "start_time": "2023-03-30T04:41:21.130341",
     "status": "completed"
    },
    "tags": []
   },
   "outputs": [],
   "source": [
    "df.head()"
   ]
  },
  {
   "cell_type": "code",
   "execution_count": null,
   "id": "7848a866",
   "metadata": {
    "papermill": {
     "duration": 0.0349,
     "end_time": "2023-03-30T04:41:21.233338",
     "exception": false,
     "start_time": "2023-03-30T04:41:21.198438",
     "status": "completed"
    },
    "tags": []
   },
   "outputs": [],
   "source": [
    "len(df['Route'].unique())"
   ]
  },
  {
   "cell_type": "code",
   "execution_count": null,
   "id": "d93edf32",
   "metadata": {
    "papermill": {
     "duration": 0.036874,
     "end_time": "2023-03-30T04:41:21.287854",
     "exception": false,
     "start_time": "2023-03-30T04:41:21.250980",
     "status": "completed"
    },
    "tags": []
   },
   "outputs": [],
   "source": [
    "# Route should be a part of training data , most probably with one hot encoding\n",
    "# because of memory limit we drop the column\n",
    "df.drop('Route',axis = 1,inplace = True)"
   ]
  },
  {
   "cell_type": "markdown",
   "id": "8c920661",
   "metadata": {
    "papermill": {
     "duration": 0.017557,
     "end_time": "2023-03-30T04:41:21.323513",
     "exception": false,
     "start_time": "2023-03-30T04:41:21.305956",
     "status": "completed"
    },
    "tags": []
   },
   "source": [
    "# Missing Data\n",
    "For simplicity we replace the missing data with 0 \n",
    "- ARRIVAL_DELAY = 0 , means no delay\n",
    "- Previous_Delay = 0, no previous delay\n",
    "- Ground_Time = 0 , no ground time before flight (usually for the first flight of the tail_number)"
   ]
  },
  {
   "cell_type": "code",
   "execution_count": null,
   "id": "c1587c86",
   "metadata": {
    "papermill": {
     "duration": 0.294226,
     "end_time": "2023-03-30T04:41:21.635654",
     "exception": false,
     "start_time": "2023-03-30T04:41:21.341428",
     "status": "completed"
    },
    "tags": []
   },
   "outputs": [],
   "source": [
    "df = df.fillna(0)"
   ]
  },
  {
   "cell_type": "markdown",
   "id": "4c08028f",
   "metadata": {
    "papermill": {
     "duration": 0.017616,
     "end_time": "2023-03-30T04:41:21.671159",
     "exception": false,
     "start_time": "2023-03-30T04:41:21.653543",
     "status": "completed"
    },
    "tags": []
   },
   "source": [
    "# Machine Learning -> Modeling Phase\n",
    "First, we create the input and target data sets , X and y\n",
    "than create the training and test sets with train_test_split from sklearn"
   ]
  },
  {
   "cell_type": "code",
   "execution_count": null,
   "id": "f8978ef3",
   "metadata": {
    "papermill": {
     "duration": 0.168789,
     "end_time": "2023-03-30T04:41:21.857525",
     "exception": false,
     "start_time": "2023-03-30T04:41:21.688736",
     "status": "completed"
    },
    "tags": []
   },
   "outputs": [],
   "source": [
    "df.corr()"
   ]
  },
  {
   "cell_type": "code",
   "execution_count": null,
   "id": "754cf53f",
   "metadata": {
    "papermill": {
     "duration": 0.035818,
     "end_time": "2023-03-30T04:41:21.911959",
     "exception": false,
     "start_time": "2023-03-30T04:41:21.876141",
     "status": "completed"
    },
    "tags": []
   },
   "outputs": [],
   "source": [
    "X = df.drop('ARRIVAL_DELAY',axis = 1)\n",
    "y = df['ARRIVAL_DELAY']\n"
   ]
  },
  {
   "cell_type": "markdown",
   "id": "fd332d54",
   "metadata": {
    "papermill": {
     "duration": 0.019147,
     "end_time": "2023-03-30T04:41:21.950599",
     "exception": false,
     "start_time": "2023-03-30T04:41:21.931452",
     "status": "completed"
    },
    "tags": []
   },
   "source": [
    "We convert the problem to \"delay\" or \"no delay\" classes. \n",
    "\n",
    "\n",
    "**Assumption** : \n",
    "- if the delay is greater than 15 minutes we accept it as a delay = 1 , \n",
    "- if there is no delay or less than 15 minutes than delay = 0"
   ]
  },
  {
   "cell_type": "code",
   "execution_count": null,
   "id": "d11b03a3",
   "metadata": {
    "papermill": {
     "duration": 0.046327,
     "end_time": "2023-03-30T04:41:22.016519",
     "exception": false,
     "start_time": "2023-03-30T04:41:21.970192",
     "status": "completed"
    },
    "tags": []
   },
   "outputs": [],
   "source": [
    "y = y> 15\n",
    "y = y.replace({True:1,False:0})\n",
    "y"
   ]
  },
  {
   "cell_type": "code",
   "execution_count": null,
   "id": "aea04ab8",
   "metadata": {
    "papermill": {
     "duration": 0.031158,
     "end_time": "2023-03-30T04:41:22.066981",
     "exception": false,
     "start_time": "2023-03-30T04:41:22.035823",
     "status": "completed"
    },
    "tags": []
   },
   "outputs": [],
   "source": [
    "y.value_counts()"
   ]
  },
  {
   "cell_type": "code",
   "execution_count": null,
   "id": "b28fc842",
   "metadata": {
    "papermill": {
     "duration": 1.249043,
     "end_time": "2023-03-30T04:41:23.334639",
     "exception": false,
     "start_time": "2023-03-30T04:41:22.085596",
     "status": "completed"
    },
    "tags": []
   },
   "outputs": [],
   "source": [
    "from sklearn.model_selection import train_test_split\n",
    "X_train, X_test, y_train, y_test = train_test_split(\n",
    "    X, y, test_size=0.33, random_state=42)\n",
    "X_train.head()"
   ]
  },
  {
   "cell_type": "markdown",
   "id": "f3677fc1",
   "metadata": {
    "papermill": {
     "duration": 0.018704,
     "end_time": "2023-03-30T04:41:23.373065",
     "exception": false,
     "start_time": "2023-03-30T04:41:23.354361",
     "status": "completed"
    },
    "tags": []
   },
   "source": [
    "First attempt is trying random forest algorithm"
   ]
  },
  {
   "cell_type": "code",
   "execution_count": null,
   "id": "4916cdc5",
   "metadata": {
    "papermill": {
     "duration": 9.675313,
     "end_time": "2023-03-30T04:41:33.067187",
     "exception": false,
     "start_time": "2023-03-30T04:41:23.391874",
     "status": "completed"
    },
    "tags": []
   },
   "outputs": [],
   "source": [
    "from sklearn.ensemble import RandomForestClassifier\n",
    "rfc = RandomForestClassifier()\n",
    "rfc.fit(X_train,y_train)\n",
    "y_pred = rfc.predict(X_test)\n",
    "from sklearn.metrics import accuracy_score\n",
    "acc = accuracy_score(y_test,y_pred)\n",
    "acc"
   ]
  },
  {
   "cell_type": "code",
   "execution_count": null,
   "id": "a55da17c",
   "metadata": {
    "papermill": {
     "duration": 0.061239,
     "end_time": "2023-03-30T04:41:33.148898",
     "exception": false,
     "start_time": "2023-03-30T04:41:33.087659",
     "status": "completed"
    },
    "tags": []
   },
   "outputs": [],
   "source": [
    "rfc.feature_importances_"
   ]
  },
  {
   "cell_type": "code",
   "execution_count": null,
   "id": "4ea6fcad",
   "metadata": {
    "papermill": {
     "duration": 0.032181,
     "end_time": "2023-03-30T04:41:33.201766",
     "exception": false,
     "start_time": "2023-03-30T04:41:33.169585",
     "status": "completed"
    },
    "tags": []
   },
   "outputs": [],
   "source": [
    "X.columns"
   ]
  },
  {
   "cell_type": "code",
   "execution_count": null,
   "id": "ecc6d7a5-a3ef-4db0-bc96-126e0a889d94",
   "metadata": {},
   "outputs": [],
   "source": []
  }
 ],
 "metadata": {
  "kernelspec": {
   "display_name": "Python 3 (ipykernel)",
   "language": "python",
   "name": "python3"
  },
  "language_info": {
   "codemirror_mode": {
    "name": "ipython",
    "version": 3
   },
   "file_extension": ".py",
   "mimetype": "text/x-python",
   "name": "python",
   "nbconvert_exporter": "python",
   "pygments_lexer": "ipython3",
   "version": "3.10.12"
  },
  "papermill": {
   "default_parameters": {},
   "duration": 178.056768,
   "end_time": "2023-03-30T04:41:34.348817",
   "environment_variables": {},
   "exception": null,
   "input_path": "__notebook__.ipynb",
   "output_path": "__notebook__.ipynb",
   "parameters": {},
   "start_time": "2023-03-30T04:38:36.292049",
   "version": "2.4.0"
  }
 },
 "nbformat": 4,
 "nbformat_minor": 5
}
