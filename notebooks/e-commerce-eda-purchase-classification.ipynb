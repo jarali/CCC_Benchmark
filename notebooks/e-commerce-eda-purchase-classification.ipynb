{
 "cells": [
  {
   "cell_type": "code",
   "execution_count": null,
   "metadata": {
    "_cell_guid": "b1076dfc-b9ad-4769-8c92-a6c4dae69d19",
    "_uuid": "8f2839f25d086af736a60e9eeb907d3b93b6e0e5",
    "papermill": {
     "duration": 1.028042,
     "end_time": "2022-08-01T16:45:44.302099",
     "exception": false,
     "start_time": "2022-08-01T16:45:43.274057",
     "status": "completed"
    },
    "tags": []
   },
   "outputs": [],
   "source": [
    "# This Python 3 environment comes with many helpful analytics libraries installed\n",
    "# It is defined by the kaggle/python Docker image: https://github.com/kaggle/docker-python\n",
    "# For example, here's several helpful packages to load\n",
    "\n",
    "import numpy as np # linear algebra\n",
    "import pandas as pd # data processing, CSV file I/O (e.g. pd.read_csv)\n",
    "import datetime\n",
    "import matplotlib.pyplot as plt\n",
    "%matplotlib inline\n",
    "import seaborn as sns\n",
    "# Input data files are available in the read-only \"../input/\" directory\n",
    "# For example, running this (by clicking run or pressing Shift+Enter) will list all files under the input directory\n",
    "\n",
    "import os\n",
    "for dirname, _, filenames in os.walk('../datasets/ecommerce-dataset'):\n",
    "    for filename in filenames:\n",
    "        print(os.path.join(dirname, filename))\n",
    "\n",
    "# You can write up to 20GB to the current directory (/kaggle/working/) that gets preserved as output when you create a version using \"Save & Run All\" \n",
    "# You can also write temporary files to /kaggle/temp/, but they won't be saved outside of the current session"
   ]
  },
  {
   "cell_type": "markdown",
   "metadata": {
    "papermill": {
     "duration": 0.0783,
     "end_time": "2022-08-01T16:45:44.459680",
     "exception": false,
     "start_time": "2022-08-01T16:45:44.381380",
     "status": "completed"
    },
    "tags": []
   },
   "source": [
    "# 1. EDA (Exploratory Data Analysis)"
   ]
  },
  {
   "cell_type": "code",
   "execution_count": null,
   "metadata": {
    "papermill": {
     "duration": 3.133275,
     "end_time": "2022-08-01T16:45:47.670443",
     "exception": false,
     "start_time": "2022-08-01T16:45:44.537168",
     "status": "completed"
    },
    "tags": []
   },
   "outputs": [],
   "source": [
    "# load event dataset.\n",
    "e_df=pd.read_csv('../datasets/ecommerce-dataset/events.csv')\n",
    "e_df.head()"
   ]
  },
  {
   "cell_type": "code",
   "execution_count": null,
   "metadata": {
    "papermill": {
     "duration": 0.081342,
     "end_time": "2022-08-01T16:45:47.822660",
     "exception": false,
     "start_time": "2022-08-01T16:45:47.741318",
     "status": "completed"
    },
    "tags": []
   },
   "outputs": [],
   "source": [
    "# view the number of data\n",
    "print(\"This data contains \",e_df.shape[0], \"cases of user activities in e-commerce website\")"
   ]
  },
  {
   "cell_type": "code",
   "execution_count": null,
   "metadata": {
    "papermill": {
     "duration": 0.394565,
     "end_time": "2022-08-01T16:45:48.295379",
     "exception": false,
     "start_time": "2022-08-01T16:45:47.900814",
     "status": "completed"
    },
    "tags": []
   },
   "outputs": [],
   "source": [
    "# view missing values in each columns\n",
    "e_df.isnull().sum()"
   ]
  },
  {
   "cell_type": "markdown",
   "metadata": {
    "papermill": {
     "duration": 0.079112,
     "end_time": "2022-08-01T16:45:48.452379",
     "exception": false,
     "start_time": "2022-08-01T16:45:48.373267",
     "status": "completed"
    },
    "tags": []
   },
   "source": [
    "### Except in 'transactionid', there are no missing values."
   ]
  },
  {
   "cell_type": "code",
   "execution_count": null,
   "metadata": {
    "papermill": {
     "duration": 0.774587,
     "end_time": "2022-08-01T16:45:49.301424",
     "exception": false,
     "start_time": "2022-08-01T16:45:48.526837",
     "status": "completed"
    },
    "tags": []
   },
   "outputs": [],
   "source": [
    "# view counts by event type\n",
    "e_df.event.value_counts()"
   ]
  },
  {
   "cell_type": "code",
   "execution_count": null,
   "metadata": {
    "papermill": {
     "duration": 0.356109,
     "end_time": "2022-08-01T16:45:49.733517",
     "exception": false,
     "start_time": "2022-08-01T16:45:49.377408",
     "status": "completed"
    },
    "tags": []
   },
   "outputs": [],
   "source": [
    "e_df.groupby('event')['transactionid'].count()"
   ]
  },
  {
   "cell_type": "code",
   "execution_count": null,
   "metadata": {
    "papermill": {
     "duration": 0.373621,
     "end_time": "2022-08-01T16:45:50.186528",
     "exception": false,
     "start_time": "2022-08-01T16:45:49.812907",
     "status": "completed"
    },
    "tags": []
   },
   "outputs": [],
   "source": [
    "e_df.groupby('event')['visitorid'].count()"
   ]
  },
  {
   "cell_type": "markdown",
   "metadata": {
    "papermill": {
     "duration": 0.076951,
     "end_time": "2022-08-01T16:45:50.339481",
     "exception": false,
     "start_time": "2022-08-01T16:45:50.262530",
     "status": "completed"
    },
    "tags": []
   },
   "source": [
    "### All transaction events have transaction ID."
   ]
  },
  {
   "cell_type": "code",
   "execution_count": null,
   "metadata": {
    "papermill": {
     "duration": 2.181798,
     "end_time": "2022-08-01T16:45:52.598153",
     "exception": false,
     "start_time": "2022-08-01T16:45:50.416355",
     "status": "completed"
    },
    "tags": []
   },
   "outputs": [],
   "source": [
    "# remove duplicates if any. (all columns' values are idential)\n",
    "print('Number of rows before removing duplicates: ', e_df.shape[0])\n",
    "msk=e_df.duplicated()\n",
    "e_df=e_df[~msk]\n",
    "e_df.reset_index(drop=True, inplace=True)\n",
    "print('Number of rows after removing duplicates: ', e_df.shape[0])"
   ]
  },
  {
   "cell_type": "markdown",
   "metadata": {
    "papermill": {
     "duration": 0.083281,
     "end_time": "2022-08-01T16:45:52.760958",
     "exception": false,
     "start_time": "2022-08-01T16:45:52.677677",
     "status": "completed"
    },
    "tags": []
   },
   "source": [
    "### As dates in current dataset is in unix timestamp (the number of seconds since 1970-01-01), I'll convert them into readable dates."
   ]
  },
  {
   "cell_type": "code",
   "execution_count": null,
   "metadata": {
    "papermill": {
     "duration": 23.059538,
     "end_time": "2022-08-01T16:46:15.900407",
     "exception": false,
     "start_time": "2022-08-01T16:45:52.840869",
     "status": "completed"
    },
    "tags": []
   },
   "outputs": [],
   "source": [
    "# convert unix timestamp to readable dates (GMT)te\n",
    "# separate the 'ordinary' timestamp and the milliseconds\n",
    "list=[]\n",
    "for i, unix in enumerate(e_df['timestamp']):\n",
    "    timestamp, ms = divmod(unix, 1000)\n",
    "\n",
    "    # create the datetime from the timestamp \n",
    "    # add the milliseconds separately\n",
    "    dt = datetime.datetime.fromtimestamp(timestamp) + datetime.timedelta(milliseconds=ms)\n",
    "\n",
    "    formatted_time = dt.strftime('%Y-%m-%d %H:%M:%S.%f')[:-3]\n",
    "    list.append(formatted_time)\n",
    "\n",
    "e_df['date_time']=pd.DataFrame({'date_time':list})\n",
    "e_df.head()\n"
   ]
  },
  {
   "cell_type": "code",
   "execution_count": null,
   "metadata": {
    "papermill": {
     "duration": 0.923175,
     "end_time": "2022-08-01T16:46:16.900828",
     "exception": false,
     "start_time": "2022-08-01T16:46:15.977653",
     "status": "completed"
    },
    "tags": []
   },
   "outputs": [],
   "source": [
    "print('Start Date of Dataset: ', e_df['date_time'].min())\n",
    "print('End Date of Dataset: ', e_df['date_time'].max())"
   ]
  },
  {
   "cell_type": "markdown",
   "metadata": {
    "papermill": {
     "duration": 0.081145,
     "end_time": "2022-08-01T16:46:17.059637",
     "exception": false,
     "start_time": "2022-08-01T16:46:16.978492",
     "status": "completed"
    },
    "tags": []
   },
   "source": [
    "### This dataset is recorded from 3rd May, 2015 to 18th September, 2015 (GMT)."
   ]
  },
  {
   "cell_type": "code",
   "execution_count": null,
   "metadata": {
    "papermill": {
     "duration": 9.200358,
     "end_time": "2022-08-01T16:46:26.337680",
     "exception": false,
     "start_time": "2022-08-01T16:46:17.137322",
     "status": "completed"
    },
    "tags": []
   },
   "outputs": [],
   "source": [
    "# distribution by event\n",
    "# plot\n",
    "totalcases=e_df.shape[0]\n",
    "sns.set_style('whitegrid')\n",
    "\n",
    "fig, (ax1,ax2) = plt.subplots(1,2, figsize=(20,8))\n",
    "sns.histplot(x = 'event', data = e_df, bins = 3, ax = ax1)\n",
    "ax1.set_ylabel('Number of Events (Unit: million)')\n",
    "ax1.set_title('Distribution by Event Type')\n",
    "for x, counts in zip(e_df['event'].unique().tolist(), e_df['event'].value_counts().tolist()):\n",
    "    text=str(round((counts/totalcases)*100,2)) +'%'\n",
    "    ax1.text(x, counts, text, fontsize=12)\n",
    "    \n",
    "# unique number of visitors by event\n",
    "events = e_df['event'].unique().tolist()\n",
    "unique_num = []\n",
    "ratios = []\n",
    "for event in events:\n",
    "    uni_visit = len(e_df['visitorid'][e_df['event']==event].unique())\n",
    "    unique_num.append(uni_visit)\n",
    "    ratios.append(uni_visit/len(set(e_df['visitorid'])))\n",
    "\n",
    "sns.barplot(x = events, y = unique_num, ax = ax2)\n",
    "\n",
    "ratio_p = [str(round(r*100,2)) + '%' for r in ratios]\n",
    "for e, c, r in zip(range(3), unique_num, ratio_p):\n",
    "    ax2.text(e, c, r, fontsize=12)\n",
    "    \n",
    "ax2.set_title('Unique Number of Visitors')\n",
    "plt.show()"
   ]
  },
  {
   "cell_type": "markdown",
   "metadata": {
    "papermill": {
     "duration": 0.081032,
     "end_time": "2022-08-01T16:46:26.497073",
     "exception": false,
     "start_time": "2022-08-01T16:46:26.416041",
     "status": "completed"
    },
    "tags": []
   },
   "source": [
    "### When analysing the distribution of events, 'View' occupies 96.67%, 'Add to cart' 2.52%, 'Transaction' 0.81%.\n",
    "### The number of unique visitors was around the half of total number in all three types of event, for example, total view is 2.6 million, but unique visitor for the views is the half, which means that on average one visitor caused 2 actions."
   ]
  },
  {
   "cell_type": "markdown",
   "metadata": {
    "papermill": {
     "duration": 0.079949,
     "end_time": "2022-08-01T16:46:26.654783",
     "exception": false,
     "start_time": "2022-08-01T16:46:26.574834",
     "status": "completed"
    },
    "tags": []
   },
   "source": [
    "## Q1. How many times did a customer view an item before making purchase decision?"
   ]
  },
  {
   "cell_type": "code",
   "execution_count": null,
   "metadata": {
    "papermill": {
     "duration": 1.881906,
     "end_time": "2022-08-01T16:46:28.616096",
     "exception": false,
     "start_time": "2022-08-01T16:46:26.734190",
     "status": "completed"
    },
    "tags": []
   },
   "outputs": [],
   "source": [
    "# obtain vistor id,item id, and date time of 'tranaction'\n",
    "item_tra=e_df[['visitorid','itemid','date_time']][e_df['event']=='transaction']\n",
    "# obtain vistor id,item id, and date time of 'add to cart'\n",
    "item_atc=e_df[['visitorid','itemid','date_time']][e_df['event']=='addtocart']\n",
    "# obtain vistor id,item id, and date time of 'view'\n",
    "item_viw=e_df[['visitorid','itemid','date_time']][e_df['event']=='view']"
   ]
  },
  {
   "cell_type": "code",
   "execution_count": null,
   "metadata": {
    "papermill": {
     "duration": 1.219756,
     "end_time": "2022-08-01T16:46:29.915808",
     "exception": false,
     "start_time": "2022-08-01T16:46:28.696052",
     "status": "completed"
    },
    "tags": []
   },
   "outputs": [],
   "source": [
    "# create a dataframe of visitor, itemid found in all three events\n",
    "m=item_tra.merge(item_atc, how='inner', on=['visitorid','itemid'], suffixes=[' (transaction)', ' (add_to_cart)'])\n",
    "m=m.merge(item_viw, how='inner', on=['visitorid','itemid'])\n",
    "m=m.rename(columns={'date_time':'date_time (view)'})\n",
    "m.head()"
   ]
  },
  {
   "cell_type": "markdown",
   "metadata": {
    "papermill": {
     "duration": 0.079513,
     "end_time": "2022-08-01T16:46:30.078298",
     "exception": false,
     "start_time": "2022-08-01T16:46:29.998785",
     "status": "completed"
    },
    "tags": []
   },
   "source": [
    "### 'date_time (transaction)'"
   ]
  },
  {
   "cell_type": "code",
   "execution_count": null,
   "metadata": {
    "papermill": {
     "duration": 0.296659,
     "end_time": "2022-08-01T16:46:30.454552",
     "exception": false,
     "start_time": "2022-08-01T16:46:30.157893",
     "status": "completed"
    },
    "tags": []
   },
   "outputs": [],
   "source": [
    "# convert datatype of the date columns\n",
    "m['date_time (transaction)']=pd.to_datetime(m['date_time (transaction)'])\n",
    "m['date_time (add_to_cart)']=pd.to_datetime(m['date_time (add_to_cart)'])\n",
    "m['date_time (view)']=pd.to_datetime(m['date_time (view)'])"
   ]
  },
  {
   "cell_type": "code",
   "execution_count": null,
   "metadata": {
    "papermill": {
     "duration": 0.09738,
     "end_time": "2022-08-01T16:46:30.635165",
     "exception": false,
     "start_time": "2022-08-01T16:46:30.537785",
     "status": "completed"
    },
    "tags": []
   },
   "outputs": [],
   "source": [
    "# the following dataframe is about the cases that a visitor viewed an item before making purchase decision\n",
    "\n",
    "# find rows with time difference is larger than 0 minute\n",
    "msk=(m['date_time (transaction)']-m['date_time (view)'])>np.timedelta64(0,'m')\n",
    "m1=m[msk]"
   ]
  },
  {
   "cell_type": "markdown",
   "metadata": {
    "papermill": {
     "duration": 0.080561,
     "end_time": "2022-08-01T16:46:30.796861",
     "exception": false,
     "start_time": "2022-08-01T16:46:30.716300",
     "status": "completed"
    },
    "tags": []
   },
   "source": [
    "### In the dataframe above, multiple views are mixed in for one transaction, which means there are cases that a visitor checked the item multiple times. I'll check both timelines: one is from the first item view to transaction, and other is from the last item view to transaction."
   ]
  },
  {
   "cell_type": "code",
   "execution_count": null,
   "metadata": {
    "papermill": {
     "duration": 0.270936,
     "end_time": "2022-08-01T16:46:31.149003",
     "exception": false,
     "start_time": "2022-08-01T16:46:30.878067",
     "status": "completed"
    },
    "tags": []
   },
   "outputs": [],
   "source": [
    "# seperate multiple-view transaction and single-view transaction\n",
    "\n",
    "# using duplicated function\n",
    "mul_viw=m1.duplicated(subset=['visitorid','itemid'], keep=False)\n",
    "sig_viw=m1[~mul_viw]\n",
    "mul_viw=m1[mul_viw]\n",
    "\n",
    "# last occurrence in duplicates = view when a visitor made purchase\n",
    "# therefore, filter dataframe to leave only views before last occurence\n",
    "notlast=mul_viw.duplicated(subset=['visitorid','itemid'], keep='last')  # except for last occurance\n",
    "\n",
    "# count the number of view\n",
    "# obtain the average number of it\n",
    "avg_viw=mul_viw[notlast].groupby(['visitorid','itemid']).count()['date_time (view)'].mean()\n",
    "print('Average Number of Views Before Purchase: {0:.0f}'.format(avg_viw))"
   ]
  },
  {
   "cell_type": "code",
   "execution_count": null,
   "metadata": {
    "papermill": {
     "duration": 0.10999,
     "end_time": "2022-08-01T16:46:31.338890",
     "exception": false,
     "start_time": "2022-08-01T16:46:31.228900",
     "status": "completed"
    },
    "tags": []
   },
   "outputs": [],
   "source": [
    "# view basic statistics to see outlier\n",
    "mul_viw[notlast].groupby(['visitorid','itemid']).count()['date_time (view)'].describe()"
   ]
  },
  {
   "cell_type": "markdown",
   "metadata": {
    "papermill": {
     "duration": 0.084588,
     "end_time": "2022-08-01T16:46:31.505632",
     "exception": false,
     "start_time": "2022-08-01T16:46:31.421044",
     "status": "completed"
    },
    "tags": []
   },
   "source": [
    "### There are some outliers such as 844 views for buying a single item, and hence I will check the distribution of view counts to have a better idea about general purchase cases. "
   ]
  },
  {
   "cell_type": "code",
   "execution_count": null,
   "metadata": {
    "papermill": {
     "duration": 0.112877,
     "end_time": "2022-08-01T16:46:31.701843",
     "exception": false,
     "start_time": "2022-08-01T16:46:31.588966",
     "status": "completed"
    },
    "tags": []
   },
   "outputs": [],
   "source": [
    "# count the number of view using groupby function\n",
    "n_viw=mul_viw[notlast].groupby(['visitorid','itemid']).count()['date_time (view)']\n",
    "n_viw=pd.DataFrame(n_viw)\n",
    "n_viw.head()"
   ]
  },
  {
   "cell_type": "markdown",
   "metadata": {
    "papermill": {
     "duration": 0.08147,
     "end_time": "2022-08-01T16:46:31.866031",
     "exception": false,
     "start_time": "2022-08-01T16:46:31.784561",
     "status": "completed"
    },
    "tags": []
   },
   "source": [
    "### The first row in the dataframe above indicates that Visitor(id=172) had viewed the item(id=10034) four times before resolving to purchase. The second row is about another item the same visitor purchased and this time, the visitor viewed that item five times.  "
   ]
  },
  {
   "cell_type": "code",
   "execution_count": null,
   "metadata": {
    "papermill": {
     "duration": 0.116343,
     "end_time": "2022-08-01T16:46:32.065230",
     "exception": false,
     "start_time": "2022-08-01T16:46:31.948887",
     "status": "completed"
    },
    "tags": []
   },
   "outputs": [],
   "source": [
    "# create a dataframe with the count of view from the previous cell\n",
    "n_viw2=pd.DataFrame(n_viw.value_counts(), columns=['count'])\n",
    "n_viw2=n_viw2.reset_index()\n",
    "\n",
    "# add a row with the value of instant purchase\n",
    "# item view at the time of transaction counted as '0' here\n",
    "n_viw2.loc[len(n_viw2)]=['0',sig_viw.shape[0]]\n",
    "\n",
    "# add the column of share in percentage\n",
    "n_viw2=n_viw2.sort_values('count', ascending=False)\n",
    "n_viw2['share (%)']=((n_viw2['count']/(n_viw2['count'].sum()))*100).round(2)\n",
    "n_viw2=n_viw2.reset_index(drop=True)\n",
    "n_viw2"
   ]
  },
  {
   "cell_type": "code",
   "execution_count": null,
   "metadata": {
    "papermill": {
     "duration": 0.103736,
     "end_time": "2022-08-01T16:46:32.253150",
     "exception": false,
     "start_time": "2022-08-01T16:46:32.149414",
     "status": "completed"
    },
    "tags": []
   },
   "outputs": [],
   "source": [
    "# aggregate values lower than 5th highest values into 'others'\n",
    "n_viw3=n_viw2[0:5].copy()\n",
    "others=n_viw2[5::].sum().tolist()\n",
    "others[0]='others'\n",
    "n_viw3.loc[len(n_viw3)]=others\n",
    "\n",
    "# set new index\n",
    "n_viw3['index']=['instant purchase', 'view 1', 'view 2','view 3', 'view 5', 'others']\n",
    "n_viw3=n_viw3.set_index(['index'])"
   ]
  },
  {
   "cell_type": "code",
   "execution_count": null,
   "metadata": {
    "papermill": {
     "duration": 0.35555,
     "end_time": "2022-08-01T16:46:32.693640",
     "exception": false,
     "start_time": "2022-08-01T16:46:32.338090",
     "status": "completed"
    },
    "tags": []
   },
   "outputs": [],
   "source": [
    "# generate a pie plot of share by number of view before transaciton\n",
    "n_viw3.plot(y='share (%)', kind='pie', autopct='%1.1f%%',  shadow=True, startangle=-90, legend=False, figsize=(8,8), fontsize=20)\n",
    "plt.title('The Number of Item Views Before Purchase Decision', fontsize=20, pad=20)\n",
    "plt.ylabel('')\n",
    "plt.show()"
   ]
  },
  {
   "cell_type": "markdown",
   "metadata": {
    "papermill": {
     "duration": 0.086658,
     "end_time": "2022-08-01T16:46:32.871777",
     "exception": false,
     "start_time": "2022-08-01T16:46:32.785119",
     "status": "completed"
    },
    "tags": []
   },
   "source": [
    "### When analysing the item view numbers, I found around 50% of transactions were made without more-than-once view: a visitor checked an item, added to cart and checked out. About 30% of transactions were made after a buyer view an item once or twice. In summary, 80% of total transactions were made after less-than-three-times item view. "
   ]
  },
  {
   "cell_type": "markdown",
   "metadata": {
    "papermill": {
     "duration": 0.086343,
     "end_time": "2022-08-01T16:46:33.045865",
     "exception": false,
     "start_time": "2022-08-01T16:46:32.959522",
     "status": "completed"
    },
    "tags": []
   },
   "source": [
    "## Q2. How many times does it take for one single transaction to be made?"
   ]
  },
  {
   "cell_type": "code",
   "execution_count": null,
   "metadata": {
    "papermill": {
     "duration": 0.142923,
     "end_time": "2022-08-01T16:46:33.275760",
     "exception": false,
     "start_time": "2022-08-01T16:46:33.132837",
     "status": "completed"
    },
    "tags": []
   },
   "outputs": [],
   "source": [
    "# single view\n",
    "# calcuate the average time period for a visitor to take for purchase\n",
    "diff_s=sig_viw['date_time (transaction)']-sig_viw['date_time (view)']\n",
    "avg_time=(diff_s).mean()\n",
    "totalsec=avg_time.seconds\n",
    "hrs, remainder = divmod(totalsec,3600)\n",
    "mins, sec = divmod(remainder,60)\n",
    "print('Time Period From Single View to Transaction: %s hour %s mininutes %s seconds \\n' % (hrs,mins,sec))\n",
    "\n",
    "# multiple view\n",
    "# calcuate the average time period for a visitor to take for purchase\n",
    "\n",
    "# sort values\n",
    "mul_viw=mul_viw.sort_values(['visitorid','itemid','date_time (view)'])\n",
    "mul_viw=mul_viw.reset_index(drop=True)\n",
    "\n",
    "# initial view to transaction\n",
    "notinitial=mul_viw.duplicated(subset=['visitorid','itemid'], keep='first') # except for first occurance\n",
    "mul_viw1=mul_viw[~notinitial] # only first occurence\n",
    "\n",
    "# get the time difference\n",
    "diff_m1=mul_viw1['date_time (transaction)']-mul_viw1['date_time (view)']\n",
    "avg_time1=(diff_m1).mean()\n",
    "totaldays1=avg_time1.days\n",
    "totalsec1=avg_time1.seconds\n",
    "hrs1, remainder1 = divmod(totalsec1,3600)\n",
    "mins1, sec1 = divmod(remainder1,60)\n",
    "print('Time Period From Multiple View (initial) to Transaction: %s days %s hours %s mininutes %s seconds' % (totaldays1,hrs1,mins1,sec1))\n",
    "\n",
    "# last view to transaction\n",
    "notlast=mul_viw.duplicated(subset=['visitorid','itemid'], keep='last')  # except for last occurance\n",
    "mul_viw2=mul_viw[~notlast] # only last occurence\n",
    "\n",
    "# get the time difference\n",
    "diff_m2=mul_viw2['date_time (transaction)']-mul_viw2['date_time (view)']\n",
    "avg_time2=(diff_m2).mean()\n",
    "totaldays2=avg_time2.days\n",
    "totalsec2=avg_time2.seconds\n",
    "hrs2, remainder2 = divmod(totalsec2,3600)\n",
    "mins2, sec2 = divmod(remainder2,60)\n",
    "print('Time Period From Multiple View (last) to Transaction: %s days %s hours %s mininutes %s seconds' % (totaldays2,hrs2,mins2,sec2))"
   ]
  },
  {
   "cell_type": "code",
   "execution_count": null,
   "metadata": {
    "papermill": {
     "duration": 0.096743,
     "end_time": "2022-08-01T16:46:33.460821",
     "exception": false,
     "start_time": "2022-08-01T16:46:33.364078",
     "status": "completed"
    },
    "tags": []
   },
   "outputs": [],
   "source": [
    "def quan_list(percentile):\n",
    "    list=[diff_s.quantile(percentile).seconds,diff_m1.quantile(percentile).seconds,diff_m2.quantile(percentile).seconds]\n",
    "    return list"
   ]
  },
  {
   "cell_type": "code",
   "execution_count": null,
   "metadata": {
    "papermill": {
     "duration": 0.09951,
     "end_time": "2022-08-01T16:46:33.650300",
     "exception": false,
     "start_time": "2022-08-01T16:46:33.550790",
     "status": "completed"
    },
    "tags": []
   },
   "outputs": [],
   "source": [
    "def time_cal(column):\n",
    "    hr, remainder=divmod(column, 3600)\n",
    "    mins,sec=divmod(remainder, 60)\n",
    "    list=[]\n",
    "    for i in range(len(column)):\n",
    "        t='%sh%sm%ss'%(hr[i],mins[i],sec[i])\n",
    "        t=str(t)\n",
    "        list.append(str(t))\n",
    "    return list"
   ]
  },
  {
   "cell_type": "code",
   "execution_count": null,
   "metadata": {
    "papermill": {
     "duration": 0.667099,
     "end_time": "2022-08-01T16:46:34.406920",
     "exception": false,
     "start_time": "2022-08-01T16:46:33.739821",
     "status": "completed"
    },
    "tags": []
   },
   "outputs": [],
   "source": [
    "q1=quan_list(.25)\n",
    "q2=quan_list(.50)\n",
    "q3=quan_list(.75)\n",
    "\n",
    "data={'Transaction Type':['Single View','Multiple Views(initial)','Multiple Views(last)'],\\\n",
    "     '25th percentile': q1,\\\n",
    "     '50th percentile': q2,\\\n",
    "     '75th percentile': q3}\n",
    "data=pd.DataFrame(data)\n",
    "data=data.set_index('Transaction Type')\n",
    "t_data=data.transpose()\n",
    "\n",
    "q1time=time_cal(t_data['Single View'])\n",
    "q2time=time_cal(t_data['Multiple Views(initial)'])\n",
    "q3time=time_cal(t_data['Multiple Views(last)'])\n",
    "\n",
    "f, (ax1, ax2) = plt.subplots(2, 1, sharex=True, figsize=(10,8))\n",
    "\n",
    "# plot the same data on both axes\n",
    "data.plot(ax=ax1, kind='bar')\n",
    "data.plot(ax=ax2, kind='bar')\n",
    "\n",
    "# zoom-in / limit the view to different portions of the data\n",
    "ax1.set_ylim(30000, 35000)  # outliers only\n",
    "ax2.set_ylim(0, 2000)  # most of the data\n",
    "\n",
    "# hide the spines between ax and ax2\n",
    "ax1.spines['top'].set_visible(False)\n",
    "ax2.spines['bottom'].set_visible(False)\n",
    "ax1.xaxis.tick_top()\n",
    "ax1.tick_params(labeltop='off')  # don't put tick labels at the top\n",
    "ax2.xaxis.tick_bottom()\n",
    "ax2.set_xticklabels(ax2.get_xticklabels(), rotation = 45, ha=\"right\", fontsize=15)\n",
    "ax2.legend('')\n",
    "\n",
    "# This looks pretty good, and was fairly painless, but you can get that\n",
    "# cut-out diagonal lines look with just a bit more work. The important\n",
    "# thing to know here is that in axes coordinates, which are always\n",
    "# between 0-1, spine endpoints are at these locations (0,0), (0,1),\n",
    "# (1,0), and (1,1).  Thus, we just need to put the diagonals in the\n",
    "# appropriate corners of each of our axes, and so long as we use the\n",
    "# right transform and disable clipping.\n",
    "\n",
    "d = .015  # how big to make the diagonal lines in axes coordinates\n",
    "# arguments to pass to plot, just so we don't keep repeating them\n",
    "kwargs = dict(transform=ax1.transAxes, color='k', clip_on=False)\n",
    "ax1.plot((-d, +d), (-d, +d), **kwargs)        # top-left diagonal\n",
    "ax1.plot((1 - d, 1 + d), (-d, +d), **kwargs)  # top-right diagonal\n",
    "\n",
    "kwargs.update(transform=ax2.transAxes)  # switch to the bottom axes\n",
    "ax2.plot((-d, +d), (1 - d, 1 + d), **kwargs)  # bottom-left diagonal\n",
    "ax2.plot((1 - d, 1 + d), (1 - d, 1 + d), **kwargs)  # bottom-right diagonal\n",
    "\n",
    "x=[-0.4,-0.1,0]\n",
    "for x,y,qt in zip(x,t_data['Single View'],q1time):\n",
    "    plt.text(x, y+500, qt, fontsize=12)\n",
    "x=[0.6,0.9,1]\n",
    "for x,y,qt in zip(x,t_data['Multiple Views(initial)'],q2time):\n",
    "    if x<1:\n",
    "        plt.text(x, y+200, qt, fontsize=12)\n",
    "    else:\n",
    "        plt.text(x, 4000, qt, fontsize=12)\n",
    "x=[1.6,1.9,2]\n",
    "for x,y,qt in zip(x,t_data['Multiple Views(last)'],q3time):\n",
    "    plt.text(x, y+500, qt, fontsize=12 )\n",
    "ax1.set_ylabel('time period (second)')\n",
    "ax2.set_ylabel('time period (second)')\n",
    "ax1.set_title('Time taken to make purchase decision', pad=50, fontsize=20)\n",
    "plt.show()"
   ]
  },
  {
   "cell_type": "markdown",
   "metadata": {
    "papermill": {
     "duration": 0.089806,
     "end_time": "2022-08-01T16:46:34.587294",
     "exception": false,
     "start_time": "2022-08-01T16:46:34.497488",
     "status": "completed"
    },
    "tags": []
   },
   "source": [
    "### In case of single-view transactions, they generally take around 3 to 11 minutes to reach the end of buying journey (view to transaction). On the other hand, multiple-view transactions showed more dispersed time range, about 9 minutes to 9.5 hours with 30 minutes as a median. However, when multiple-view buyers checked the product for the last time before purchase, they took similar short amount of time to single-view buyers."
   ]
  },
  {
   "cell_type": "markdown",
   "metadata": {
    "papermill": {
     "duration": 0.09167,
     "end_time": "2022-08-01T16:46:34.769635",
     "exception": false,
     "start_time": "2022-08-01T16:46:34.677965",
     "status": "completed"
    },
    "tags": []
   },
   "source": [
    "## Q3. Is there any relationship between Item Category and Transaction?"
   ]
  },
  {
   "cell_type": "code",
   "execution_count": null,
   "metadata": {
    "papermill": {
     "duration": 34.861791,
     "end_time": "2022-08-01T16:47:09.718800",
     "exception": false,
     "start_time": "2022-08-01T16:46:34.857009",
     "status": "completed"
    },
    "tags": []
   },
   "outputs": [],
   "source": [
    "# load item-related datasets\n",
    "cate=pd.read_csv('../datasets/ecommerce-dataset/category_tree.csv')\n",
    "item1=pd.read_csv('../datasets/ecommerce-dataset/item_properties_part1.csv')\n",
    "item2=pd.read_csv('../datasets/ecommerce-dataset/item_properties_part2.csv')"
   ]
  },
  {
   "cell_type": "code",
   "execution_count": null,
   "metadata": {
    "papermill": {
     "duration": 0.110604,
     "end_time": "2022-08-01T16:47:09.928069",
     "exception": false,
     "start_time": "2022-08-01T16:47:09.817465",
     "status": "completed"
    },
    "tags": []
   },
   "outputs": [],
   "source": [
    "# view category tree dataset\n",
    "cate.head()"
   ]
  },
  {
   "cell_type": "code",
   "execution_count": null,
   "metadata": {
    "papermill": {
     "duration": 0.105989,
     "end_time": "2022-08-01T16:47:10.123890",
     "exception": false,
     "start_time": "2022-08-01T16:47:10.017901",
     "status": "completed"
    },
    "tags": []
   },
   "outputs": [],
   "source": [
    "len(cate.categoryid.unique())"
   ]
  },
  {
   "cell_type": "code",
   "execution_count": null,
   "metadata": {
    "papermill": {
     "duration": 0.102227,
     "end_time": "2022-08-01T16:47:10.319098",
     "exception": false,
     "start_time": "2022-08-01T16:47:10.216871",
     "status": "completed"
    },
    "tags": []
   },
   "outputs": [],
   "source": [
    "len(cate.parentid.unique())"
   ]
  },
  {
   "cell_type": "markdown",
   "metadata": {
    "papermill": {
     "duration": 0.091762,
     "end_time": "2022-08-01T16:47:10.505676",
     "exception": false,
     "start_time": "2022-08-01T16:47:10.413914",
     "status": "completed"
    },
    "tags": []
   },
   "source": [
    "### 'Category ID' is a subset or child of 'Parent Id'."
   ]
  },
  {
   "cell_type": "code",
   "execution_count": null,
   "metadata": {
    "papermill": {
     "duration": 0.123648,
     "end_time": "2022-08-01T16:47:10.728327",
     "exception": false,
     "start_time": "2022-08-01T16:47:10.604679",
     "status": "completed"
    },
    "tags": []
   },
   "outputs": [],
   "source": [
    "cate.info()"
   ]
  },
  {
   "cell_type": "code",
   "execution_count": null,
   "metadata": {
    "papermill": {
     "duration": 0.109807,
     "end_time": "2022-08-01T16:47:10.931420",
     "exception": false,
     "start_time": "2022-08-01T16:47:10.821613",
     "status": "completed"
    },
    "tags": []
   },
   "outputs": [],
   "source": [
    "# view item dataset 1\n",
    "item1.head()"
   ]
  },
  {
   "cell_type": "code",
   "execution_count": null,
   "metadata": {
    "papermill": {
     "duration": 2.994522,
     "end_time": "2022-08-01T16:47:14.020686",
     "exception": false,
     "start_time": "2022-08-01T16:47:11.026164",
     "status": "completed"
    },
    "tags": []
   },
   "outputs": [],
   "source": [
    "item1.property.value_counts()"
   ]
  },
  {
   "cell_type": "markdown",
   "metadata": {
    "papermill": {
     "duration": 0.093463,
     "end_time": "2022-08-01T16:47:14.209036",
     "exception": false,
     "start_time": "2022-08-01T16:47:14.115573",
     "status": "completed"
    },
    "tags": []
   },
   "source": [
    "### Only'categoryid' and 'available' were given in the column 'property' while the rest are hashed for confidentiality purpose. I will use only categoryid and hence leave only the rows with that."
   ]
  },
  {
   "cell_type": "code",
   "execution_count": null,
   "metadata": {
    "papermill": {
     "duration": 1.77418,
     "end_time": "2022-08-01T16:47:16.074867",
     "exception": false,
     "start_time": "2022-08-01T16:47:14.300687",
     "status": "completed"
    },
    "tags": []
   },
   "outputs": [],
   "source": [
    "item1=item1[item1.property=='categoryid']\n",
    "item1.reset_index(drop=True, inplace=True)\n",
    "item1.shape"
   ]
  },
  {
   "cell_type": "code",
   "execution_count": null,
   "metadata": {
    "papermill": {
     "duration": 1.696479,
     "end_time": "2022-08-01T16:47:17.868311",
     "exception": false,
     "start_time": "2022-08-01T16:47:16.171832",
     "status": "completed"
    },
    "tags": []
   },
   "outputs": [],
   "source": [
    "# do the same with item2\n",
    "item2=item2[item2.property=='categoryid']\n",
    "item2.reset_index(drop=True, inplace=True)\n",
    "item2.shape"
   ]
  },
  {
   "cell_type": "code",
   "execution_count": null,
   "metadata": {
    "papermill": {
     "duration": 0.140713,
     "end_time": "2022-08-01T16:47:18.106351",
     "exception": false,
     "start_time": "2022-08-01T16:47:17.965638",
     "status": "completed"
    },
    "tags": []
   },
   "outputs": [],
   "source": [
    "# drop column, timestamp and property\n",
    "item1=item1.drop(columns=['timestamp','property'])\n",
    "item2=item2.drop(columns=['timestamp','property'])\n",
    "item1.head()"
   ]
  },
  {
   "cell_type": "code",
   "execution_count": null,
   "metadata": {
    "papermill": {
     "duration": 0.120657,
     "end_time": "2022-08-01T16:47:18.323356",
     "exception": false,
     "start_time": "2022-08-01T16:47:18.202699",
     "status": "completed"
    },
    "tags": []
   },
   "outputs": [],
   "source": [
    "# stack two item dataframes\n",
    "item=pd.concat([item1, item2], ignore_index=True)\n",
    "item.shape"
   ]
  },
  {
   "cell_type": "code",
   "execution_count": null,
   "metadata": {
    "papermill": {
     "duration": 0.117063,
     "end_time": "2022-08-01T16:47:18.538619",
     "exception": false,
     "start_time": "2022-08-01T16:47:18.421556",
     "status": "completed"
    },
    "tags": []
   },
   "outputs": [],
   "source": [
    "# reset index\n",
    "item.reset_index(drop=True, inplace=True)\n",
    "\n",
    "# rename column name 'value' to 'categoryid'\n",
    "item.rename(columns={'value':'categoryid'}, inplace=True)\n",
    "item.head()"
   ]
  },
  {
   "cell_type": "code",
   "execution_count": null,
   "metadata": {
    "papermill": {
     "duration": 0.29938,
     "end_time": "2022-08-01T16:47:18.935733",
     "exception": false,
     "start_time": "2022-08-01T16:47:18.636353",
     "status": "completed"
    },
    "tags": []
   },
   "outputs": [],
   "source": [
    "# check duplitcates\n",
    "item.duplicated().value_counts()"
   ]
  },
  {
   "cell_type": "code",
   "execution_count": null,
   "metadata": {
    "papermill": {
     "duration": 0.311937,
     "end_time": "2022-08-01T16:47:19.349175",
     "exception": false,
     "start_time": "2022-08-01T16:47:19.037238",
     "status": "completed"
    },
    "tags": []
   },
   "outputs": [],
   "source": [
    "# drop duplicates\n",
    "msk=item.duplicated()\n",
    "item=item[~msk]"
   ]
  },
  {
   "cell_type": "code",
   "execution_count": null,
   "metadata": {
    "papermill": {
     "duration": 0.367717,
     "end_time": "2022-08-01T16:47:19.816685",
     "exception": false,
     "start_time": "2022-08-01T16:47:19.448968",
     "status": "completed"
    },
    "tags": []
   },
   "outputs": [],
   "source": [
    "# count the number of category id by item id\n",
    "(item.groupby('itemid').count().categoryid>1).value_counts()"
   ]
  },
  {
   "cell_type": "code",
   "execution_count": null,
   "metadata": {
    "papermill": {
     "duration": 0.359586,
     "end_time": "2022-08-01T16:47:20.279611",
     "exception": false,
     "start_time": "2022-08-01T16:47:19.920025",
     "status": "completed"
    },
    "tags": []
   },
   "outputs": [],
   "source": [
    "# number of category id\n",
    "# create a dataframe\n",
    "num_cate=item.groupby('itemid').count()\n",
    "num_cate.reset_index(inplace=True)\n",
    "num_cate.rename(columns={'categoryid':'num_categoryid'}, inplace=True)\n",
    "num_cate.head()"
   ]
  },
  {
   "cell_type": "code",
   "execution_count": null,
   "metadata": {
    "papermill": {
     "duration": 0.122716,
     "end_time": "2022-08-01T16:47:20.499880",
     "exception": false,
     "start_time": "2022-08-01T16:47:20.377164",
     "status": "completed"
    },
    "tags": []
   },
   "outputs": [],
   "source": [
    "cate.info()"
   ]
  },
  {
   "cell_type": "code",
   "execution_count": null,
   "metadata": {
    "papermill": {
     "duration": 0.176549,
     "end_time": "2022-08-01T16:47:20.775868",
     "exception": false,
     "start_time": "2022-08-01T16:47:20.599319",
     "status": "completed"
    },
    "tags": []
   },
   "outputs": [],
   "source": [
    "item.info()"
   ]
  },
  {
   "cell_type": "code",
   "execution_count": null,
   "metadata": {
    "papermill": {
     "duration": 0.201783,
     "end_time": "2022-08-01T16:47:21.078998",
     "exception": false,
     "start_time": "2022-08-01T16:47:20.877215",
     "status": "completed"
    },
    "tags": []
   },
   "outputs": [],
   "source": [
    "item.categoryid=item.categoryid.astype(int)"
   ]
  },
  {
   "cell_type": "code",
   "execution_count": null,
   "metadata": {
    "papermill": {
     "duration": 0.163506,
     "end_time": "2022-08-01T16:47:21.343555",
     "exception": false,
     "start_time": "2022-08-01T16:47:21.180049",
     "status": "completed"
    },
    "tags": []
   },
   "outputs": [],
   "source": [
    "# merge item dataframe with category tree to link item id with parent id\n",
    "item=item.merge(cate, how='inner', on='categoryid')\n",
    "item.head()"
   ]
  },
  {
   "cell_type": "code",
   "execution_count": null,
   "metadata": {
    "papermill": {
     "duration": 0.223416,
     "end_time": "2022-08-01T16:47:21.668538",
     "exception": false,
     "start_time": "2022-08-01T16:47:21.445122",
     "status": "completed"
    },
    "tags": []
   },
   "outputs": [],
   "source": [
    "# create a dataframe with 'itemid' and 'parent id'\n",
    "ip=item[['itemid','parentid']]\n",
    "\n",
    "# check duplicates\n",
    "ip.duplicated().value_counts()"
   ]
  },
  {
   "cell_type": "code",
   "execution_count": null,
   "metadata": {
    "papermill": {
     "duration": 0.409655,
     "end_time": "2022-08-01T16:47:22.181365",
     "exception": false,
     "start_time": "2022-08-01T16:47:21.771710",
     "status": "completed"
    },
    "tags": []
   },
   "outputs": [],
   "source": [
    "# remove duplicates\n",
    "msk=ip.duplicated()\n",
    "ip=ip[~msk]\n",
    "\n",
    "# view the number of parent ids by item id\n",
    "ip.groupby('itemid').count()"
   ]
  },
  {
   "cell_type": "code",
   "execution_count": null,
   "metadata": {
    "papermill": {
     "duration": 0.33564,
     "end_time": "2022-08-01T16:47:22.633294",
     "exception": false,
     "start_time": "2022-08-01T16:47:22.297654",
     "status": "completed"
    },
    "tags": []
   },
   "outputs": [],
   "source": [
    "# number of parent id\n",
    "# create a dataframe\n",
    "num_pare=ip.groupby('itemid').count()\n",
    "num_pare.reset_index(inplace=True)\n",
    "num_pare.rename(columns={'parentid':'num_parentid'}, inplace=True)"
   ]
  },
  {
   "cell_type": "code",
   "execution_count": null,
   "metadata": {
    "papermill": {
     "duration": 0.128027,
     "end_time": "2022-08-01T16:47:22.882080",
     "exception": false,
     "start_time": "2022-08-01T16:47:22.754053",
     "status": "completed"
    },
    "tags": []
   },
   "outputs": [],
   "source": [
    "num_pare"
   ]
  },
  {
   "cell_type": "code",
   "execution_count": null,
   "metadata": {
    "papermill": {
     "duration": 0.124123,
     "end_time": "2022-08-01T16:47:23.116881",
     "exception": false,
     "start_time": "2022-08-01T16:47:22.992758",
     "status": "completed"
    },
    "tags": []
   },
   "outputs": [],
   "source": [
    "# call dataframe that includes 'transaction' information. \n",
    "item_tra.shape"
   ]
  },
  {
   "cell_type": "code",
   "execution_count": null,
   "metadata": {
    "papermill": {
     "duration": 0.116255,
     "end_time": "2022-08-01T16:47:23.342698",
     "exception": false,
     "start_time": "2022-08-01T16:47:23.226443",
     "status": "completed"
    },
    "tags": []
   },
   "outputs": [],
   "source": [
    "item_viw.reset_index(drop=True, inplace=True)"
   ]
  },
  {
   "cell_type": "code",
   "execution_count": null,
   "metadata": {
    "papermill": {
     "duration": 0.127268,
     "end_time": "2022-08-01T16:47:23.581036",
     "exception": false,
     "start_time": "2022-08-01T16:47:23.453768",
     "status": "completed"
    },
    "tags": []
   },
   "outputs": [],
   "source": [
    "item_viw"
   ]
  },
  {
   "cell_type": "code",
   "execution_count": null,
   "metadata": {
    "papermill": {
     "duration": 0.862217,
     "end_time": "2022-08-01T16:47:24.552446",
     "exception": false,
     "start_time": "2022-08-01T16:47:23.690229",
     "status": "completed"
    },
    "tags": []
   },
   "outputs": [],
   "source": [
    "msk=item_viw.duplicated(['visitorid','itemid'])\n",
    "item_viw=item_viw[~msk]"
   ]
  },
  {
   "cell_type": "code",
   "execution_count": null,
   "metadata": {
    "papermill": {
     "duration": 0.974701,
     "end_time": "2022-08-01T16:47:25.631051",
     "exception": false,
     "start_time": "2022-08-01T16:47:24.656350",
     "status": "completed"
    },
    "tags": []
   },
   "outputs": [],
   "source": [
    "# visitor id and item id that didn't lead to transaction\n",
    "nta=pd.concat([item_viw,item_tra], ignore_index=True)\n",
    "msk=nta.duplicated(['visitorid','itemid'], keep=False)\n",
    "nta=nta[~msk]\n",
    "nta.reset_index(drop=True, inplace=True)\n",
    "nta"
   ]
  },
  {
   "cell_type": "code",
   "execution_count": null,
   "metadata": {
    "papermill": {
     "duration": 0.145035,
     "end_time": "2022-08-01T16:47:25.884826",
     "exception": false,
     "start_time": "2022-08-01T16:47:25.739791",
     "status": "completed"
    },
    "tags": []
   },
   "outputs": [],
   "source": [
    "# randomly select 25000 observation from nta(no-transaction) dataframe above\n",
    "index=np.random.choice(nta.index, 25000)\n",
    "nta_r=nta.loc[index].reset_index(drop=True)\n",
    "nta_r.head()"
   ]
  },
  {
   "cell_type": "code",
   "execution_count": null,
   "metadata": {
    "papermill": {
     "duration": 0.133114,
     "end_time": "2022-08-01T16:47:26.124494",
     "exception": false,
     "start_time": "2022-08-01T16:47:25.991380",
     "status": "completed"
    },
    "tags": []
   },
   "outputs": [],
   "source": [
    "# add a new column\n",
    "nta_r['purchase']=[0]*nta_r.shape[0]\n",
    "nta_r.head()"
   ]
  },
  {
   "cell_type": "code",
   "execution_count": null,
   "metadata": {
    "papermill": {
     "duration": 0.121404,
     "end_time": "2022-08-01T16:47:26.350889",
     "exception": false,
     "start_time": "2022-08-01T16:47:26.229485",
     "status": "completed"
    },
    "tags": []
   },
   "outputs": [],
   "source": [
    "nta_r.shape"
   ]
  },
  {
   "cell_type": "code",
   "execution_count": null,
   "metadata": {
    "papermill": {
     "duration": 0.132218,
     "end_time": "2022-08-01T16:47:26.586759",
     "exception": false,
     "start_time": "2022-08-01T16:47:26.454541",
     "status": "completed"
    },
    "tags": []
   },
   "outputs": [],
   "source": [
    "# add a new column\n",
    "item_tra['purchase']=[1]*item_tra.shape[0]\n",
    "item_tra.head()"
   ]
  },
  {
   "cell_type": "code",
   "execution_count": null,
   "metadata": {
    "papermill": {
     "duration": 0.11601,
     "end_time": "2022-08-01T16:47:26.806183",
     "exception": false,
     "start_time": "2022-08-01T16:47:26.690173",
     "status": "completed"
    },
    "tags": []
   },
   "outputs": [],
   "source": [
    "item_tra.reset_index(drop=True, inplace=True)"
   ]
  },
  {
   "cell_type": "code",
   "execution_count": null,
   "metadata": {
    "papermill": {
     "duration": 0.119844,
     "end_time": "2022-08-01T16:47:27.034720",
     "exception": false,
     "start_time": "2022-08-01T16:47:26.914876",
     "status": "completed"
    },
    "tags": []
   },
   "outputs": [],
   "source": [
    "item_tra.shape"
   ]
  },
  {
   "cell_type": "code",
   "execution_count": null,
   "metadata": {
    "papermill": {
     "duration": 0.254841,
     "end_time": "2022-08-01T16:47:27.397027",
     "exception": false,
     "start_time": "2022-08-01T16:47:27.142186",
     "status": "completed"
    },
    "tags": []
   },
   "outputs": [],
   "source": [
    "# concatenate transaction data and non-transaction data (the cases that a visitor after all didn't buy the item viewed during this data collection period)\n",
    "data=pd.concat([nta_r,item_tra], ignore_index=True).sort_values('date_time').reset_index(drop=True)\n",
    "data.head()"
   ]
  },
  {
   "cell_type": "code",
   "execution_count": null,
   "metadata": {
    "papermill": {
     "duration": 0.28583,
     "end_time": "2022-08-01T16:47:27.796668",
     "exception": false,
     "start_time": "2022-08-01T16:47:27.510838",
     "status": "completed"
    },
    "tags": []
   },
   "outputs": [],
   "source": [
    "# merge with category id, parent id dataframe\n",
    "data=data.merge(num_cate, how='inner', on='itemid')\n",
    "data=data.merge(num_pare, how='inner', on='itemid')"
   ]
  },
  {
   "cell_type": "code",
   "execution_count": null,
   "metadata": {
    "papermill": {
     "duration": 0.134597,
     "end_time": "2022-08-01T16:47:28.039323",
     "exception": false,
     "start_time": "2022-08-01T16:47:27.904726",
     "status": "completed"
    },
    "tags": []
   },
   "outputs": [],
   "source": [
    "data.groupby('num_categoryid').sum().purchase"
   ]
  },
  {
   "cell_type": "code",
   "execution_count": null,
   "metadata": {
    "papermill": {
     "duration": 0.130784,
     "end_time": "2022-08-01T16:47:28.282033",
     "exception": false,
     "start_time": "2022-08-01T16:47:28.151249",
     "status": "completed"
    },
    "tags": []
   },
   "outputs": [],
   "source": [
    "data.groupby('num_parentid').sum().purchase"
   ]
  },
  {
   "cell_type": "markdown",
   "metadata": {
    "papermill": {
     "duration": 0.114834,
     "end_time": "2022-08-01T16:47:28.508771",
     "exception": false,
     "start_time": "2022-08-01T16:47:28.393937",
     "status": "completed"
    },
    "tags": []
   },
   "source": [
    "### I had assumed that the more Category ID or Parent ID an item has, the more transactions it might have as the item could have exposed in multiple category pages. However, when I checked the distribution of data, the number of items with multiple categories was not many."
   ]
  },
  {
   "cell_type": "code",
   "execution_count": null,
   "metadata": {
    "papermill": {
     "duration": 0.508982,
     "end_time": "2022-08-01T16:47:29.127266",
     "exception": false,
     "start_time": "2022-08-01T16:47:28.618284",
     "status": "completed"
    },
    "tags": []
   },
   "outputs": [],
   "source": [
    "# pick items under one category and view each sales number.\n",
    "cate1=data[data.num_categoryid==1]\n",
    "cate1=cate1.merge(item[['itemid','categoryid']], how='inner', on=['itemid'])\n",
    "cate1_sales=cate1.groupby('categoryid').sum().purchase\n",
    "\n",
    "# plot the sales number along the category id. \n",
    "pd.DataFrame(cate1_sales).plot()\n",
    "plt.ylabel('purchase')\n",
    "plt.show()"
   ]
  },
  {
   "cell_type": "markdown",
   "metadata": {
    "papermill": {
     "duration": 0.115475,
     "end_time": "2022-08-01T16:47:29.354014",
     "exception": false,
     "start_time": "2022-08-01T16:47:29.238539",
     "status": "completed"
    },
    "tags": []
   },
   "source": [
    "### There is no general trend in the number of sales along category id."
   ]
  },
  {
   "cell_type": "code",
   "execution_count": null,
   "metadata": {
    "papermill": {
     "duration": 0.494774,
     "end_time": "2022-08-01T16:47:29.962240",
     "exception": false,
     "start_time": "2022-08-01T16:47:29.467466",
     "status": "completed"
    },
    "tags": []
   },
   "outputs": [],
   "source": [
    "# pick items under one parent id and view each sales number.\n",
    "pare1=data[data.num_parentid==1]\n",
    "pare1=pare1.merge(item[['itemid','parentid']], how='inner', on=['itemid'])\n",
    "pare1_sales=pare1.groupby('parentid').sum().purchase\n",
    "\n",
    "# plot the sales number along the parent id.\n",
    "pd.DataFrame(pare1_sales).plot()\n",
    "plt.ylabel('purchase')\n",
    "plt.show()"
   ]
  },
  {
   "cell_type": "markdown",
   "metadata": {
    "papermill": {
     "duration": 0.111159,
     "end_time": "2022-08-01T16:47:30.188305",
     "exception": false,
     "start_time": "2022-08-01T16:47:30.077146",
     "status": "completed"
    },
    "tags": []
   },
   "source": [
    "### There is no general trend in the number of sales along parent id."
   ]
  },
  {
   "cell_type": "code",
   "execution_count": null,
   "metadata": {
    "papermill": {
     "duration": 0.370622,
     "end_time": "2022-08-01T16:47:30.671403",
     "exception": false,
     "start_time": "2022-08-01T16:47:30.300781",
     "status": "completed"
    },
    "tags": []
   },
   "outputs": [],
   "source": [
    "# the item distribution by cateogory id\n",
    "item.categoryid.hist()\n",
    "plt.show()"
   ]
  },
  {
   "cell_type": "code",
   "execution_count": null,
   "metadata": {
    "papermill": {
     "duration": 0.383064,
     "end_time": "2022-08-01T16:47:31.172067",
     "exception": false,
     "start_time": "2022-08-01T16:47:30.789003",
     "status": "completed"
    },
    "tags": []
   },
   "outputs": [],
   "source": [
    "# the item distribution by parent id\n",
    "item.parentid.hist()\n",
    "plt.show()"
   ]
  },
  {
   "cell_type": "markdown",
   "metadata": {
    "papermill": {
     "duration": 0.112601,
     "end_time": "2022-08-01T16:47:31.399840",
     "exception": false,
     "start_time": "2022-08-01T16:47:31.287239",
     "status": "completed"
    },
    "tags": []
   },
   "source": [
    "### There was no clear relationship between category and transaction (sales). "
   ]
  },
  {
   "cell_type": "markdown",
   "metadata": {
    "papermill": {
     "duration": 0.114175,
     "end_time": "2022-08-01T16:47:31.628387",
     "exception": false,
     "start_time": "2022-08-01T16:47:31.514212",
     "status": "completed"
    },
    "tags": []
   },
   "source": [
    "## Q4. Is there any relationship between View Time and Transaction?"
   ]
  },
  {
   "cell_type": "code",
   "execution_count": null,
   "metadata": {
    "papermill": {
     "duration": 0.238587,
     "end_time": "2022-08-01T16:47:31.981351",
     "exception": false,
     "start_time": "2022-08-01T16:47:31.742764",
     "status": "completed"
    },
    "tags": []
   },
   "outputs": [],
   "source": [
    "# sort data by date time an in ascending order. \n",
    "data=data.sort_values('date_time').reset_index(drop=True)\n",
    "data.head()"
   ]
  },
  {
   "cell_type": "code",
   "execution_count": null,
   "metadata": {
    "papermill": {
     "duration": 0.251873,
     "end_time": "2022-08-01T16:47:32.351824",
     "exception": false,
     "start_time": "2022-08-01T16:47:32.099951",
     "status": "completed"
    },
    "tags": []
   },
   "outputs": [],
   "source": [
    "# convert data type of the column, date_time to use date_time functions.\n",
    "data.date_time=pd.to_datetime(data.date_time)\n",
    "data.info()"
   ]
  },
  {
   "cell_type": "code",
   "execution_count": null,
   "metadata": {
    "papermill": {
     "duration": 0.130747,
     "end_time": "2022-08-01T16:47:32.597233",
     "exception": false,
     "start_time": "2022-08-01T16:47:32.466486",
     "status": "completed"
    },
    "tags": []
   },
   "outputs": [],
   "source": [
    "# extract days of week of each date and add them into a new column.\n",
    "data['dayofweek']=data.date_time.dt.dayofweek"
   ]
  },
  {
   "cell_type": "code",
   "execution_count": null,
   "metadata": {
    "papermill": {
     "duration": 0.142348,
     "end_time": "2022-08-01T16:47:32.861264",
     "exception": false,
     "start_time": "2022-08-01T16:47:32.718916",
     "status": "completed"
    },
    "tags": []
   },
   "outputs": [],
   "source": [
    "# count the number of date by day of week.\n",
    "data.groupby('dayofweek').count()"
   ]
  },
  {
   "cell_type": "code",
   "execution_count": null,
   "metadata": {
    "papermill": {
     "duration": 0.141251,
     "end_time": "2022-08-01T16:47:33.130282",
     "exception": false,
     "start_time": "2022-08-01T16:47:32.989031",
     "status": "completed"
    },
    "tags": []
   },
   "outputs": [],
   "source": [
    "# view how many purchase there are by day of week.\n",
    "data[data.purchase==1].groupby('dayofweek').count()"
   ]
  },
  {
   "cell_type": "code",
   "execution_count": null,
   "metadata": {
    "papermill": {
     "duration": 0.412323,
     "end_time": "2022-08-01T16:47:33.658775",
     "exception": false,
     "start_time": "2022-08-01T16:47:33.246452",
     "status": "completed"
    },
    "tags": []
   },
   "outputs": [],
   "source": [
    "# compare the number of purchase with that of non-purchase by day of week.\n",
    "plt.plot(data[data.purchase==0].groupby('dayofweek').count(), color='red')\n",
    "plt.plot(data[data.purchase==1].groupby('dayofweek').count(), color='blue')\n",
    "plt.legend(['No purchase','Purchase'], labelcolor=['red','blue'])\n",
    "plt.show()"
   ]
  },
  {
   "cell_type": "code",
   "execution_count": null,
   "metadata": {
    "papermill": {
     "duration": 0.149368,
     "end_time": "2022-08-01T16:47:33.931633",
     "exception": false,
     "start_time": "2022-08-01T16:47:33.782265",
     "status": "completed"
    },
    "tags": []
   },
   "outputs": [],
   "source": [
    "# extract hour and week number and add them to a new column, respectively\n",
    "data['hour']=data.date_time.dt.hour\n",
    "data['week']=data.date_time.dt.isocalendar().week "
   ]
  },
  {
   "cell_type": "code",
   "execution_count": null,
   "metadata": {
    "papermill": {
     "duration": 0.96649,
     "end_time": "2022-08-01T16:47:35.023214",
     "exception": false,
     "start_time": "2022-08-01T16:47:34.056724",
     "status": "completed"
    },
    "tags": []
   },
   "outputs": [],
   "source": [
    "# convert data type\n",
    "item_viw['date_time']=pd.to_datetime(item_viw['date_time'])\n",
    "item_viw.info()"
   ]
  },
  {
   "cell_type": "code",
   "execution_count": null,
   "metadata": {
    "papermill": {
     "duration": 0.161431,
     "end_time": "2022-08-01T16:47:35.309538",
     "exception": false,
     "start_time": "2022-08-01T16:47:35.148107",
     "status": "completed"
    },
    "tags": []
   },
   "outputs": [],
   "source": [
    "# convert data type\n",
    "item_tra['date_time']=pd.to_datetime(item_tra['date_time'])\n",
    "item_tra.info()"
   ]
  },
  {
   "cell_type": "code",
   "execution_count": null,
   "metadata": {
    "papermill": {
     "duration": 716.176761,
     "end_time": "2022-08-01T16:59:31.611671",
     "exception": false,
     "start_time": "2022-08-01T16:47:35.434910",
     "status": "completed"
    },
    "tags": []
   },
   "outputs": [],
   "source": [
    "# count each visitor's previous view of each item\n",
    "list=[]\n",
    "for i in range(len(data)):\n",
    "    row=item_viw[(item_viw['visitorid']==data.loc[i,'visitorid'])&(item_viw['itemid']==data.loc[i,'itemid'])&(item_viw['date_time']<data.loc[i,'date_time'])]\n",
    "\n",
    "    if len(row)==0:\n",
    "        list.append(0)\n",
    "\n",
    "    else:\n",
    "        list.append(len(row))\n",
    "list[0:10]"
   ]
  },
  {
   "cell_type": "code",
   "execution_count": null,
   "metadata": {
    "papermill": {
     "duration": 0.168444,
     "end_time": "2022-08-01T16:59:31.899289",
     "exception": false,
     "start_time": "2022-08-01T16:59:31.730845",
     "status": "completed"
    },
    "tags": []
   },
   "outputs": [],
   "source": [
    "# add a new column, 'previous view'\n",
    "data['previous_view']=pd.DataFrame({'view_count':list})\n",
    "data.head()"
   ]
  },
  {
   "cell_type": "code",
   "execution_count": null,
   "metadata": {
    "papermill": {
     "duration": 72.357982,
     "end_time": "2022-08-01T17:00:44.379814",
     "exception": false,
     "start_time": "2022-08-01T16:59:32.021832",
     "status": "completed"
    },
    "tags": []
   },
   "outputs": [],
   "source": [
    "# count each visitor's total number of transaction in the past\n",
    "list2=[]\n",
    "for i in range(len(data)):\n",
    "    row=item_tra[(item_tra['visitorid']==data.loc[i,'visitorid'])&(item_tra['date_time']<data.loc[i,'date_time'])]\n",
    "\n",
    "    if len(row)==0:\n",
    "        list2.append(0)\n",
    "\n",
    "    else:\n",
    "        list2.append(len(row))\n",
    "list2[0:10]"
   ]
  },
  {
   "cell_type": "code",
   "execution_count": null,
   "metadata": {
    "papermill": {
     "duration": 0.161367,
     "end_time": "2022-08-01T17:00:44.666194",
     "exception": false,
     "start_time": "2022-08-01T17:00:44.504827",
     "status": "completed"
    },
    "tags": []
   },
   "outputs": [],
   "source": [
    "# add a new column, 'previous transaction'\n",
    "data['previous_transaction']=pd.DataFrame({'previous_transaction':list2})"
   ]
  },
  {
   "cell_type": "code",
   "execution_count": null,
   "metadata": {
    "papermill": {
     "duration": 0.333748,
     "end_time": "2022-08-01T17:00:45.712889",
     "exception": false,
     "start_time": "2022-08-01T17:00:45.379141",
     "status": "completed"
    },
    "tags": []
   },
   "outputs": [],
   "source": [
    "plt.plot(data[['dayofweek','purchase']].groupby('dayofweek').sum())\n",
    "plt.xticks(np.arange(7),['Monday', 'Tuesday', 'Wednesday', 'Thursday', 'Friday', 'Saturday', 'Sunday'], rotation=45)\n",
    "plt.ylabel('Purchase')\n",
    "plt.show()"
   ]
  },
  {
   "cell_type": "code",
   "execution_count": null,
   "metadata": {
    "papermill": {
     "duration": 0.359269,
     "end_time": "2022-08-01T17:00:46.206325",
     "exception": false,
     "start_time": "2022-08-01T17:00:45.847056",
     "status": "completed"
    },
    "tags": []
   },
   "outputs": [],
   "source": [
    "plt.plot(data[['hour','purchase']].groupby('hour').sum())\n",
    "plt.ylabel('Hour')\n",
    "plt.ylabel('Purchase')\n",
    "plt.show()"
   ]
  },
  {
   "cell_type": "code",
   "execution_count": null,
   "metadata": {
    "papermill": {
     "duration": 0.40483,
     "end_time": "2022-08-01T17:00:46.739367",
     "exception": false,
     "start_time": "2022-08-01T17:00:46.334537",
     "status": "completed"
    },
    "tags": []
   },
   "outputs": [],
   "source": [
    "plt.plot(data[['week','purchase']].groupby('week').sum())\n",
    "plt.xlabel('Week')\n",
    "plt.ylabel('Purchase')\n",
    "plt.show()"
   ]
  },
  {
   "cell_type": "code",
   "execution_count": null,
   "metadata": {
    "papermill": {
     "duration": 0.369794,
     "end_time": "2022-08-01T17:00:47.263572",
     "exception": false,
     "start_time": "2022-08-01T17:00:46.893778",
     "status": "completed"
    },
    "tags": []
   },
   "outputs": [],
   "source": [
    "plt.plot(data[['previous_view','purchase']].groupby('previous_view').sum())\n",
    "plt.xlabel('Number of previous item view (current)')\n",
    "plt.ylabel('Purchase')\n",
    "plt.show()"
   ]
  },
  {
   "cell_type": "code",
   "execution_count": null,
   "metadata": {
    "papermill": {
     "duration": 0.375256,
     "end_time": "2022-08-01T17:00:47.766905",
     "exception": false,
     "start_time": "2022-08-01T17:00:47.391649",
     "status": "completed"
    },
    "tags": []
   },
   "outputs": [],
   "source": [
    "plt.plot(data[['previous_transaction','purchase']].groupby('previous_transaction').sum())\n",
    "plt.xlim(0,5)\n",
    "plt.xlabel(\"Number of a visitor's previous transaction (total)\")\n",
    "plt.ylabel('Purchase')\n",
    "plt.show()"
   ]
  },
  {
   "cell_type": "markdown",
   "metadata": {
    "papermill": {
     "duration": 0.129976,
     "end_time": "2022-08-01T17:00:48.023376",
     "exception": false,
     "start_time": "2022-08-01T17:00:47.893400",
     "status": "completed"
    },
    "tags": []
   },
   "source": [
    "### choosen feature: dayofweek, hour, previous view, previous transaction "
   ]
  },
  {
   "cell_type": "markdown",
   "metadata": {
    "papermill": {
     "duration": 0.12683,
     "end_time": "2022-08-01T17:00:48.278927",
     "exception": false,
     "start_time": "2022-08-01T17:00:48.152097",
     "status": "completed"
    },
    "tags": []
   },
   "source": [
    "## 2. Machine Learning Classification Modeling"
   ]
  },
  {
   "cell_type": "code",
   "execution_count": null,
   "metadata": {
    "papermill": {
     "duration": 0.632094,
     "end_time": "2022-08-01T17:00:49.039949",
     "exception": false,
     "start_time": "2022-08-01T17:00:48.407855",
     "status": "completed"
    },
    "tags": []
   },
   "outputs": [],
   "source": [
    "from sklearn import preprocessing "
   ]
  },
  {
   "cell_type": "code",
   "execution_count": null,
   "metadata": {
    "papermill": {
     "duration": 0.137837,
     "end_time": "2022-08-01T17:00:49.306171",
     "exception": false,
     "start_time": "2022-08-01T17:00:49.168334",
     "status": "completed"
    },
    "tags": []
   },
   "outputs": [],
   "source": [
    "# convert features to numpy array\n",
    "X=data[['dayofweek','hour','previous_view','previous_transaction']].values\n",
    "X[0:5]"
   ]
  },
  {
   "cell_type": "code",
   "execution_count": null,
   "metadata": {
    "papermill": {
     "duration": 0.140897,
     "end_time": "2022-08-01T17:00:49.575022",
     "exception": false,
     "start_time": "2022-08-01T17:00:49.434125",
     "status": "completed"
    },
    "tags": []
   },
   "outputs": [],
   "source": [
    "# convert a target values to numpy array\n",
    "y=data['purchase'].values\n",
    "y[0:5]"
   ]
  },
  {
   "cell_type": "markdown",
   "metadata": {
    "papermill": {
     "duration": 0.136815,
     "end_time": "2022-08-01T17:00:49.842689",
     "exception": false,
     "start_time": "2022-08-01T17:00:49.705874",
     "status": "completed"
    },
    "tags": []
   },
   "source": [
    "## Step 01. Normalize data"
   ]
  },
  {
   "cell_type": "code",
   "execution_count": null,
   "metadata": {
    "papermill": {
     "duration": 0.151317,
     "end_time": "2022-08-01T17:00:50.126344",
     "exception": false,
     "start_time": "2022-08-01T17:00:49.975027",
     "status": "completed"
    },
    "tags": []
   },
   "outputs": [],
   "source": [
    "X=preprocessing.StandardScaler().fit(X).transform(X.astype(float))\n",
    "X[0:5]"
   ]
  },
  {
   "cell_type": "markdown",
   "metadata": {
    "papermill": {
     "duration": 0.133818,
     "end_time": "2022-08-01T17:00:50.391711",
     "exception": false,
     "start_time": "2022-08-01T17:00:50.257893",
     "status": "completed"
    },
    "tags": []
   },
   "source": [
    "## Step 02. Train/Test Split"
   ]
  },
  {
   "cell_type": "code",
   "execution_count": null,
   "metadata": {
    "papermill": {
     "duration": 0.216805,
     "end_time": "2022-08-01T17:00:50.740308",
     "exception": false,
     "start_time": "2022-08-01T17:00:50.523503",
     "status": "completed"
    },
    "tags": []
   },
   "outputs": [],
   "source": [
    "from sklearn.model_selection import train_test_split\n",
    "X_train, X_test, y_train, y_test = train_test_split(X, y, test_size=0.2, random_state=5)\n",
    "print('Train Set: ', X_train.shape, y_train.shape)\n",
    "print('Test Set: ', X_test.shape, y_test.shape)"
   ]
  },
  {
   "cell_type": "markdown",
   "metadata": {
    "papermill": {
     "duration": 0.130888,
     "end_time": "2022-08-01T17:00:51.007531",
     "exception": false,
     "start_time": "2022-08-01T17:00:50.876643",
     "status": "completed"
    },
    "tags": []
   },
   "source": [
    "## Step 03-1. K-Nearest Neighbors Algorithm"
   ]
  },
  {
   "cell_type": "code",
   "execution_count": null,
   "metadata": {
    "papermill": {
     "duration": 11.133732,
     "end_time": "2022-08-01T17:01:02.272836",
     "exception": false,
     "start_time": "2022-08-01T17:00:51.139104",
     "status": "completed"
    },
    "tags": []
   },
   "outputs": [],
   "source": [
    "from sklearn.neighbors import KNeighborsClassifier\n",
    "from sklearn import metrics\n",
    "Ks=10\n",
    "mean_acc=np.zeros((Ks-1)) # create numpy array of which elements are nine 0s.\n",
    "std_acc=np.zeros((Ks-1))\n",
    "\n",
    "for n in range(1, Ks):\n",
    "    \n",
    "    # train model\n",
    "    clf=KNeighborsClassifier(n_neighbors=n).fit(X_train, y_train)\n",
    "    yhat=clf.predict(X_test)\n",
    "    mean_acc[n-1]=metrics.accuracy_score(y_test, yhat) # make a list of accuracy score by model\n",
    "    std_acc[n-1]=np.std(yhat==y_test)/np.sqrt(yhat.shape[0])"
   ]
  },
  {
   "cell_type": "code",
   "execution_count": null,
   "metadata": {
    "papermill": {
     "duration": 0.538489,
     "end_time": "2022-08-01T17:01:02.943248",
     "exception": false,
     "start_time": "2022-08-01T17:01:02.404759",
     "status": "completed"
    },
    "tags": []
   },
   "outputs": [],
   "source": [
    "plt.plot(range(1,Ks), mean_acc, 'g') # x axis is 1 to 10, y axis is accuracy record, green line.\n",
    "plt.fill_between(range(1, Ks), (mean_acc)-(1 * std_acc), (mean_acc)+(1*std_acc), alpha=0.10)\n",
    "plt.legend(('Accuracy', '+/- 3xstd')) # double parentheses\n",
    "plt.ylabel('Accuracy')\n",
    "plt.xlabel('Number of Neighbors(K)')\n",
    "plt.tight_layout()\n",
    "plt.show()"
   ]
  },
  {
   "cell_type": "code",
   "execution_count": null,
   "metadata": {
    "papermill": {
     "duration": 0.830184,
     "end_time": "2022-08-01T17:01:03.906706",
     "exception": false,
     "start_time": "2022-08-01T17:01:03.076522",
     "status": "completed"
    },
    "tags": []
   },
   "outputs": [],
   "source": [
    "n=7\n",
    "KNN_7=KNeighborsClassifier(n_neighbors=n).fit(X_train, y_train)"
   ]
  },
  {
   "cell_type": "markdown",
   "metadata": {
    "papermill": {
     "duration": 0.130893,
     "end_time": "2022-08-01T17:01:04.172230",
     "exception": false,
     "start_time": "2022-08-01T17:01:04.041337",
     "status": "completed"
    },
    "tags": []
   },
   "source": [
    "### The best model is when k value is 7 with 92% of model accuracy."
   ]
  },
  {
   "cell_type": "markdown",
   "metadata": {
    "papermill": {
     "duration": 0.131994,
     "end_time": "2022-08-01T17:01:04.436423",
     "exception": false,
     "start_time": "2022-08-01T17:01:04.304429",
     "status": "completed"
    },
    "tags": []
   },
   "source": [
    "## Step 03-2. Decision Tree Algorithm"
   ]
  },
  {
   "cell_type": "code",
   "execution_count": null,
   "metadata": {
    "papermill": {
     "duration": 0.193196,
     "end_time": "2022-08-01T17:01:04.765869",
     "exception": false,
     "start_time": "2022-08-01T17:01:04.572673",
     "status": "completed"
    },
    "tags": []
   },
   "outputs": [],
   "source": [
    "from sklearn.tree import DecisionTreeClassifier\n",
    "PurchaseTree=DecisionTreeClassifier(criterion='entropy', max_depth=4)\n",
    "PurchaseTree.fit(X_train, y_train)\n",
    "predTree=PurchaseTree.predict(X_test)\n",
    "print(predTree[0:5])\n",
    "print(y_test[0:5])"
   ]
  },
  {
   "cell_type": "code",
   "execution_count": null,
   "metadata": {
    "papermill": {
     "duration": 0.146014,
     "end_time": "2022-08-01T17:01:05.049197",
     "exception": false,
     "start_time": "2022-08-01T17:01:04.903183",
     "status": "completed"
    },
    "tags": []
   },
   "outputs": [],
   "source": [
    "# evaluation\n",
    "\n",
    "print(\"Decision Tree's Accuracy: {0:.2f}%\".format(metrics.accuracy_score(y_test, predTree)*100))"
   ]
  },
  {
   "cell_type": "markdown",
   "metadata": {
    "papermill": {
     "duration": 0.131731,
     "end_time": "2022-08-01T17:01:05.314477",
     "exception": false,
     "start_time": "2022-08-01T17:01:05.182746",
     "status": "completed"
    },
    "tags": []
   },
   "source": [
    "## Step 03-3. Logistic Regression Algorithm"
   ]
  },
  {
   "cell_type": "code",
   "execution_count": null,
   "metadata": {
    "papermill": {
     "duration": 0.218977,
     "end_time": "2022-08-01T17:01:05.666149",
     "exception": false,
     "start_time": "2022-08-01T17:01:05.447172",
     "status": "completed"
    },
    "tags": []
   },
   "outputs": [],
   "source": [
    "from sklearn.linear_model import LogisticRegression\n",
    "\n",
    "# 'c' parameter = inverse of regularization (the smaller, the stronger regularization)\n",
    "LR=LogisticRegression(C=0.01, solver='liblinear').fit(X_train, y_train)\n",
    "yhat=LR.predict(X_test)\n",
    "yhat_proba=LR.predict_proba(X_test)\n",
    "yhat_proba[0:10]"
   ]
  },
  {
   "cell_type": "code",
   "execution_count": null,
   "metadata": {
    "papermill": {
     "duration": 0.507258,
     "end_time": "2022-08-01T17:01:06.363261",
     "exception": false,
     "start_time": "2022-08-01T17:01:05.856003",
     "status": "completed"
    },
    "tags": []
   },
   "outputs": [],
   "source": [
    "# evaluation\n",
    "\n",
    "# visualize 'Confusion Matrix'\n",
    "import itertools\n",
    "\n",
    "def plot_confusion_matrix (cm, classes, \n",
    "                         normalize=False, \n",
    "                         title='Confusion matrix',\n",
    "                         cmap=plt.cm.Blues):\n",
    "    \"\"\"\n",
    "    This function prints and plots the confusion matrix.\n",
    "    Normalization can be appliced by setting 'normalize=True'.\n",
    "    \"\"\"\n",
    "    \n",
    "    if normalize:\n",
    "        cm=cm.astype('float')/cm.sum(axis=1)[:,np.newaxis]\n",
    "        print('Normalized confusion matrix')\n",
    "    else:\n",
    "        print('Confusion matrix, without normalization')\n",
    "        \n",
    "    print(cm)\n",
    "    \n",
    "    plt.imshow(cm, interpolation='nearest', cmap=cmap)\n",
    "    plt.title(title)\n",
    "    plt.colorbar()\n",
    "    tick_marks=np.arange(len(classes))\n",
    "    plt.xticks(tick_marks, classes, rotation=45)\n",
    "    plt.yticks(tick_marks, classes)\n",
    "    \n",
    "    fmt='.2f' if normalize else 'd'\n",
    "    thresh=cm.max()/2.\n",
    "    for i, j in itertools.product(range(cm.shape[0]), range(cm.shape[1])):\n",
    "        plt.text(j,i, format(cm[i,j], fmt),\n",
    "                 horizontalalignment='center',\n",
    "                 color='white' if cm[i,j]> thresh else 'black')\n",
    "        \n",
    "    plt.tight_layout()\n",
    "    plt.ylabel('True label')\n",
    "    plt.xlabel('Predicted label')\n",
    "\n",
    "# compute confusion matrix\n",
    "cnf_matrix=metrics.confusion_matrix(y_test, yhat, labels=[1,0])\n",
    "np.set_printoptions(precision=2)\n",
    "\n",
    "# plot non-normalized confusion matrix\n",
    "plt.figure()\n",
    "plot_confusion_matrix(cnf_matrix, classes=['Purchase=1','No Purchase=0'], normalize=False, title='Confusion matrix')\n",
    "\n",
    "\n",
    "# classification report\n",
    "print('\\nClassification Report\\n',metrics.classification_report(y_test, yhat))\n",
    "\n",
    "\n",
    "# jaccard score\n",
    "print('Jaccard Score: ', metrics.jaccard_score(y_test,yhat))\n",
    "\n",
    "# logloss\n",
    "print('\\nLogloss: ',metrics.log_loss(y_test, yhat_proba))\n",
    "# more ideal classifiers have progressively smaller values of log loss.\n"
   ]
  },
  {
   "cell_type": "code",
   "execution_count": null,
   "metadata": {},
   "outputs": [],
   "source": []
  }
 ],
 "metadata": {
  "kernelspec": {
   "display_name": "Python 3 (ipykernel)",
   "language": "python",
   "name": "python3"
  },
  "language_info": {
   "codemirror_mode": {
    "name": "ipython",
    "version": 3
   },
   "file_extension": ".py",
   "mimetype": "text/x-python",
   "name": "python",
   "nbconvert_exporter": "python",
   "pygments_lexer": "ipython3",
   "version": "3.10.12"
  },
  "papermill": {
   "default_parameters": {},
   "duration": 932.109538,
   "end_time": "2022-08-01T17:01:08.337126",
   "environment_variables": {},
   "exception": null,
   "input_path": "__notebook__.ipynb",
   "output_path": "__notebook__.ipynb",
   "parameters": {},
   "start_time": "2022-08-01T16:45:36.227588",
   "version": "2.2.2"
  }
 },
 "nbformat": 4,
 "nbformat_minor": 4
}
