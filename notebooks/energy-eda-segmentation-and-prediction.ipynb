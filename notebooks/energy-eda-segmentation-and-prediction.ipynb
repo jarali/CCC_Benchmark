{
 "cells": [
  {
   "cell_type": "markdown",
   "id": "a5a2f588",
   "metadata": {
    "papermill": {
     "duration": 0.031853,
     "end_time": "2023-09-18T19:22:43.188654",
     "exception": false,
     "start_time": "2023-09-18T19:22:43.156801",
     "status": "completed"
    },
    "tags": []
   },
   "source": [
    "# Introduction\n",
    "<center>\n",
    "<div class=\"alert alert-block alert-info\">\n",
    "<b>Electricity Energy Consumption(Elektrik Enerji Tüketimi)</b> </div></center>\n",
    "\n",
    "<div style=\"width:100%;text-align: center;\"> <img align=middle src=\"https://im.haberturk.com/2020/05/01/ver1588317249/2664778_810x458.jpg\" alt=\"Heat beating\" style=\"height:300px;margin-top:1rem;margin-bottom:1rem;\"> </div>\n",
    "\n",
    "<center>\n",
    "<div class=\"alert alert-block alert-info\">\n",
    "<b>About The Project Process(Proje Süreci Hakkında)</b> </div></center> \n",
    "\n",
    "Hello from a new study, in this study, I will perform estimation and segmentation on the data of the coteq company in the \"Energy consumption of the Netherlands\" data set. I will perform an estimation process on this dataset with energy consumption of zipcode (Zipcod) ranges over the years. In the segmentation part, I will segment and make comments on the total consumed energy data and the total consumed energies in low and high tariffs of these energy consumptions. This study, which I will prepare at the same time, will be in both Turkish and English.<br>\n",
    "    If you want to information of dataset, [Please, click here.](https://www.kaggle.com/datasets/lucabasa/dutch-energy)\n",
    "\n",
    "---\n",
    "   Yeni bir çalışmamdan merhaba bu çalışmamda \"Energy consumption of the Netherlands\" veri seti içerisinde bulunan coteq firmasının verileri üzerinden tahmin ve segmantasyon işlemi gerçekleştireceğim. Posta kodu(Zipcod) aralıklarının enerji tüketimi bulunan bu veri setine yıllara göre tahmin işlemi gereçekleştireceğim. Segmentasyon kısmında ise toplam tüketilen enerji verileri ve bu enerji tükerimlerinin düşük ve yüksek tarifeki toplam tüketilen enerjiler üzerinden segmentasyon işlemi yapacağım ve yorumlarda bulunacağım. Aynı zamanda hazırlyacağım bu çalışma hem Türkçe hemde İnglizce olacaktır. <br>\n",
    "   Eğer veri seti hakkında bilgi istiyorsanız,[Lütfen buraya tıklayın.](https://www.kaggle.com/datasets/lucabasa/dutch-energy)\n",
    "\n",
    "<center>\n",
    "<div class=\"alert alert-block alert-info\">\n",
    "<b>What is the Electricity Energy?(Elektrik Enerjisi Nedir?)</b> </div></center>\n",
    "\n",
    "Elektrik enerjisi, elektron adı verilen hareketli elektrik yüklerinden kaynaklanır. Yükler ne kadar hızlı hareket ederse, o kadar fazla elektrik enerjisi taşırlar.<br>\n",
    "Enerjiye neden olan yükler hareket ettiğinden, elektrik enerjisi kinetik enerjinin bir şeklidir. <br>\n",
    "Yıldırım, piller ve hatta elektrikli yılan balıkları, hareket halindeki elektrik enerjisinin örnekleridir!\n",
    "<div style=\"width:100%;text-align: center;\"> <img align=middle src=\"https://www.solarschools.net/build/img/learn/energy/types/electrical//electricity-electron-flow_400_resize_q95.jpg\" alt=\"Heat beating\" style=\"height:300;margin-top:1rem;margin-bottom:1rem;\"> </div>\n",
    "\n",
    "Electrical energy is caused by moving electric charges called electrons. The faster the charges move, the more electrical energy they carry.<br>\n",
    "As the charges that cause the energy are moving, electrical energy is a form of kinetic energy.<br>\n",
    "Lightning, batteries and even electric eels are examples of electrical energy in action!<br>\n",
    "\n",
    "   "
   ]
  },
  {
   "cell_type": "markdown",
   "id": "c8a20a15",
   "metadata": {
    "papermill": {
     "duration": 0.029249,
     "end_time": "2023-09-18T19:22:43.248232",
     "exception": false,
     "start_time": "2023-09-18T19:22:43.218983",
     "status": "completed"
    },
    "tags": []
   },
   "source": [
    "# Content <a id = \"cont\"></a>\n",
    "- [First Step(İlk Adım)](#1)\n",
    "    - [Working on the Coteq 2013 dataset(Coteq 2013 veri seti üzerinde çalışmak)](#1a)\n",
    "    - [Exploratory Data Analysis(EDA)(Keşifsel Veri Analizi) - coteq_2013](#1b)\n",
    "- [Second Step: Zipcode Analysis According To Energy Consumption(İkinci Adım: Enerji Tüketimine Göre Posta Kodu Analizi)](#2)\n",
    "    - [Preparing the Dataset(Veri Kümesini Hazırlamak)](#2a)\n",
    "    - [Training With Polynomial Linear Regression(Polinom Lineer Regresyon ile Eğitim)](#2b)\n",
    "        - [Zipcode_1](#2ba)\n",
    "        - [Zipcode_2](#2bb)\n",
    "    - [Examination of the prepared dataset(Hazırlanan veri setinin incelenmesi)](#2c)\n",
    "- [Segmentation of Zipcodes(Posta kutlarının segmantasyonu)](#3)\n",
    "    - [Prepare The Dataset(Veri Setini Hazırlama)](#3a)\n",
    "    - [Examining The Results (Sonuçların İncelenmesi)](#3b)\n",
    "    - [Sort Data(Veri Sıralama)](#3c)\n",
    "        - [Chapter 1: Sort Columns(Bölüm 1: Kolonlara Göre Sıralama)](#3c1)\n",
    "        - [Chapter 2: Sort Classes(Bölüm 2: Sınflara Göre Sıralama)](#3c2)\n",
    "- [Conclusion(Sonuç)](#4)"
   ]
  },
  {
   "cell_type": "code",
   "execution_count": null,
   "id": "7aee7590",
   "metadata": {
    "_cell_guid": "b1076dfc-b9ad-4769-8c92-a6c4dae69d19",
    "_uuid": "8f2839f25d086af736a60e9eeb907d3b93b6e0e5",
    "papermill": {
     "duration": 1.509106,
     "end_time": "2023-09-18T19:22:44.786994",
     "exception": false,
     "start_time": "2023-09-18T19:22:43.277888",
     "status": "completed"
    },
    "tags": []
   },
   "outputs": [],
   "source": [
    "# Libraries I use\n",
    "import numpy as np \n",
    "import pandas as pd\n",
    "import matplotlib.pyplot as plt\n",
    "import seaborn as sns\n",
    "import os\n",
    "\n",
    "from sklearn.linear_model import LinearRegression\n",
    "from sklearn.preprocessing import PolynomialFeatures\n",
    "from sklearn.metrics import  r2_score\n",
    "\n",
    "pd.set_option(\"display.max_columns\", None)\n",
    "pd.set_option(\"display.max_rows\", None)\n",
    "pd.set_option(\"display.float_format\", lambda x: '%.3f' % x)\n",
    "pd.set_option(\"display.expand_frame_repr\", False)\n",
    "\n",
    "# Ignore Warnings\n",
    "import warnings\n",
    "warnings.filterwarnings('ignore')"
   ]
  },
  {
   "cell_type": "markdown",
   "id": "66ef26b2",
   "metadata": {
    "papermill": {
     "duration": 0.029099,
     "end_time": "2023-09-18T19:22:44.845732",
     "exception": false,
     "start_time": "2023-09-18T19:22:44.816633",
     "status": "completed"
    },
    "tags": []
   },
   "source": [
    "# First Step(İlk Adım) <a id = \"1\"></a>\n",
    "[Go Content(Content'e Git)](#cont)"
   ]
  },
  {
   "cell_type": "markdown",
   "id": "2a2dac6a",
   "metadata": {
    "papermill": {
     "duration": 0.029182,
     "end_time": "2023-09-18T19:22:44.904743",
     "exception": false,
     "start_time": "2023-09-18T19:22:44.875561",
     "status": "completed"
    },
    "tags": []
   },
   "source": [
    "## Working on the Coteq 2013 dataset(Coteq 2013 veri seti üzerinde çalışmak) <a id = \"1a\"></a>\n",
    "[Go Content(Content'e Git)](#cont)\n",
    "\n",
    "Information of Coteq Dataset(Coteq Veri Seti Bilgileri)<br>\n",
    "Every file is from a network administrator from a specific year.(Her dosya, belirli bir yıldaki bir ağ yöneticisindendir.)<br>\n",
    "The columns in each file are(Her dosyadaki sütunlar şunlardır):\n",
    "- net_manager: Code of the regional network manager(bölgesel ağ yöneticisinin kodu)\n",
    "- purchase_area: Code of the area where the energy is purchased(enerjinin satın alındığı bölgenin kodu)\n",
    "- street: Name of the street(Bölge adı)\n",
    "- zipcode_from and zipcode_to: 2 columns for the range of zipcodes covered, 4 numbers and 2 letters(Kapsanan posta kodu aralığı için 2 sütun, 4 rakam ve 2 harf)\n",
    "- city: Name of the city(Şehir ismi)\n",
    "- num_connections: Number of connections in the range of zipcodes(Posta kodları aralığındaki bağlantı sayısı)\n",
    "- delivery_perc: Percentage of the net consumption of electricity or gas. The lower, the more energy was given back to the grid (for example if you have solar panels)(net elektrik veya gaz tüketiminin yüzdesi. Ne kadar düşük olursa, şebekeye o kadar fazla enerji geri verilir (örneğin, güneş panelleriniz varsa)\n",
    "- perc_of_active_connections: Percentage of active connections in the zipcode range(Posta kodu aralığındaki etkin bağlantıların yüzdesi)\n",
    "- type_of_connection: Principal type of connection in the zipcode range. For electricity is # fuses X # ampère. For gas is G4, G6, G10, G16, G25(posta kodu aralığındaki ana bağlantı türü. Elektrik için # sigorta X # amperdir. Gaz için G4, G6, G10, G16, G25)\n",
    "- type_conn_perc: percentage of presence of the principal type of connection in the zipcode range(posta kodu aralığında ana bağlantı türünün varlığının yüzdesi)\n",
    "- annual_consume: Annual consume. Kwh for electricity, m3 for gas(Yıllık tüketim. Elektrik için Kwh, gaz için m3)\n",
    "- annual_consume_lowtarif_perc: Percentage of consume during the low tarif hours. From 10 p.m. to 7 a.m. and during weekends.(Düşük tarife saatlerinde tüketim yüzdesi. 22:00'den itibaren sabah 7'ye kadar ve hafta sonları.)\n",
    "- smartmeter_perc: Percentage of smartmeters in the zipcode ranges(posta kodu aralıklarındaki akıllı sayaçların yüzdesi)"
   ]
  },
  {
   "cell_type": "code",
   "execution_count": null,
   "id": "05e0c60e",
   "metadata": {
    "papermill": {
     "duration": 0.067513,
     "end_time": "2023-09-18T19:22:45.001646",
     "exception": false,
     "start_time": "2023-09-18T19:22:44.934133",
     "status": "completed"
    },
    "tags": []
   },
   "outputs": [],
   "source": [
    "# Read the dataset with pandas library(Veri kümesini pandalar kitaplığıyla oku)\n",
    "df_coteq_2013 = pd.read_csv(\"../datasets/dutch-energy/Electricity/coteq_electricity_2013.csv\")"
   ]
  },
  {
   "cell_type": "code",
   "execution_count": null,
   "id": "d0f567c0",
   "metadata": {
    "papermill": {
     "duration": 0.060333,
     "end_time": "2023-09-18T19:22:45.091882",
     "exception": false,
     "start_time": "2023-09-18T19:22:45.031549",
     "status": "completed"
    },
    "tags": []
   },
   "outputs": [],
   "source": [
    "# First five data of the dataset(Veri setinin ilk beş verisi)\n",
    "df_coteq_2013.head()"
   ]
  },
  {
   "cell_type": "markdown",
   "id": "7c8c8f00",
   "metadata": {
    "papermill": {
     "duration": 0.029527,
     "end_time": "2023-09-18T19:22:45.151263",
     "exception": false,
     "start_time": "2023-09-18T19:22:45.121736",
     "status": "completed"
    },
    "tags": []
   },
   "source": [
    "I'm going to make some changes to the dataset. These changes will help me understand the dataset.\n",
    "\n",
    "---\n",
    "Yukarıdaki veri seti üzerinde bazı değişiklikler yapacağım. Bu yaptığım değişikler bana veri setini anlamlandırma konusunda yardımcı olacak."
   ]
  },
  {
   "cell_type": "markdown",
   "id": "b73a147c",
   "metadata": {
    "papermill": {
     "duration": 0.029304,
     "end_time": "2023-09-18T19:22:45.210462",
     "exception": false,
     "start_time": "2023-09-18T19:22:45.181158",
     "status": "completed"
    },
    "tags": []
   },
   "source": [
    "### Exploratory Data Analysis(EDA)(Keşifsel Veri Analizi) - coteq_2013 <a id = \"1b\"></a>\n",
    "[Go Content(Content'e Git)](#cont)\n",
    "\n",
    "   This chapter, I will try to understand the dataset.(Bu bölümde veri seti anlamaya çalışacağım.)"
   ]
  },
  {
   "cell_type": "code",
   "execution_count": null,
   "id": "f2a1b52d",
   "metadata": {
    "papermill": {
     "duration": 0.051448,
     "end_time": "2023-09-18T19:22:45.291739",
     "exception": false,
     "start_time": "2023-09-18T19:22:45.240291",
     "status": "completed"
    },
    "tags": []
   },
   "outputs": [],
   "source": [
    "df_coteq_2013.head()"
   ]
  },
  {
   "cell_type": "code",
   "execution_count": null,
   "id": "ea54051b",
   "metadata": {
    "papermill": {
     "duration": 0.054185,
     "end_time": "2023-09-18T19:22:45.375935",
     "exception": false,
     "start_time": "2023-09-18T19:22:45.321750",
     "status": "completed"
    },
    "tags": []
   },
   "outputs": [],
   "source": [
    "df_coteq_2013.tail()"
   ]
  },
  {
   "cell_type": "markdown",
   "id": "dc38095a",
   "metadata": {
    "papermill": {
     "duration": 0.030148,
     "end_time": "2023-09-18T19:22:45.436693",
     "exception": false,
     "start_time": "2023-09-18T19:22:45.406545",
     "status": "completed"
    },
    "tags": []
   },
   "source": [
    "**Note(Not):**\n",
    "\n",
    "Since the head and tail data looks bad with this function, I respecified the head and tail data in the code above.\n",
    "\n",
    "---\n",
    "Bu fonksiyonda head ve tail verileri kötü göründüğü için yukarıdaki kodda head ve tail verilerini yeniden belirledim."
   ]
  },
  {
   "cell_type": "code",
   "execution_count": null,
   "id": "626ec09c",
   "metadata": {
    "papermill": {
     "duration": 0.043685,
     "end_time": "2023-09-18T19:22:45.510529",
     "exception": false,
     "start_time": "2023-09-18T19:22:45.466844",
     "status": "completed"
    },
    "tags": []
   },
   "outputs": [],
   "source": [
    "# The function is to analyze the dataset.(İşlev, veri kümesini analiz etmek içindir.)\n",
    "def InfofData(dataframe):\n",
    "    print(\"############## Head ##############\")\n",
    "    print(dataframe.head())\n",
    "    print(\"\\n\")\n",
    "    print(\"############## Tail ##############\")\n",
    "    print(dataframe.tail())\n",
    "    print(\"\\n\")\n",
    "    print(\"############## Info ##############\")\n",
    "    print(dataframe.info())\n",
    "    print(\"\\n\")\n",
    "    print(\"############## Shape ##############\")\n",
    "    print(dataframe.shape)\n",
    "    print(\"\\n\")\n",
    "    print(\"############## Columns Name ##############\")\n",
    "    print(dataframe.columns)\n",
    "    print(\"\\n\")\n",
    "    print(\"############## Describe ##############\")\n",
    "    print(dataframe.describe().T)\n",
    "    print(\"\\n\")\n",
    "    print(\"############## Null ##############\")\n",
    "    print(dataframe.isnull().sum())"
   ]
  },
  {
   "cell_type": "code",
   "execution_count": null,
   "id": "638e4ac9",
   "metadata": {
    "papermill": {
     "duration": 0.111207,
     "end_time": "2023-09-18T19:22:45.652205",
     "exception": false,
     "start_time": "2023-09-18T19:22:45.540998",
     "status": "completed"
    },
    "tags": []
   },
   "outputs": [],
   "source": [
    "InfofData(df_coteq_2013)"
   ]
  },
  {
   "cell_type": "code",
   "execution_count": null,
   "id": "85c7e5bd",
   "metadata": {
    "papermill": {
     "duration": 0.041977,
     "end_time": "2023-09-18T19:22:45.725863",
     "exception": false,
     "start_time": "2023-09-18T19:22:45.683886",
     "status": "completed"
    },
    "tags": []
   },
   "outputs": [],
   "source": [
    "def Col_rev(dataframe,col_name):\n",
    "    print(\"############ Value Count ############\")\n",
    "    print(dataframe[col_name].value_counts())\n",
    "    print(\"\\n\")\n",
    "    print(\"############ Value Count ############\")\n",
    "    print(dataframe[col_name].nunique())"
   ]
  },
  {
   "cell_type": "code",
   "execution_count": null,
   "id": "e8ce73cf",
   "metadata": {
    "papermill": {
     "duration": 0.043962,
     "end_time": "2023-09-18T19:22:45.800813",
     "exception": false,
     "start_time": "2023-09-18T19:22:45.756851",
     "status": "completed"
    },
    "tags": []
   },
   "outputs": [],
   "source": [
    "# net_manager kolunun incelenmesi\n",
    "Col_rev(df_coteq_2013, \"net_manager\")"
   ]
  },
  {
   "cell_type": "code",
   "execution_count": null,
   "id": "5418843b",
   "metadata": {
    "papermill": {
     "duration": 0.043789,
     "end_time": "2023-09-18T19:22:45.875633",
     "exception": false,
     "start_time": "2023-09-18T19:22:45.831844",
     "status": "completed"
    },
    "tags": []
   },
   "outputs": [],
   "source": [
    "# purchase_area konun incelenmesi\n",
    "Col_rev(df_coteq_2013, \"purchase_area\")"
   ]
  },
  {
   "cell_type": "code",
   "execution_count": null,
   "id": "f189bb44",
   "metadata": {
    "papermill": {
     "duration": 0.045034,
     "end_time": "2023-09-18T19:22:45.952347",
     "exception": false,
     "start_time": "2023-09-18T19:22:45.907313",
     "status": "completed"
    },
    "tags": []
   },
   "outputs": [],
   "source": [
    "# purchase_area konun incelenmesi\n",
    "Col_rev(df_coteq_2013, \"city\")"
   ]
  },
  {
   "cell_type": "markdown",
   "id": "6674b8fe",
   "metadata": {
    "papermill": {
     "duration": 0.031195,
     "end_time": "2023-09-18T19:22:46.014889",
     "exception": false,
     "start_time": "2023-09-18T19:22:45.983694",
     "status": "completed"
    },
    "tags": []
   },
   "source": [
    "### Change on dataset(Veri kümesindeki değişiklik) <a id = \"1c\"></a>"
   ]
  },
  {
   "cell_type": "markdown",
   "id": "2b0ba254",
   "metadata": {
    "papermill": {
     "duration": 0.032127,
     "end_time": "2023-09-18T19:22:46.078613",
     "exception": false,
     "start_time": "2023-09-18T19:22:46.046486",
     "status": "completed"
    },
    "tags": []
   },
   "source": [
    "I am going to do one change above the dataset, concat the zipcode_from and zipcode_to the under of name Zipcode.\n",
    "\n",
    "---\n",
    "Veri seti üzerinde tek değişiklik yapacağım buda Zipcode_from ve zipcode_to verilerini birleştirme işlemi olacaktır."
   ]
  },
  {
   "cell_type": "code",
   "execution_count": null,
   "id": "5f58447d",
   "metadata": {
    "papermill": {
     "duration": 0.042618,
     "end_time": "2023-09-18T19:22:46.152482",
     "exception": false,
     "start_time": "2023-09-18T19:22:46.109864",
     "status": "completed"
    },
    "tags": []
   },
   "outputs": [],
   "source": [
    "# Zipcode fix(Zipcode düzeltmesi)\n",
    "df_coteq_2013[\"zipcode\"] =  df_coteq_2013[\"zipcode_from\"] + \"_\" + df_coteq_2013[\"zipcode_to\"]"
   ]
  },
  {
   "cell_type": "code",
   "execution_count": null,
   "id": "ef4edaca",
   "metadata": {
    "papermill": {
     "duration": 0.055298,
     "end_time": "2023-09-18T19:22:46.238747",
     "exception": false,
     "start_time": "2023-09-18T19:22:46.183449",
     "status": "completed"
    },
    "tags": []
   },
   "outputs": [],
   "source": [
    "df_coteq_2013.head()"
   ]
  },
  {
   "cell_type": "markdown",
   "id": "6177890a",
   "metadata": {
    "papermill": {
     "duration": 0.031385,
     "end_time": "2023-09-18T19:22:46.301892",
     "exception": false,
     "start_time": "2023-09-18T19:22:46.270507",
     "status": "completed"
    },
    "tags": []
   },
   "source": [
    "I am going to create a new data set with the help of Zip Code, which is our new change on the data set.\n",
    "\n",
    "---\n",
    "Veri seti üzerindeki yeni değişikliğimiz olan Zipcode(Posta kodu) yardımı ile yeni bir veri seti oluşturacağım zipcode(Posta kodu)'ların yıllık harcatığı toplam enerji miktarları hakkında bir veri seti olacak."
   ]
  },
  {
   "cell_type": "code",
   "execution_count": null,
   "id": "687c3ae3",
   "metadata": {
    "papermill": {
     "duration": 0.044327,
     "end_time": "2023-09-18T19:22:46.378001",
     "exception": false,
     "start_time": "2023-09-18T19:22:46.333674",
     "status": "completed"
    },
    "tags": []
   },
   "outputs": [],
   "source": [
    "df_coteg = pd.DataFrame()\n",
    "df_coteg[\"zip_code\"] = df_coteq_2013[\"zipcode\"]\n",
    "df_coteg[\"year\"] = 2013\n",
    "df_coteg[\"total_used\"] = df_coteq_2013[\"annual_consume\"]"
   ]
  },
  {
   "cell_type": "markdown",
   "id": "f4cc3fba",
   "metadata": {
    "papermill": {
     "duration": 0.03144,
     "end_time": "2023-09-18T19:22:46.441285",
     "exception": false,
     "start_time": "2023-09-18T19:22:46.409845",
     "status": "completed"
    },
    "tags": []
   },
   "source": [
    "Total energy consumed by zipcodes in 2013(2013 yılında posta kod(zipcode)'ların harcadığı toplam enerji)"
   ]
  },
  {
   "cell_type": "code",
   "execution_count": null,
   "id": "6df84f61",
   "metadata": {
    "papermill": {
     "duration": 0.048195,
     "end_time": "2023-09-18T19:22:46.521450",
     "exception": false,
     "start_time": "2023-09-18T19:22:46.473255",
     "status": "completed"
    },
    "tags": []
   },
   "outputs": [],
   "source": [
    "df_coteg.head(10)"
   ]
  },
  {
   "cell_type": "code",
   "execution_count": null,
   "id": "3d8b44b7",
   "metadata": {
    "papermill": {
     "duration": 0.068928,
     "end_time": "2023-09-18T19:22:46.622670",
     "exception": false,
     "start_time": "2023-09-18T19:22:46.553742",
     "status": "completed"
    },
    "tags": []
   },
   "outputs": [],
   "source": [
    "InfofData(df_coteg)"
   ]
  },
  {
   "cell_type": "markdown",
   "id": "9d373f87",
   "metadata": {
    "papermill": {
     "duration": 0.031807,
     "end_time": "2023-09-18T19:22:46.686868",
     "exception": false,
     "start_time": "2023-09-18T19:22:46.655061",
     "status": "completed"
    },
    "tags": []
   },
   "source": [
    "This was the review of the Coteq2013 dataset. I only made one change to the dataset was to merge the zipcode data. It was good for us that there were no null values. Now let's move on to other examinations I will make on the data set. 🙃\n",
    "\n",
    "---\n",
    "Coteq2013 veri setinin incelemesi bu şekildeydi. Veri seti üzerinde yalnızca bir değişiklik yaptım oda zipcod verilerini birleştirmek oldu. Boş değer olmaması bizim için iyi oldu. Şimdi veri seti üzerinde yapacağım diğer incelemelere geçelim. 🙃 <br>"
   ]
  },
  {
   "cell_type": "markdown",
   "id": "8d67879a",
   "metadata": {
    "papermill": {
     "duration": 0.031801,
     "end_time": "2023-09-18T19:22:46.750883",
     "exception": false,
     "start_time": "2023-09-18T19:22:46.719082",
     "status": "completed"
    },
    "tags": []
   },
   "source": [
    "# Second Step: Zipcode Analysis According To Energy Consumption(İkinci Adım: Enerji Tüketimine Göre Posta Kodu Analizi) <a id = \"2\"></a>\n",
    "[Go Content(Content'e Git)](#cont)\n",
    "\n",
    "   In this section, we will see the amount of energy consumed by a zip code between 2013 and 2020 by combining other coteq data sets created by years. In addition, I will make predictions with the Polynomial Linear Regression model, which is a machine learning model, according to annual energy consumption data.<br>\n",
    "   If you want more information about Polynomial Linear Regression model, you can see my other work by [clicking here.](https://www.kaggle.com/code/ihsncnkz/regression-models)\n",
    "   \n",
    "---\n",
    "   Bu kısımda yıllara göre oluşturularn diğer coteq veri setlerini birleştirerek bir posta kodunun 2013-2020 arasında harcağıdı enerji miktarlarını göreceğiz. Ayrıyeten yıllık enerji tüketim verilerine göre machine learning modeli olan Polynomial Linear Regression modeli ile tahmin gerçekleştireceğim.<br>\n",
    "   Eğer Polynomial Linear Regression modeli hakkında daha fazla bilgi istiyor iseniz [buraya tıklayarak](https://www.kaggle.com/code/ihsncnkz/regression-models) diğer çalışmamıda görmüş olursunuz. 🙂"
   ]
  },
  {
   "cell_type": "markdown",
   "id": "ffe93b19",
   "metadata": {
    "papermill": {
     "duration": 0.032201,
     "end_time": "2023-09-18T19:22:46.815077",
     "exception": false,
     "start_time": "2023-09-18T19:22:46.782876",
     "status": "completed"
    },
    "tags": []
   },
   "source": [
    "## Preparing the Dataset(Veri Kümesini Hazırlamak) <a id = \"2a\"></a>\n",
    "[Go Content(Content'e Git)](#cont)\n",
    "\n",
    "In this section, I am going to prepare the datasets that am going to train with and examine the dataset I have prepared.\n",
    "\n",
    "---\n",
    "Bu bölümde, eğitim yapacağım veri setlerini hazırlayacağım ve hazırladığım veri setini inceleyecim."
   ]
  },
  {
   "cell_type": "code",
   "execution_count": null,
   "id": "d42c2add",
   "metadata": {
    "papermill": {
     "duration": 0.26103,
     "end_time": "2023-09-18T19:22:47.108248",
     "exception": false,
     "start_time": "2023-09-18T19:22:46.847218",
     "status": "completed"
    },
    "tags": []
   },
   "outputs": [],
   "source": [
    "df_coteg_year = pd.DataFrame(columns=[\"zipcode\", \"year\", \"total_used\"])\n",
    "for dirname, _, filenames in os.walk('../datasets/dutch-energy/Electricity'):\n",
    "    for filename in filenames:\n",
    "        if filename.__contains__(\"coteq\"):\n",
    "            data_path = os.path.join(dirname, filename)\n",
    "            dataf = pd.read_csv(data_path)\n",
    "            a_data = pd.DataFrame()\n",
    "            a_data[\"zipcode\"]= dataf[\"zipcode_from\"] + \"_\" + dataf[\"zipcode_to\"]\n",
    "            a_data[\"year\"] = filename[18:22]\n",
    "            a_data[\"total_used\"] = dataf[\"annual_consume\"]\n",
    "            df_coteg_year = pd.concat([df_coteg_year, a_data], axis = 0)        "
   ]
  },
  {
   "cell_type": "code",
   "execution_count": null,
   "id": "aae44446",
   "metadata": {
    "papermill": {
     "duration": 0.045656,
     "end_time": "2023-09-18T19:22:47.187010",
     "exception": false,
     "start_time": "2023-09-18T19:22:47.141354",
     "status": "completed"
    },
    "tags": []
   },
   "outputs": [],
   "source": [
    "df_coteg_year[\"index\"] = range(0,df_coteg_year.shape[0])\n",
    "df_coteg_year = df_coteg_year.set_index(\"index\")"
   ]
  },
  {
   "cell_type": "code",
   "execution_count": null,
   "id": "b73e3aa8",
   "metadata": {
    "papermill": {
     "duration": 0.099579,
     "end_time": "2023-09-18T19:22:47.319040",
     "exception": false,
     "start_time": "2023-09-18T19:22:47.219461",
     "status": "completed"
    },
    "tags": []
   },
   "outputs": [],
   "source": [
    "InfofData(df_coteg_year)"
   ]
  },
  {
   "cell_type": "code",
   "execution_count": null,
   "id": "07b1df95",
   "metadata": {
    "papermill": {
     "duration": 0.048691,
     "end_time": "2023-09-18T19:22:47.399940",
     "exception": false,
     "start_time": "2023-09-18T19:22:47.351249",
     "status": "completed"
    },
    "tags": []
   },
   "outputs": [],
   "source": [
    "Col_rev(df_coteg_year, \"year\")"
   ]
  },
  {
   "cell_type": "code",
   "execution_count": null,
   "id": "f5ab5ec0",
   "metadata": {
    "papermill": {
     "duration": 0.054749,
     "end_time": "2023-09-18T19:22:47.487268",
     "exception": false,
     "start_time": "2023-09-18T19:22:47.432519",
     "status": "completed"
    },
    "tags": []
   },
   "outputs": [],
   "source": [
    "# Total energies consumed per year by a zipcode range\n",
    "# Bir zipkode aralığının yıllık harcadıkları toplam enerjiler\n",
    "df_coteg_year[df_coteg_year[\"zipcode\"] == \"7468CP_7471AA\"]"
   ]
  },
  {
   "cell_type": "code",
   "execution_count": null,
   "id": "3c9118fb",
   "metadata": {
    "papermill": {
     "duration": 0.051372,
     "end_time": "2023-09-18T19:22:47.571254",
     "exception": false,
     "start_time": "2023-09-18T19:22:47.519882",
     "status": "completed"
    },
    "tags": []
   },
   "outputs": [],
   "source": [
    "# Total_used and year columns have object data type, I change them to integer data type.\n",
    "# Total_used ve year stünları object veri tipine sahip onları integer veri tipi olarak değiştiriyorum.\n",
    "df_coteg_year[\"year\"] = df_coteg_year[\"year\"].astype(int)\n",
    "df_coteg_year[\"total_used\"] = df_coteg_year[\"total_used\"].astype(int)"
   ]
  },
  {
   "cell_type": "code",
   "execution_count": null,
   "id": "c3ae94fd",
   "metadata": {
    "papermill": {
     "duration": 0.054682,
     "end_time": "2023-09-18T19:22:47.658701",
     "exception": false,
     "start_time": "2023-09-18T19:22:47.604019",
     "status": "completed"
    },
    "tags": []
   },
   "outputs": [],
   "source": [
    "df_coteg_year.info()"
   ]
  },
  {
   "cell_type": "code",
   "execution_count": null,
   "id": "434f0605",
   "metadata": {
    "papermill": {
     "duration": 0.058803,
     "end_time": "2023-09-18T19:22:47.751016",
     "exception": false,
     "start_time": "2023-09-18T19:22:47.692213",
     "status": "completed"
    },
    "tags": []
   },
   "outputs": [],
   "source": [
    "df_coteg_year.describe().T"
   ]
  },
  {
   "cell_type": "markdown",
   "id": "ec96b103",
   "metadata": {
    "papermill": {
     "duration": 0.033476,
     "end_time": "2023-09-18T19:22:47.817949",
     "exception": false,
     "start_time": "2023-09-18T19:22:47.784473",
     "status": "completed"
    },
    "tags": []
   },
   "source": [
    "## Training With Polynomial Linear Regression(Polinom Lineer Regresyon ile Eğitim) <a id = \"2b\"></a>\n",
    "[Go Content(Content'e Git)](#cont)\n",
    "\n",
    "In this section, I chose two zipcode ranges from the data set I prepared and I trained with the Polynomial Linear Regression model, which is a Machine learning model, over the data zipcode ranges I selected. I performed the training under the titles zipcode_1 and zipcode_2. I applied these two training results to the first ten zipcode ranges of the df_coteg_year dataset that I prepared later.\n",
    "\n",
    "---\n",
    "Bu kısımda hazırladığım veri seti içerisinden iki adet zipcode aralıklarını seçtim ve seçtiğim veri zipkod aralıkları üzerinden Makine öğrenmesi modeli olan Polinom Lineer Regresyon modeli ile eğitim gerçekleştirdim. Zipcode_1 ve Zipcode_2 başlıkları altında eğitimlerimi gerçekleştirdim. Bu iki eğitim sonuçlarını daha sonra hazırlamış olduğum df_coteg_year datasetinin ilk on posta kou(zipcode) aralıklarına uyguladım."
   ]
  },
  {
   "cell_type": "markdown",
   "id": "693df012",
   "metadata": {
    "papermill": {
     "duration": 0.033094,
     "end_time": "2023-09-18T19:22:47.884024",
     "exception": false,
     "start_time": "2023-09-18T19:22:47.850930",
     "status": "completed"
    },
    "tags": []
   },
   "source": [
    "### Zipcode_1 <a id =\"2ba\"></a>\n",
    "[Go Content(Content'e Git)](#cont)\n",
    "\n",
    "The following code block zipcode_1 preparation and data of in it.\n",
    "\n",
    "---\n",
    "Aşağıdaki kod bloğu zipcode_1 hazırlanışı ve içerisindeki veriler."
   ]
  },
  {
   "cell_type": "code",
   "execution_count": null,
   "id": "e7e86a83",
   "metadata": {
    "papermill": {
     "duration": 0.304535,
     "end_time": "2023-09-18T19:22:48.221899",
     "exception": false,
     "start_time": "2023-09-18T19:22:47.917364",
     "status": "completed"
    },
    "tags": []
   },
   "outputs": [],
   "source": [
    "# Preparing the zipcode_1(Zipcode_1'in hazırlanması)\n",
    "zipcode_1 = df_coteg_year[df_coteg_year[\"zipcode\"] == \"7468CP_7471AA\"].sort_values(by = \"year\")\n",
    "# output of data inside(içerisindeki verilerin çıktısı)\n",
    "print(zipcode_1)\n",
    "print(\"\\n\")\n",
    "# A graph of zipcode_1(zipcode_1'in grafiğe dökülmüş hali)\n",
    "plt.plot(zipcode_1[\"year\"], zipcode_1[\"total_used\"])\n",
    "plt.title(zipcode_1[\"zipcode\"][0])\n",
    "plt.ylabel(\"total_used\")\n",
    "plt.xlabel(\"year\")\n",
    "plt.show()"
   ]
  },
  {
   "cell_type": "markdown",
   "id": "6b535d59",
   "metadata": {
    "papermill": {
     "duration": 0.035357,
     "end_time": "2023-09-18T19:22:48.290912",
     "exception": false,
     "start_time": "2023-09-18T19:22:48.255555",
     "status": "completed"
    },
    "tags": []
   },
   "source": [
    "The reason why I chose the Polynomial Linear Regression model is that the annual changes in the total amount of energy consumed in our data set from 2013 to 2020 are the shape of a polynomial. In other words, it can be thought of as a step-by-step decrease in the values throughout the year rather than a direct increase or decrease. You will understand better what I mean in the image below:\n",
    "\n",
    "<div style=\"width:100%;text-align: center;\"> <img align=middle src=\"https://serokell.io/files/ka/kawer8rc.5_(5).png\" style=\"height:300px;margin-top:1rem;margin-bottom:1rem;\"> </div>\n",
    "\n",
    "In the left graph in the picture above, the linear model has been applied and the result is in the middle. In the picture on the right, the result of applying a polynomial model is obvious. What I want to tell you is exactly that, the decrease in our data set decreased not directly as in the right graph, but polynomially.\n",
    "\n",
    "---\n",
    "\n",
    "Aslına bakarsanız Polynomial Linear Regression modelini seçme sebebim 2013 yılından 2020 yılına kadar olan veri setimizde toplam tüketilen enerji mikatarının yıllık değişimler polynomial şekilde olmasından dolayıdır. Yani direk artış veya azalıştansa yıl içerisindeki değerlerin adım adım azalaması gibi düşünüle bilinir. Aşağıdaki görselde ne söylemek isediğimi daha iyi anlayacaksınız:\n",
    "\n",
    "<div style=\"width:100%;text-align: center;\"> <img align=middle src=\"https://serokell.io/files/ka/kawer8rc.5_(5).png\" style=\"height:300px;margin-top:1rem;margin-bottom:1rem;\"> </div>\n",
    "\n",
    "Yukarıdaki resimdeki sol grafikte linear model uygulanmış ve sonucu ortada. Sağdaki resimde ise polynomial bir model uygulanmış sonucu ortada. Benim anlatmak istediğimde tam olarak bu bizim veri setimizdeki azalışta sağ grafikte olduğu gibi direk değil polynomial biçimde azalmış."
   ]
  },
  {
   "cell_type": "markdown",
   "id": "cfa56418",
   "metadata": {
    "papermill": {
     "duration": 0.033324,
     "end_time": "2023-09-18T19:22:48.357736",
     "exception": false,
     "start_time": "2023-09-18T19:22:48.324412",
     "status": "completed"
    },
    "tags": []
   },
   "source": [
    "The code block below is a code block I prepared to find the best result with the best parameters of the Polynomial Linear Regression and Linear Regression models. If you ask where did Linear Regression come from? The reason for using Linear regression is that as a first step, we prepare our x values with Polynomial linear regression in x^2 format and give these values to the Linear regression model as x variable, and it gives us the output of the estimation values.\n",
    "\n",
    "---\n",
    "Aşağıdaki kod bloğunda Polinom Lineer Regresyon ve Linear Regression modellerin en iyi parametreleri ile en iyi sonucu bulmak için hazırladığım bir kod bloğudur. Linear Regression nerden çıktı diyecek olur iseniz. Linear regression kullanma sebebimiz biz ilk adım olarak x değerlerimizi Polinom lineer regresyon ile x^2 formatı şekilde hazırlayıp hazırlanan bu değerlerimizi Linear regression modeline x değişkeni olarak veriyoruz ve o da bize tahmin değerlerinin çıktısını veriyor."
   ]
  },
  {
   "cell_type": "code",
   "execution_count": null,
   "id": "e2be0167",
   "metadata": {
    "papermill": {
     "duration": 0.204746,
     "end_time": "2023-09-18T19:22:48.595688",
     "exception": false,
     "start_time": "2023-09-18T19:22:48.390942",
     "status": "completed"
    },
    "tags": []
   },
   "outputs": [],
   "source": [
    "from sklearn.preprocessing import PolynomialFeatures, StandardScaler\n",
    "from sklearn.linear_model import LinearRegression\n",
    "from sklearn.metrics import r2_score\n",
    "import numpy as np\n",
    "\n",
    "# Assuming your data\n",
    "x = np.array(zipcode_1[\"year\"]).reshape(-1, 1)\n",
    "y = np.array(zipcode_1[\"total_used\"]).reshape(-1, 1)\n",
    "\n",
    "degree = [2, 3, 4, 5, 6, 7, 8, 9, 10]\n",
    "interaction_only = [True, False]\n",
    "include_bias = [True, False]\n",
    "order = [\"C\", \"F\"]\n",
    "normalizes = [True, False]\n",
    "\n",
    "best_score = 0\n",
    "best_degree = 0\n",
    "best_normalize = False\n",
    "best_interaction = False\n",
    "best_include = False\n",
    "best_order = \"C\"\n",
    "\n",
    "for d in degree:\n",
    "    for inter in interaction_only:\n",
    "        for incl in include_bias:\n",
    "            for o in order:\n",
    "                for norm in normalizes:\n",
    "                    # Polynomial Features\n",
    "                    pf = PolynomialFeatures(degree=d, interaction_only=inter, include_bias=incl, order=o)\n",
    "                    x_pol = pf.fit_transform(x)\n",
    "\n",
    "                    # Normalize the features if norm=True\n",
    "                    if norm:\n",
    "                        scaler = StandardScaler()\n",
    "                        x_pol = scaler.fit_transform(x_pol)\n",
    "\n",
    "                    # Linear Regression\n",
    "                    lr = LinearRegression()\n",
    "                    lr.fit(x_pol, y)\n",
    "                    y_head = lr.predict(x_pol)\n",
    "                    \n",
    "                    # Evaluate the model\n",
    "                    score = r2_score(y, y_head)\n",
    "                    \n",
    "                    # Track the best performing model\n",
    "                    if score > best_score:\n",
    "                        best_score = score\n",
    "                        best_degree = d\n",
    "                        best_normalize = norm\n",
    "                        best_interaction = inter\n",
    "                        best_include = incl\n",
    "                        best_order = o\n",
    "\n",
    "print(\"Best Score:\", best_score)\n",
    "print(\"Best Degree:\", best_degree)\n",
    "print(\"Best Normalization:\", best_normalize)\n",
    "print(\"Best interaction_only:\", best_interaction)\n",
    "print(\"Best include_bias:\", best_include)\n",
    "print(\"Best Order:\", best_order)\n"
   ]
  },
  {
   "cell_type": "markdown",
   "id": "5b3241f6",
   "metadata": {
    "papermill": {
     "duration": 0.033698,
     "end_time": "2023-09-18T19:22:48.663917",
     "exception": false,
     "start_time": "2023-09-18T19:22:48.630219",
     "status": "completed"
    },
    "tags": []
   },
   "source": [
    "I prepare the models with the best parameters and apply them on the zipcode_1 dataset.\n",
    "\n",
    "---\n",
    "En iyi parametreler ile modelleri hazırlayıp zipcode_1 veri seti üzerinde uyguluyorum."
   ]
  },
  {
   "cell_type": "code",
   "execution_count": null,
   "id": "7a7ad2c3",
   "metadata": {
    "papermill": {
     "duration": 0.294608,
     "end_time": "2023-09-18T19:22:48.992318",
     "exception": false,
     "start_time": "2023-09-18T19:22:48.697710",
     "status": "completed"
    },
    "tags": []
   },
   "outputs": [],
   "source": [
    "import numpy as np\n",
    "import matplotlib.pyplot as plt\n",
    "from sklearn.preprocessing import PolynomialFeatures, StandardScaler\n",
    "from sklearn.linear_model import LinearRegression\n",
    "from sklearn.metrics import r2_score\n",
    "\n",
    "# Assuming your data\n",
    "x = np.array(zipcode_1[\"year\"]).reshape(-1, 1)\n",
    "y = np.array(zipcode_1[\"total_used\"]).reshape(-1, 1)\n",
    "\n",
    "# Polynomial Features\n",
    "pf2 = PolynomialFeatures(degree=5, interaction_only=False, include_bias=True, order=\"F\")\n",
    "x_pol2 = pf2.fit_transform(x)\n",
    "\n",
    "# Normalize the features\n",
    "scaler = StandardScaler()\n",
    "x_pol2 = scaler.fit_transform(x_pol2)\n",
    "\n",
    "# Linear Regression\n",
    "lr2 = LinearRegression()\n",
    "lr2.fit(x_pol2, y)\n",
    "\n",
    "# Predictions\n",
    "y_head = lr2.predict(x_pol2)\n",
    "\n",
    "# Plot regression line and scatter\n",
    "plt.scatter(x, y, label=\"Data\")\n",
    "plt.plot(x, y_head, color=\"green\", label=\"Polynomial Regression\")\n",
    "plt.legend()\n",
    "plt.xlabel(\"Year\")\n",
    "plt.ylabel(\"Total Used\")\n",
    "plt.title(\"Polynomial Regression Fit\")\n",
    "plt.show()\n",
    "\n",
    "# R² Score\n",
    "sk_r2 = r2_score(y, y_head)\n",
    "print(\"R² Score obtained for polynomial regression is:\", sk_r2)\n"
   ]
  },
  {
   "cell_type": "markdown",
   "id": "563f197e",
   "metadata": {
    "papermill": {
     "duration": 0.034603,
     "end_time": "2023-09-18T19:22:49.063833",
     "exception": false,
     "start_time": "2023-09-18T19:22:49.029230",
     "status": "completed"
    },
    "tags": []
   },
   "source": [
    "I am preparing a function to perform training using the best parameters we found on the top ten zipzode data of our dataset.\n",
    "\n",
    "---\n",
    "Veri setimizin ilk on zipzode verileri üzerinde bulduğumuz en iyi parametreleri kullanarak eğitim gerçekleştirmek için bir fonksiyon hazılıyorum."
   ]
  },
  {
   "cell_type": "code",
   "execution_count": null,
   "id": "278bdb2c",
   "metadata": {
    "papermill": {
     "duration": 0.061281,
     "end_time": "2023-09-18T19:22:49.163201",
     "exception": false,
     "start_time": "2023-09-18T19:22:49.101920",
     "status": "completed"
    },
    "tags": []
   },
   "outputs": [],
   "source": [
    "import numpy as np\n",
    "import matplotlib.pyplot as plt\n",
    "from sklearn.linear_model import LinearRegression\n",
    "from sklearn.preprocessing import PolynomialFeatures, StandardScaler\n",
    "from sklearn.metrics import r2_score\n",
    "\n",
    "def zip_code_view(zip_code):\n",
    "    zipcode_1 = df_coteg_year[df_coteg_year[\"zipcode\"] == zip_code].sort_values(by=\"year\")\n",
    "    \n",
    "    # Prepare data\n",
    "    x = np.array(zipcode_1[\"year\"]).reshape(-1, 1)\n",
    "    y = np.array(zipcode_1[\"total_used\"]).reshape(-1, 1)\n",
    "\n",
    "    # Polynomial Features\n",
    "    pf2 = PolynomialFeatures(degree=5, interaction_only=False, include_bias=True, order=\"F\")\n",
    "    x_pol2 = pf2.fit_transform(x)\n",
    "\n",
    "    # Normalize the features\n",
    "    scaler = StandardScaler()\n",
    "    x_pol2 = scaler.fit_transform(x_pol2)\n",
    "\n",
    "    # Linear Regression\n",
    "    lr2 = LinearRegression()\n",
    "    lr2.fit(x_pol2, y)\n",
    "\n",
    "    # Predictions\n",
    "    y_head = lr2.predict(x_pol2)\n",
    "\n",
    "    # Plot regression line and scatter\n",
    "    plt.figure(figsize=(15, 4))\n",
    "    \n",
    "    plt.subplot(1, 2, 1)\n",
    "    plt.plot(zipcode_1[\"year\"], zipcode_1[\"total_used\"])\n",
    "    plt.title(zip_code)\n",
    "    plt.ylabel(\"Total Used\")\n",
    "    plt.xlabel(\"Year\")\n",
    "    \n",
    "    plt.subplot(1, 2, 2)\n",
    "    plt.scatter(x, y)\n",
    "    plt.plot(x, y_head, color=\"green\", label=\"Polynomial Fit\")\n",
    "    plt.title(zip_code + \" Predicted\")\n",
    "    plt.ylabel(\"Total Used\")\n",
    "    plt.xlabel(\"Year\")\n",
    "    plt.legend()\n",
    "    \n",
    "    plt.show()\n",
    "\n",
    "    # R² Score\n",
    "    sk_r2 = r2_score(y, y_head)\n",
    "    print(\"R² Score obtained for polynomial regression is:\", sk_r2)\n",
    "    print(\"\\n\")\n"
   ]
  },
  {
   "cell_type": "code",
   "execution_count": null,
   "id": "adc4463b",
   "metadata": {
    "papermill": {
     "duration": 4.060769,
     "end_time": "2023-09-18T19:22:53.261514",
     "exception": false,
     "start_time": "2023-09-18T19:22:49.200745",
     "status": "completed"
    },
    "tags": []
   },
   "outputs": [],
   "source": [
    "# Applying the trained model to the top ten datasets!(ilk on veri kümesine eğitilen modelin uygulanması!)\n",
    "zip_list = [df_coteg_year[\"zipcode\"].head(10)]\n",
    "\n",
    "for i in zip_list[0]:\n",
    "    zip_code_view(i)"
   ]
  },
  {
   "cell_type": "markdown",
   "id": "97445613",
   "metadata": {
    "papermill": {
     "duration": 0.04542,
     "end_time": "2023-09-18T19:22:53.350296",
     "exception": false,
     "start_time": "2023-09-18T19:22:53.304876",
     "status": "completed"
    },
    "tags": []
   },
   "source": [
    "When I examine the results above, I observe that the best parameters in the \"7471AG_7471AG\" - \"7471AM_7471AN\" zipcode ranges do not produce a good result. Therefore, I will perform a new training using the \"7471AM_7471AN\" zipcode range and do the same operations with the results.\n",
    "\n",
    "---\n",
    "Yukarıdaki sonuçları incelediğimde \"7471AG_7471AG\" - \"7471AM_7471AN\" zipcode aralıklarında en iyi parametrelerin iyi bir sonuç çıkarmadığını gözlemliyorum. Bundan dolayı \"7471AM_7471AN\" zipcode aralığını kullanrak yeni bir eğitim gerçekleştiriceğim ve çıkan sonuçlar ile yine aynı işemleri yapacağım."
   ]
  },
  {
   "cell_type": "markdown",
   "id": "afa33438",
   "metadata": {
    "papermill": {
     "duration": 0.042442,
     "end_time": "2023-09-18T19:22:53.443742",
     "exception": false,
     "start_time": "2023-09-18T19:22:53.401300",
     "status": "completed"
    },
    "tags": []
   },
   "source": [
    "### Zipcode_2 <a id = \"2bb\"></a>\n",
    "[Go Content(Content'e Git)](#cont)\n",
    "\n",
    "This section will be the same as the steps in the zipcode_1 section, the only change is that we will use a different zipcode range this time.\n",
    "\n",
    "---\n",
    "Bu bölümde zipcode_1 bölümündeki adımların aynısı olacaktır tek değişklik bu sefer farklı bir zipcode aralığı kullanmamız olacaktır."
   ]
  },
  {
   "cell_type": "code",
   "execution_count": null,
   "id": "eed35309",
   "metadata": {
    "papermill": {
     "duration": 0.294108,
     "end_time": "2023-09-18T19:22:53.783443",
     "exception": false,
     "start_time": "2023-09-18T19:22:53.489335",
     "status": "completed"
    },
    "tags": []
   },
   "outputs": [],
   "source": [
    "zipcode_2 = df_coteg_year[df_coteg_year[\"zipcode\"] == \"7471AM_7471AN\"].sort_values(by = \"year\")\n",
    "print(zipcode_2)\n",
    "print(\"\\n\")"
   ]
  },
  {
   "cell_type": "code",
   "execution_count": null,
   "id": "6e9bf9d5",
   "metadata": {
    "papermill": {
     "duration": 0.197444,
     "end_time": "2023-09-18T19:22:54.031994",
     "exception": false,
     "start_time": "2023-09-18T19:22:53.834550",
     "status": "completed"
    },
    "tags": []
   },
   "outputs": [],
   "source": [
    "import numpy as np\n",
    "import pandas as pd\n",
    "import matplotlib.pyplot as plt\n",
    "from sklearn.linear_model import LinearRegression\n",
    "from sklearn.preprocessing import PolynomialFeatures, StandardScaler\n",
    "from sklearn.metrics import r2_score\n",
    "\n",
    "# Assuming zipcode_2 is defined and contains your data\n",
    "x = np.array(zipcode_2[\"year\"]).reshape(-1, 1)\n",
    "y = np.array(zipcode_2[\"total_used\"]).reshape(-1, 1)\n",
    "\n",
    "degree = [2, 3, 4, 5, 6, 7, 8, 9, 10]\n",
    "interaction_only = [True, False]\n",
    "include_bias = [True, False]\n",
    "order = [\"C\", \"F\"]\n",
    "\n",
    "best_score = float('-inf')\n",
    "best_degree = 0\n",
    "best_normalize = False\n",
    "best_interaction = False\n",
    "best_include = False\n",
    "best_order = \"C\"\n",
    "\n",
    "for d in degree:\n",
    "    for inter in interaction_only:\n",
    "        for incl in include_bias:\n",
    "            for o in order:\n",
    "                # Polynomial Features\n",
    "                pf = PolynomialFeatures(degree=d, interaction_only=inter, include_bias=incl, order=o)\n",
    "                x_pol = pf.fit_transform(x)\n",
    "\n",
    "                # Normalize the polynomial features\n",
    "                scaler = StandardScaler()\n",
    "                x_pol_scaled = scaler.fit_transform(x_pol)\n",
    "\n",
    "                # Linear Regression\n",
    "                lr = LinearRegression()\n",
    "                lr.fit(x_pol_scaled, y)\n",
    "                y_head = lr.predict(x_pol_scaled)\n",
    "\n",
    "                score = r2_score(y, y_head)\n",
    "                if score > best_score:\n",
    "                    best_score = score\n",
    "                    best_degree = d\n",
    "                    best_normalize = False  # Normalize flag not used anymore\n",
    "                    best_interaction = inter\n",
    "                    best_include = incl\n",
    "                    best_order = o\n",
    "\n",
    "print(\"Best Score:\", best_score)\n",
    "print(\"Best Degree:\", best_degree)\n",
    "print(\"Best Normalization: Not applicable (scaled instead)\")\n",
    "print(\"Best interaction_only:\", best_interaction)\n",
    "print(\"Best include_bias:\", best_include)\n",
    "print(\"Best Order:\", best_order)\n"
   ]
  },
  {
   "cell_type": "code",
   "execution_count": null,
   "id": "628fbd57",
   "metadata": {
    "papermill": {
     "duration": 0.297198,
     "end_time": "2023-09-18T19:22:54.372405",
     "exception": false,
     "start_time": "2023-09-18T19:22:54.075207",
     "status": "completed"
    },
    "tags": []
   },
   "outputs": [],
   "source": [
    "pf2 = PolynomialFeatures(degree = 7, interaction_only = False, include_bias = False, order = \"C\")\n",
    "lr2 = LinearRegression()\n",
    "\n",
    "#x_pol = clf.fit(x,y)\n",
    "x_pol2 = pf2.fit_transform(x)\n",
    "\n",
    "lr2.fit(x_pol2, y)\n",
    "\n",
    "y_head = lr2.predict(x_pol2)\n",
    "\n",
    "# Plot regression line and scatter\n",
    "plt.scatter(x, y)\n",
    "plt.plot(x, y_head, color = \"green\", label = \"poly\")\n",
    "plt.legend()\n",
    "plt.show()\n",
    "\n",
    "# R2_Score\n",
    "sk_r2 = r2_score(y, y_head)\n",
    "print(\"R square obtain for normal equation method is: \",sk_r2)"
   ]
  },
  {
   "cell_type": "code",
   "execution_count": null,
   "id": "e5b57b24",
   "metadata": {
    "papermill": {
     "duration": 0.062496,
     "end_time": "2023-09-18T19:22:54.478159",
     "exception": false,
     "start_time": "2023-09-18T19:22:54.415663",
     "status": "completed"
    },
    "tags": []
   },
   "outputs": [],
   "source": [
    "import numpy as np\n",
    "import matplotlib.pyplot as plt\n",
    "from sklearn.linear_model import LinearRegression\n",
    "from sklearn.preprocessing import PolynomialFeatures, StandardScaler\n",
    "from sklearn.metrics import r2_score\n",
    "\n",
    "def zip_code_view(zip_code):\n",
    "    zipcode_1 = df_coteg_year[df_coteg_year[\"zipcode\"] == zip_code].sort_values(by=\"year\")\n",
    "    \n",
    "    # Prepare data\n",
    "    x = np.array(zipcode_1[\"year\"]).reshape(-1, 1)\n",
    "    y = np.array(zipcode_1[\"total_used\"]).reshape(-1, 1)\n",
    "\n",
    "    # Polynomial Features\n",
    "    pf2 = PolynomialFeatures(degree=7, interaction_only=False, include_bias=False, order=\"C\")\n",
    "    x_pol2 = pf2.fit_transform(x)\n",
    "\n",
    "    # Normalize the polynomial features\n",
    "    scaler = StandardScaler()\n",
    "    x_pol2 = scaler.fit_transform(x_pol2)\n",
    "\n",
    "    # Linear Regression\n",
    "    lr2 = LinearRegression()\n",
    "    lr2.fit(x_pol2, y)\n",
    "\n",
    "    # Predictions\n",
    "    y_head = lr2.predict(x_pol2)\n",
    "\n",
    "    # Plot regression line and scatter\n",
    "    plt.figure(figsize=(15, 4))\n",
    "    \n",
    "    plt.subplot(1, 2, 1)\n",
    "    plt.plot(zipcode_1[\"year\"], zipcode_1[\"total_used\"], label=\"Actual Data\")\n",
    "    plt.title(zip_code)\n",
    "    plt.ylabel(\"Total Used\")\n",
    "    plt.xlabel(\"Year\")\n",
    "    \n",
    "    plt.subplot(1, 2, 2)\n",
    "    plt.scatter(x, y, label=\"Data Points\")\n",
    "    plt.plot(x, y_head, color=\"green\", label=\"Polynomial Fit\")\n",
    "    plt.title(zip_code + \" Predicted\")\n",
    "    plt.ylabel(\"Total Used\")\n",
    "    plt.xlabel(\"Year\")\n",
    "    plt.legend()\n",
    "    \n",
    "    plt.show()\n",
    "\n",
    "    # R² Score\n",
    "    sk_r2 = r2_score(y, y_head)\n",
    "    print(\"R² Score obtained for polynomial regression is:\", sk_r2)\n",
    "    print(\"\\n\")\n"
   ]
  },
  {
   "cell_type": "code",
   "execution_count": null,
   "id": "2296ca0b",
   "metadata": {
    "papermill": {
     "duration": 3.779621,
     "end_time": "2023-09-18T19:22:58.303006",
     "exception": false,
     "start_time": "2023-09-18T19:22:54.523385",
     "status": "completed"
    },
    "tags": []
   },
   "outputs": [],
   "source": [
    "zip_list = [df_coteg_year[\"zipcode\"].head(10)]\n",
    "\n",
    "for i in zip_list[0]:\n",
    "    zip_code_view(i)"
   ]
  },
  {
   "cell_type": "markdown",
   "id": "cde853ac",
   "metadata": {
    "papermill": {
     "duration": 0.050763,
     "end_time": "2023-09-18T19:22:58.406024",
     "exception": false,
     "start_time": "2023-09-18T19:22:58.355261",
     "status": "completed"
    },
    "tags": []
   },
   "source": [
    "Observing the above results, I see that the training results we did in zipcode_1 have improved a bit more. This time, I observe that it achieves better results than zipcode1 in the \"7471AG_7471AG\" - \"7471AM_7471AN\" zipcode ranges with model parameters.\n",
    "\n",
    "---\n",
    "Yukarıdaki sonuçları gözlemlediğimizde zipcode_1'de yaptığımız eğitim sonuçlarının biraz daha geliştiğini görüyorum. Bu sefer model parametreli \"7471AG_7471AG\" - \"7471AM_7471AN\" zipcode aralıklarında zipcode1'e göre daha iyi sonuç elde ettiğini gözlemliyorum."
   ]
  },
  {
   "cell_type": "markdown",
   "id": "31503585",
   "metadata": {
    "papermill": {
     "duration": 0.051373,
     "end_time": "2023-09-18T19:22:58.508907",
     "exception": false,
     "start_time": "2023-09-18T19:22:58.457534",
     "status": "completed"
    },
    "tags": []
   },
   "source": [
    "## Examination of the prepared dataset(Hazırlanan veri setinin incelenmesi) <a id = \"2c\"></a>\n",
    "[Go Content(Content'e Git)](#cont)\n",
    "\n",
    "In this section, we will make some examinations on the training data set we have prepared.\n",
    "\n",
    "---\n",
    "Bu bölümde hazırladığımız eğitim veri seti üzerinde bazı incelemeler yapacağız."
   ]
  },
  {
   "cell_type": "code",
   "execution_count": null,
   "id": "28c95cd6",
   "metadata": {
    "papermill": {
     "duration": 0.072241,
     "end_time": "2023-09-18T19:22:58.632608",
     "exception": false,
     "start_time": "2023-09-18T19:22:58.560367",
     "status": "completed"
    },
    "tags": []
   },
   "outputs": [],
   "source": [
    "# En fazla enerji tüketilen yıllar.(The most energy consuming years and their zipcodes.)\n",
    "df_coteg_year.sort_values(by = \"total_used\", ascending = False).head(10)"
   ]
  },
  {
   "cell_type": "code",
   "execution_count": null,
   "id": "431ca98f",
   "metadata": {
    "papermill": {
     "duration": 0.072082,
     "end_time": "2023-09-18T19:22:58.756870",
     "exception": false,
     "start_time": "2023-09-18T19:22:58.684788",
     "status": "completed"
    },
    "tags": []
   },
   "outputs": [],
   "source": [
    "# Least energy consuming years and zip codes(En az enerji tüketen yıllar ve posta kodları.)\n",
    "df_coteg_year.sort_values(by = \"total_used\", ascending = True).head(10)"
   ]
  },
  {
   "cell_type": "code",
   "execution_count": null,
   "id": "f472f669",
   "metadata": {
    "papermill": {
     "duration": 0.078299,
     "end_time": "2023-09-18T19:22:58.887084",
     "exception": false,
     "start_time": "2023-09-18T19:22:58.808785",
     "status": "completed"
    },
    "tags": []
   },
   "outputs": [],
   "source": [
    "# The total amount of energy consumed by Zipcodes between 2013 and 2020.(2013 ile 2020 yılları arasında Posta kodlarının tükettiği toplam enerji miktarı.)\n",
    "# Listed from most to least(En çoktan en aza doğru sılanmış halidiri)\n",
    "df_coteg_year.groupby(\"zipcode\").agg({\"total_used\" : \"sum\"}).sort_values(by = \"total_used\",ascending = False).head(10)"
   ]
  },
  {
   "cell_type": "code",
   "execution_count": null,
   "id": "257311e6",
   "metadata": {
    "papermill": {
     "duration": 0.079765,
     "end_time": "2023-09-18T19:22:59.018693",
     "exception": false,
     "start_time": "2023-09-18T19:22:58.938928",
     "status": "completed"
    },
    "tags": []
   },
   "outputs": [],
   "source": [
    "# The total amount of energy consumed by Zipcodes between 2013 and 2020.(2013 ile 2020 yılları arasında Posta kodlarının tükettiği toplam enerji miktarı.)\n",
    "# Sorted from least to most(En azdan en çoka doğru sıralanmış)\n",
    "df_coteg_year.groupby(\"zipcode\").agg({\"total_used\" : \"sum\"}).sort_values(by = \"total_used\",ascending = True).head(10)"
   ]
  },
  {
   "cell_type": "markdown",
   "id": "6aa06957",
   "metadata": {
    "papermill": {
     "duration": 0.061963,
     "end_time": "2023-09-18T19:22:59.132469",
     "exception": false,
     "start_time": "2023-09-18T19:22:59.070506",
     "status": "completed"
    },
    "tags": []
   },
   "source": [
    "# Segmentation of Zipcodes(Posta kutlarının segmantasyonu) <a id = \"3\"></a>\n",
    "[Go Content(Content'e Git)](#cont)\n",
    "\n",
    "In this section, I will perform a segmentation process by making use of the total tariffs spent by zipcodes on the total energy they consume, in low tariffs and high tariffs. In this segmentation process, we will see what zipcodes mean to the company.\n",
    "\n",
    "---\n",
    "Bu bölümde zipcode'ların toplam harcadıklar enerji üzerinden, düşük tarife ve yüksek tarifelerde harcadıkları toplam toplam tarifelerden yararlanarak bir segmantasyon işlemi gerçekleştireceğim. Bu segmantasyon işleminde zipcode'ların şirket için ne anlam ifade ettiklerini göreceğiz."
   ]
  },
  {
   "cell_type": "markdown",
   "id": "3e202b4a",
   "metadata": {
    "papermill": {
     "duration": 0.052399,
     "end_time": "2023-09-18T19:22:59.250047",
     "exception": false,
     "start_time": "2023-09-18T19:22:59.197648",
     "status": "completed"
    },
    "tags": []
   },
   "source": [
    "## Prepare The Dataset(Veri Setini Hazırlama) <a id = \"3a\"></a>\n",
    "[Go Content(Content'e Git)](#cont)\n",
    "\n",
    "In this section, I will be preparing the data set for which I will be segmenting.\n",
    "\n",
    "---\n",
    "Bu bölümde segmentasyon işlemi yapacağım veri setini hazırlıyor olacağım."
   ]
  },
  {
   "cell_type": "code",
   "execution_count": null,
   "id": "18e4357f",
   "metadata": {
    "papermill": {
     "duration": 0.244753,
     "end_time": "2023-09-18T19:22:59.547512",
     "exception": false,
     "start_time": "2023-09-18T19:22:59.302759",
     "status": "completed"
    },
    "tags": []
   },
   "outputs": [],
   "source": [
    "area_seg_df = pd.DataFrame(columns = [\"zip_code\", \"year\", \"net_cum_cun\", \"annual_consume\", \"annual_consume_lowtarif\"])\n",
    "for dirname, _, filenames in os.walk('../datasets/dutch-energy/Electricity'):\n",
    "    for filename in filenames:\n",
    "        if filename.__contains__(\"coteq\"):\n",
    "            data_path = os.path.join(dirname, filename)\n",
    "            dataf2 = pd.read_csv(data_path)\n",
    "            b_data = pd.DataFrame()\n",
    "            b_data[\"zip_code\"]= dataf2[\"zipcode_from\"] + \"_\" + dataf2[\"zipcode_to\"]\n",
    "            b_data[\"year\"] = filename[18:22]\n",
    "            b_data[\"net_cum_cun\"] = round((dataf2[\"num_connections\"] * dataf2[\"perc_of_active_connections\"]) / 100).astype(int)\n",
    "            b_data[\"annual_consume\"] = dataf2[\"annual_consume\"]\n",
    "            b_data[\"annual_consume_lowtarif\"] = round((dataf2[\"annual_consume\"] * dataf2[\"annual_consume_lowtarif_perc\"]) / 100).astype(int)\n",
    "            area_seg_df = pd.concat([area_seg_df, b_data], axis = 0)"
   ]
  },
  {
   "cell_type": "code",
   "execution_count": null,
   "id": "8ae47162",
   "metadata": {
    "papermill": {
     "duration": 0.06732,
     "end_time": "2023-09-18T19:22:59.667503",
     "exception": false,
     "start_time": "2023-09-18T19:22:59.600183",
     "status": "completed"
    },
    "tags": []
   },
   "outputs": [],
   "source": [
    "area_seg_df[\"index\"] = range(0,area_seg_df.shape[0])\n",
    "area_seg_df = area_seg_df.set_index(\"index\")"
   ]
  },
  {
   "cell_type": "code",
   "execution_count": null,
   "id": "28a2bbdd",
   "metadata": {
    "papermill": {
     "duration": 0.072852,
     "end_time": "2023-09-18T19:22:59.793201",
     "exception": false,
     "start_time": "2023-09-18T19:22:59.720349",
     "status": "completed"
    },
    "tags": []
   },
   "outputs": [],
   "source": [
    "# The first five data of the dataset I prepared.(Hazırladığım veri setinin ilk beş verileri.)\n",
    "area_seg_df.head()"
   ]
  },
  {
   "cell_type": "code",
   "execution_count": null,
   "id": "ae9fd7c9",
   "metadata": {
    "papermill": {
     "duration": 0.06475,
     "end_time": "2023-09-18T19:22:59.910686",
     "exception": false,
     "start_time": "2023-09-18T19:22:59.845936",
     "status": "completed"
    },
    "tags": []
   },
   "outputs": [],
   "source": [
    "# Calculation of high tariff data.(Yüksek tarife verilerinin hesaplanması)\n",
    "area_seg_df[\"annual_consume_hightarif\"] = area_seg_df[\"annual_consume\"] - area_seg_df[\"annual_consume_lowtarif\"]"
   ]
  },
  {
   "cell_type": "code",
   "execution_count": null,
   "id": "01da79b0",
   "metadata": {
    "papermill": {
     "duration": 0.071492,
     "end_time": "2023-09-18T19:23:00.034943",
     "exception": false,
     "start_time": "2023-09-18T19:22:59.963451",
     "status": "completed"
    },
    "tags": []
   },
   "outputs": [],
   "source": [
    "# The final version of the prepared data set.(Hazırlanan veri setinin son hali.)\n",
    "area_seg_df.head()"
   ]
  },
  {
   "cell_type": "markdown",
   "id": "610afa60",
   "metadata": {
    "papermill": {
     "duration": 0.054261,
     "end_time": "2023-09-18T19:23:00.142450",
     "exception": false,
     "start_time": "2023-09-18T19:23:00.088189",
     "status": "completed"
    },
    "tags": []
   },
   "source": [
    "**zip_code:** Energy consuming postal code ranges. (Enerji tüketen posta kodu aralıkları.)<br>\n",
    "**Year:** Year.(Yıl)<br>\n",
    "**Net_cum_cun:** The number of net connections in the zip code range. (Posta kodu aralığında olan net bağlantı sayısı.)<br>\n",
    "**annual_consume:** Annual energy consumption. (Yıllık enerji tüketimi)<br>\n",
    "**annual_consume_lowtarif:** The annual percentage of energy used in the low tariff. (Düşük tarifede kullanılan yıllık enerji yüzdesi.)<br>\n",
    "**annual_consume_hightarif:** Annual percentage of energy used at high tariff. (Yüksek tarifede kullanulan yıllık enerji yüzdesi.)\n"
   ]
  },
  {
   "cell_type": "code",
   "execution_count": null,
   "id": "2d9d5f3f",
   "metadata": {
    "papermill": {
     "duration": 0.0872,
     "end_time": "2023-09-18T19:23:00.283894",
     "exception": false,
     "start_time": "2023-09-18T19:23:00.196694",
     "status": "completed"
    },
    "tags": []
   },
   "outputs": [],
   "source": [
    "area_seg_df.info()"
   ]
  },
  {
   "cell_type": "code",
   "execution_count": null,
   "id": "55cccd8c",
   "metadata": {
    "papermill": {
     "duration": 0.08127,
     "end_time": "2023-09-18T19:23:00.419378",
     "exception": false,
     "start_time": "2023-09-18T19:23:00.338108",
     "status": "completed"
    },
    "tags": []
   },
   "outputs": [],
   "source": [
    "# Changing Object data types to integer data types. (Object olan veri tiplerinin integer veri tipi olarak değiştirilmesi.)\n",
    "area_seg_df[\"year\"] = area_seg_df[\"year\"].astype(int)\n",
    "area_seg_df[\"net_cum_cun\"] = area_seg_df[\"net_cum_cun\"].astype(int)\n",
    "area_seg_df[\"annual_consume\"] = area_seg_df[\"annual_consume\"].astype(int)\n",
    "area_seg_df[\"annual_consume_lowtarif\"] = area_seg_df[\"annual_consume_lowtarif\"].astype(int)\n",
    "area_seg_df[\"annual_consume_hightarif\"] = area_seg_df[\"annual_consume_hightarif\"].astype(int)"
   ]
  },
  {
   "cell_type": "code",
   "execution_count": null,
   "id": "ff80579d",
   "metadata": {
    "papermill": {
     "duration": 0.103019,
     "end_time": "2023-09-18T19:23:00.576420",
     "exception": false,
     "start_time": "2023-09-18T19:23:00.473401",
     "status": "completed"
    },
    "tags": []
   },
   "outputs": [],
   "source": [
    "# The first review step of the data set we prepared.(Hazırladığımız veri setinin ilk inceleme adımı)\n",
    "InfofData(area_seg_df)"
   ]
  },
  {
   "cell_type": "code",
   "execution_count": null,
   "id": "849c68a3",
   "metadata": {
    "papermill": {
     "duration": 0.074228,
     "end_time": "2023-09-18T19:23:00.703859",
     "exception": false,
     "start_time": "2023-09-18T19:23:00.629631",
     "status": "completed"
    },
    "tags": []
   },
   "outputs": [],
   "source": [
    "# Degree with annual energy consumption of 0! (Yıllık enerji tüketimeri 0 olan veriler!)\n",
    "area_seg_df[area_seg_df[\"annual_consume\"] == 0].sort_values(by = \"annual_consume\", ascending = True)"
   ]
  },
  {
   "cell_type": "code",
   "execution_count": null,
   "id": "b4613b59",
   "metadata": {
    "papermill": {
     "duration": 0.086163,
     "end_time": "2023-09-18T19:23:00.843796",
     "exception": false,
     "start_time": "2023-09-18T19:23:00.757633",
     "status": "completed"
    },
    "tags": []
   },
   "outputs": [],
   "source": [
    "# There are two zipcode values whose annual consumption is 0. (Yıllık tüketiminin toplamı 0 olan iki tane zipcode değerleri bulunmakta)\n",
    "area_seg_df[area_seg_df[\"annual_consume\"] == 0].groupby(\"zip_code\").agg({\"annual_consume\" : \"sum\"})"
   ]
  },
  {
   "cell_type": "markdown",
   "id": "db55f295",
   "metadata": {
    "papermill": {
     "duration": 0.054707,
     "end_time": "2023-09-18T19:23:00.953073",
     "exception": false,
     "start_time": "2023-09-18T19:23:00.898366",
     "status": "completed"
    },
    "tags": []
   },
   "source": [
    "I'll extract these zipcode ranges with an annual consumption of 0 from my dataset. I have specified the zipcode ranges here and will exclude these values from our dataset because I do not want these zipcode ranges with values 0 to have any effect on the data during the segmentation phase. If you ask why I don't want it? I will assign classes to the zipcode ranges during the segmentation phase, and since it is obvious that these zipcode ranges will be in the lowest class in every respect, I perform such a process.\n",
    "\n",
    "---\n",
    "Yıllık tüketimi 0 olan bu zipcode aralıklarını veri setimden çıkaracağım. Zipcode aralıklarını burada belirttim ve bu değerleri veri setimizden çıkaracağım çünkü değerleri 0 olan bu zipcode aralıklarının segmentasyon aşamasında veriye bir etkisinin olmasını istemiyorum. Neden istemiyorum diye soracak olur iseniz? Segmentasyon aşamasında zipcode aralıklarına sınıflar atayacağım ve bu zipcode aralıklarının zaten her açıdan en düşük sınıfta olacağı belli olduğundan dolayı böyle bir işlem gerçekleştiriyorum."
   ]
  },
  {
   "cell_type": "code",
   "execution_count": null,
   "id": "5b9f860a",
   "metadata": {
    "papermill": {
     "duration": 0.066226,
     "end_time": "2023-09-18T19:23:01.074424",
     "exception": false,
     "start_time": "2023-09-18T19:23:01.008198",
     "status": "completed"
    },
    "tags": []
   },
   "outputs": [],
   "source": [
    "area_seg_df = area_seg_df[area_seg_df[\"annual_consume\"] != 0]"
   ]
  },
  {
   "cell_type": "markdown",
   "id": "54be37b1",
   "metadata": {
    "papermill": {
     "duration": 0.054551,
     "end_time": "2023-09-18T19:23:01.183375",
     "exception": false,
     "start_time": "2023-09-18T19:23:01.128824",
     "status": "completed"
    },
    "tags": []
   },
   "source": [
    "In the code blocks below, I create classes (\"A\", \"B\", \"C\", \"D\") using the Class_of_Total, Class_Of_Lowtarif, Class_Of_Hightarif columns in the data set. The order of these classes decreases from \"A\" to \"D\", so the best class is \"A\" and the worst class is \"D\".\n",
    "\n",
    "---\n",
    "Aşağıdaki kod bloklarında veri setimizin içerisinde bulunan Class_of_Total, Class_Of_Lowtarif, Class_Of_Hightarif sütünlarını kullanarak (\"A\", \"B\", \"C\", \"D\") sınıflarını oluşturuyorum. Bu sınıfların sıralaması \"A\"'dan \"D\"'ye doğru seviye düşer yani en iyi sınıf \"A\", en kötü sınıf ise \"D\" sınfıdır."
   ]
  },
  {
   "cell_type": "code",
   "execution_count": null,
   "id": "7d78e102",
   "metadata": {
    "papermill": {
     "duration": 0.102781,
     "end_time": "2023-09-18T19:23:01.340143",
     "exception": false,
     "start_time": "2023-09-18T19:23:01.237362",
     "status": "completed"
    },
    "tags": []
   },
   "outputs": [],
   "source": [
    "area_seg_df[\"Class_of_Total\"] = pd.qcut(area_seg_df[\"annual_consume\"].rank(method = \"first\"), 4, labels = [\"D\", \"C\", \"B\", \"A\"])\n",
    "area_seg_df[\"Class_of_lowtarif\"] = pd.qcut(area_seg_df[\"annual_consume_lowtarif\"].rank(method = \"first\"), 4, labels = [\"A\", \"B\", \"C\", \"D\"])\n",
    "area_seg_df[\"Class_of_hightarif\"] = pd.qcut(area_seg_df[\"annual_consume_hightarif\"].rank(method = \"first\"), 4, labels = [\"D\", \"C\", \"B\", \"A\"])\n",
    "\n",
    "area_seg_df[\"Class\"] = area_seg_df[\"Class_of_hightarif\"].astype(str) + \\\n",
    "                        area_seg_df[\"Class_of_Total\"].astype(str) + \\\n",
    "                        area_seg_df[\"Class_of_lowtarif\"].astype(str)"
   ]
  },
  {
   "cell_type": "code",
   "execution_count": null,
   "id": "4c168528",
   "metadata": {
    "papermill": {
     "duration": 0.077121,
     "end_time": "2023-09-18T19:23:01.471546",
     "exception": false,
     "start_time": "2023-09-18T19:23:01.394425",
     "status": "completed"
    },
    "tags": []
   },
   "outputs": [],
   "source": [
    "# Final version of the dataset(Veri setimizin son hali)\n",
    "area_seg_df.head()"
   ]
  },
  {
   "cell_type": "markdown",
   "id": "7eb301b9",
   "metadata": {
    "papermill": {
     "duration": 0.054195,
     "end_time": "2023-09-18T19:23:01.580915",
     "exception": false,
     "start_time": "2023-09-18T19:23:01.526720",
     "status": "completed"
    },
    "tags": []
   },
   "source": [
    "## Examining The Results (Sonuçların İncelenmesi) <a id = \"3b\"></a>\n",
    "[Go Content(Content'e Git)](#cont)\n",
    "\n",
    "In this chapter, I am going to examine on the prepared dataset. Data distributions in classes, highest values, lowest values, etc. I will comment on the issues.\n",
    "\n",
    "---\n",
    "Bu bölümde, hazırladığımız veri seti üzerinde incelemeler gerçekleştireceğim. Sınıflardaki veri dağılımlarını, en yüksek değerleri, en düşük değerleri vb. konular üzerinde yorumlarda bulunacağım."
   ]
  },
  {
   "cell_type": "code",
   "execution_count": null,
   "id": "2c5a24f4-d293-4cdc-91c7-31b613d41f3e",
   "metadata": {},
   "outputs": [],
   "source": [
    "print(area_seg_df.dtypes)"
   ]
  },
  {
   "cell_type": "code",
   "execution_count": null,
   "id": "d260423f-beb2-4a3e-bafb-5b105961e1e2",
   "metadata": {},
   "outputs": [],
   "source": [
    "# Check for non-numeric values and NaN\n",
    "print(area_seg_df['annual_consume'].isna().sum())  # Count NaN values\n",
    "print(area_seg_df['annual_consume'].dtype)          # Confirm dtype\n",
    "\n",
    "# Convert to numeric\n",
    "area_seg_df['annual_consume'] = pd.to_numeric(area_seg_df['annual_consume'], errors='coerce')\n",
    "\n",
    "# Perform the aggregation\n",
    "result = area_seg_df.groupby(\"Class_of_lowtarif\").agg({\n",
    "    \"annual_consume\": [\"count\", \"sum\", \"mean\"]\n",
    "})\n",
    "\n",
    "print(result)\n"
   ]
  },
  {
   "cell_type": "markdown",
   "id": "963e602a",
   "metadata": {
    "papermill": {
     "duration": 0.054966,
     "end_time": "2023-09-18T19:23:01.911987",
     "exception": false,
     "start_time": "2023-09-18T19:23:01.857021",
     "status": "completed"
    },
    "tags": []
   },
   "source": [
    "I am going to examine the distribution of classes in other columns in the classification process according to the high tariff. According to the highest tariff, I see that the energy consumption is in 2015. Net_cum_cun(Number of net connections in the zip code) I see that the average number of connections in the \"A\" class is 19 and there is a slight increase in the number of connections as the classes decrease. In the high tariff, Annual_consume (Total energy consumed annually) data shows 5540 as the average in the \"A\" class, and as the classes decrease, there is a decrease in energy consumption, but there is an increase in energy in the \"D\" class. Low tariff Annual Consumption Low tariff (Low tariff energy consumption) shows an average of 4230 in the \"A\" class and there is a decrease in energy consumption compared to the classes, but I observe an increase in the \"D\" class. Annual Consumption There is an average of 1310 energy consumption in the \"A\" class in terms of High tariff (High-level energy consumption) and it is gradually decreasing.\n",
    "\n",
    "   In general, I had the opportunity to observe the relationships between the high tariff data set and the other columns. In general, it is observed that people consume less energy at high tariff compared to the low tariff. I observe that there is no relationship between the number of connections and energy consumption. Because, with an average of 19 connections in the \"A\" class, the average total energy consumed is 5540 and the average number of connections between the classes slightly increases, but the same change does not occur in the total amount of energy consumed. Therefore, it shows that the number of connections does not affect energy consumption.\n",
    "\n",
    "   In summary, I can say that the energy consumption in the high tariff is below the energy consumption in the low tariff.\n",
    "\n",
    "---   \n",
    "   Yüksek tarifeye göre sınıflandırma işleminde sınıfların diğer kolonlar üzerindeki dağılımlarını inceleyeceğim. En yüksek yüksek tarifeye göre enerji tüketimin 2015 yılında olduğunu görüyorum. Net_cum_cun(Posta kodunun net bağlantı sayısı) \"A\" sınıfında ortalama bağlantı sayısı 19 olduğunu görüyorum ve sınıflar düştükçe bağlantı sayılarında azda olsa artma var. Yüksek tarifede Annual_consume(Yıllık tüketilen toplam enerji) verisinin \"A\" sınıfındaki ortalaması 5540 olarak görünüyor ve sınıflar düştükçe enerji tüketiminde düşmeler meydana geliyor ama \"D\" sınıfında enerji artışıda görülüyor. Düşük tarife Annual Consume Lowtarif(Düşük tarifede enerji tüketimi) \"A\" sınıfında ortalama 4230 olarak görünüyor sınıflara göre ondada düşme var ama \"D\" sınıfında artıtığını gözlemliyorum. Annual Consume Hightarif(Yüksek seviyeli enerji tüketim) konusunda \"A\" sınıfında ortalama 1310 enerji tüketimi var ve giderek düşüyor. \n",
    "   \n",
    "   Genel olarak yüksek tarifeli veri setinin diğer kolonlar ile arasındaki ilişkileri gözlemleme fısatı buldum. Genel olarak bakığımızda insanlar düşük tarifeye kıyasla yüksek tarifede daha az enerji tükettiğini gözlemleniyor. Bağlatı sayısının enerji tüketimi ile arasında bir ilişki olmadığını gözlemliyorum. Çünkü \"A\" sınıfında ortalama 19 bağlantı ile ortalama toplam tüketilen enerji 5540 ve sınıfılar arasındaki ortalama bağlantı sayısında azda olsa artma olur iken toplan tüketilen enerji miktarında aynı değişim oluşmuyor. Dolayısıyla bağlantı sayısının enerji tüketimi üzerinde bir etkisinin olmadığını gösteriyor.\n",
    "   \n",
    "   Özet olarak geçmem gerekir ise Yüksek tarifedeki enerji tüketimi düşük tarifeki enerji tüketimin altında kalmış diyebilirim."
   ]
  },
  {
   "cell_type": "code",
   "execution_count": null,
   "id": "29fda585",
   "metadata": {
    "papermill": {
     "duration": 0.164219,
     "end_time": "2023-09-18T19:23:02.131728",
     "exception": false,
     "start_time": "2023-09-18T19:23:01.967509",
     "status": "completed"
    },
    "tags": []
   },
   "outputs": [],
   "source": [
    "# Perform the aggregation correctly\n",
    "result = area_seg_df.groupby(\"Class_of_lowtarif\").agg({\n",
    "    \"annual_consume\": [\"count\", \"sum\", \"mean\"],\n",
    "    \"annual_consume_lowtarif\": [\"count\", \"sum\", \"mean\"],\n",
    "    \"annual_consume_hightarif\": [\"count\", \"sum\", \"mean\"]\n",
    "})\n",
    "\n",
    "print(result)\n"
   ]
  },
  {
   "cell_type": "markdown",
   "id": "5113ce22",
   "metadata": {
    "papermill": {
     "duration": 0.054116,
     "end_time": "2023-09-18T19:23:02.243057",
     "exception": false,
     "start_time": "2023-09-18T19:23:02.188941",
     "status": "completed"
    },
    "tags": []
   },
   "source": [
    "   Our classification process in this section will be on low-tariff energy consumption. We will look at the relationship of low tariff classes with other columns. While classifying according to the low tariff, the higher the energy consumption, the closer to the \"D\" class, and the lower the energy consumption, the closer to the \"A\" class. My purpose in making such a classification is that the low tariff brings less profit to the company than the high tariff, so I made a profit-oriented transaction. So we can see that the annual_consume_lowtarif column in the \"D\" class consumes high energy.\n",
    "\n",
    "   When we examine it according to our low tariff classes, the average total amount of energy consumed in the \"D\" class is higher than the \"A\" class, so people consume more energy in the low tariff energy time interval. In the evaluation process according to the low tariff, I observe that the total amount of energy (annual_consume) consumed by the \"D\" class is higher than that of the \"A\" class. There is an imbalance in the total consumed energy (Annual Consumption HighTariff) levels in the high tariff, The amount of energy consumed in the \"D\" class at the average high tariff is very close to the \"A\" class, but still higher in the \"D\" class. Therefore, I observe that people who consume energy at low tariff also consume energy at high tariff. In other words, they do not consume energy only in a low tariff.\n",
    "   \n",
    "   To summarize, there is a linear relationship between the energy consumed at low tariff and the total energy consumed.\n",
    "   \n",
    "---\n",
    "   Bu kısımdaki sınıflandırma işlemimiz düşük tarife enerji tükerimi üzerinde olacak. Düşük tarife sınıflarının diğer kolonlar ile olan ilişkisine bakacağız. Düşük tarifeye göre sınıflandırma yapar iken enerji tüketimi ne kadar yüksek ise \"D\" sınıfına daha yakın, enerji tüketimi ne kadar düşük ise \"A\" sınıfına daha yakın olarak yaptım. Böyle sınıflandırma yapma sebebim düşük tarifenin şirkete kazancı yüksek tarifiye göre düşük olacağından dolayı kazanç bazlı bir sınıflandırma işlemi yaptım. Yani \"D\" sınfıdaki annual_consume_lowtarif sütununun yüksek enerji tükettiğini görebiliriz.\n",
    "   \n",
    "   Düşük tarifeli sınıflarımıza göre incelediğimizde \"D\" sınıfında ortalama toplam tükerilen enerji miktarı \"A\" sınıfına kıyasla yüksek bundan dolayı insanların düşük tarifeli enerji zaman aralığında daha fazla enerji tükettiğini gösteriyor. Düşük tarifeye göre sınıflandırma işlemimizde \"D\" sınıfının toplam tükettiği enerji(annual_consume) miktarı \"A\" sınfınınkinden fazla olduğunu gözlemliyorum. Yüksek tarifedeki toplam tüketilen enerji(Annual Consume Hightarif) seviyelerine baktığımızda bir dengesizlik var, \"D\" sınıfıda ortalama yüksek tarifede tüketilen enerji sayısı \"A\" sınıfa çok yakın ama yinede \"D\" sınıfında daha yüksek bundan dolayı düşük tarife enerji tüketen insanlar aynı zamanda yüksek tarifede de enerji tükettiklerini gözlemiyorum. Yani yalnızca düşük tarifede enerji tüketmiyorlar.\n",
    "   \n",
    "   Özetlemek gerekirse Düşük tarifede tüketilen enerji ile toplam tüketilen enerji arasında linear bir artış vardır."
   ]
  },
  {
   "cell_type": "code",
   "execution_count": null,
   "id": "3bc9346f",
   "metadata": {
    "papermill": {
     "duration": 0.166264,
     "end_time": "2023-09-18T19:23:02.464504",
     "exception": false,
     "start_time": "2023-09-18T19:23:02.298240",
     "status": "completed"
    },
    "tags": []
   },
   "outputs": [],
   "source": [
    "# Perform the aggregation correctly\n",
    "result = area_seg_df.groupby(\"Class_of_Total\").agg({\n",
    "    \"annual_consume\": [\"count\", \"sum\", \"mean\"],\n",
    "    \"annual_consume_lowtarif\": [\"count\", \"sum\", \"mean\"],\n",
    "    \"annual_consume_hightarif\": [\"count\", \"sum\", \"mean\"]\n",
    "})\n",
    "\n",
    "print(result)"
   ]
  },
  {
   "cell_type": "markdown",
   "id": "b60d2c5e",
   "metadata": {
    "papermill": {
     "duration": 0.054981,
     "end_time": "2023-09-18T19:23:02.575123",
     "exception": false,
     "start_time": "2023-09-18T19:23:02.520142",
     "status": "completed"
    },
    "tags": []
   },
   "source": [
    "   Now I will do the classification in terms of total energy consumption. These classes vary according to the total amount of energy consumed. While the \"A\" class is the class that consumes the most energy, the \"D\" class is the least energy depletion class.\n",
    "   \n",
    "   According to the total consumed energy (annual consumption) amount, there is a difference between the \"A\" class and other classes and as you move towards the \"D\" in classes, energy consumption decreases. In the low tariff total consumed energy (annual_consume_lowtarif) values, the average consumed energy consumption is high in the \"A\" class and as you move towards the \"D\", there is a decrease in energy consumption. I observe that there is the same relationship for high tariff energy consumption as in the other columns.\n",
    "   \n",
    "   To summarize, there is a linear relationship between total energy consumed and high-tariff energy consumption, and low tariff energy consumption. \n",
    "To see clearly here, I observe that low tariff energy consumption is more than high tariff energy consumption.\n",
    "\n",
    "---\n",
    "   Şimdi toplam enerji tüketimine göre sınıflandırma gerçekleştireceğim. Buradaki sınıflar toplam tüketilen enerjinin yüksekliğine göre değişiyor \"A\" sınıfı en fazla enerji tüketen sınıf iken \"D\" sınıfı en az enerji tüken sınfı olmaktadır.\n",
    "   \n",
    "   Toplam tüketilen enerji(annual_consume) miktarına baktığımızda, \"A\" sınıfı ile diğer sınıflar arasında fark vardır ve sınıflarda \"D\"'ye doğru gidildikçe enerji tükerimi düşmektedir. Düşük tarifeli toplam tüketilen enerji(annual_consume_lowtarif) değerilerinede ise yine ortalama tüketilen enerji miktarı \"A\" sınıfında yüksektir ve \"D\"'ye doğru gidildikçe enerji tüketiminde düşmeler meydana gelmektedir. Yüksek tarifeli enerji tüketimine(annual_consume_hightarif) baktığımızda diğer kolonlar ile aynı ilişki olduğunu gözlemliyorum.\n",
    "   \n",
    "   Özetlemem gerekir ise Toplam tüketilen enerji ile yüksek tarifeli enerji tüketimi ve düşük tarifeli enerji tükerimi arasında linear bir ilişki vardır. Burada net bir şekilde görüldüğü üzere düşük tarifeli enerji tüketimi yüksek tarifeli enerji tüketimden daha fazla olduğunu gözlemliyorum."
   ]
  },
  {
   "cell_type": "markdown",
   "id": "ec265440",
   "metadata": {
    "papermill": {
     "duration": 0.055858,
     "end_time": "2023-09-18T19:23:02.686604",
     "exception": false,
     "start_time": "2023-09-18T19:23:02.630746",
     "status": "completed"
    },
    "tags": []
   },
   "source": [
    "### Sort Data(Veri Sıralama) <a id = \"3c\"></a>\n",
    "[Go Content(Content'e Git)](#cont)\n",
    "\n",
    "   In this chapter, I am going to sort the data \n",
    "\n",
    "---\n",
    "   Bu bölümde, verileri sıralama işlemi yapacağım."
   ]
  },
  {
   "cell_type": "markdown",
   "id": "0843c022",
   "metadata": {
    "papermill": {
     "duration": 0.055098,
     "end_time": "2023-09-18T19:23:02.797281",
     "exception": false,
     "start_time": "2023-09-18T19:23:02.742183",
     "status": "completed"
    },
    "tags": []
   },
   "source": [
    "#### Chapter 1: Sort Columns(Bölüm 1: Kolonlara Göre Sıralama) <a id = \"3c1\"></a>\n",
    "[Go Content(Content'e Git)](#cont)\n",
    "\n",
    "   In this section, I will sort by annual_consume, annual_consume_lowtarif, annual_consume_hightarif columns and we will observe the highest and lowest values of the columns.\n",
    "   \n",
    "---\n",
    "   Bu bölümde annual_consume, annual_consume_lowtarif, annual_consume_hightarif sütünlarına göre sıralama yapacağım ve sütünların en yüksek ve en düşük değerlerini gözlemleyeceğiz."
   ]
  },
  {
   "cell_type": "code",
   "execution_count": null,
   "id": "b0294a0d",
   "metadata": {
    "papermill": {
     "duration": 0.083481,
     "end_time": "2023-09-18T19:23:02.936160",
     "exception": false,
     "start_time": "2023-09-18T19:23:02.852679",
     "status": "completed"
    },
    "tags": []
   },
   "outputs": [],
   "source": [
    "# The highest \"annual consumption\" values (En yüksek \"annual_consume\" değerleri)\n",
    "area_seg_df.sort_values(by = \"annual_consume\", ascending = False).head(10)"
   ]
  },
  {
   "cell_type": "code",
   "execution_count": null,
   "id": "62cce6b9",
   "metadata": {
    "papermill": {
     "duration": 0.083868,
     "end_time": "2023-09-18T19:23:03.075914",
     "exception": false,
     "start_time": "2023-09-18T19:23:02.992046",
     "status": "completed"
    },
    "tags": []
   },
   "outputs": [],
   "source": [
    "# The lowest \"annual consumption\" values (En düşük \"annual_consume\" değerleri)\n",
    "area_seg_df.sort_values(by = \"annual_consume\", ascending = True).head(10)"
   ]
  },
  {
   "cell_type": "code",
   "execution_count": null,
   "id": "4108f6c3",
   "metadata": {
    "papermill": {
     "duration": 0.085077,
     "end_time": "2023-09-18T19:23:03.217477",
     "exception": false,
     "start_time": "2023-09-18T19:23:03.132400",
     "status": "completed"
    },
    "tags": []
   },
   "outputs": [],
   "source": [
    "# The highest \"annual_consume_hightarif\" values (En yüksek \"annual_consume_hightarif\" değerleri)\n",
    "area_seg_df.sort_values(by = \"annual_consume_hightarif\", ascending = False).head(10)"
   ]
  },
  {
   "cell_type": "markdown",
   "id": "e14186f6",
   "metadata": {
    "papermill": {
     "duration": 0.056951,
     "end_time": "2023-09-18T19:23:03.331041",
     "exception": false,
     "start_time": "2023-09-18T19:23:03.274090",
     "status": "completed"
    },
    "tags": []
   },
   "source": [
    "   As you can see in the ranking above, the energy consumed with the low tariff is more than the amount of energy consumed with the high tariff.\n",
    "\n",
    "---\n",
    "   Yukarıdaki sıralamada görüldüğü üzere düşük tarifede tüketilen enerji yüksek tarifeki tüketilen enerji mikarından fazla."
   ]
  },
  {
   "cell_type": "code",
   "execution_count": null,
   "id": "15c1f582",
   "metadata": {
    "papermill": {
     "duration": 0.086284,
     "end_time": "2023-09-18T19:23:03.474594",
     "exception": false,
     "start_time": "2023-09-18T19:23:03.388310",
     "status": "completed"
    },
    "tags": []
   },
   "outputs": [],
   "source": [
    "# The lowest \"annual_consume_hightarif\" values (En düşük \"annual_consume_hightarif\" değerleri)\n",
    "area_seg_df.sort_values(by = \"annual_consume_hightarif\", ascending = True).head(10)"
   ]
  },
  {
   "cell_type": "code",
   "execution_count": null,
   "id": "643bfdd5",
   "metadata": {
    "papermill": {
     "duration": 0.086019,
     "end_time": "2023-09-18T19:23:03.617885",
     "exception": false,
     "start_time": "2023-09-18T19:23:03.531866",
     "status": "completed"
    },
    "tags": []
   },
   "outputs": [],
   "source": [
    "# The highest \"annual_consume_lowtarif\" values (En yüksek \"annual_consume_lowtarif\" değerleri)\n",
    "area_seg_df.sort_values(by = \"annual_consume_lowtarif\", ascending = False).head(10)"
   ]
  },
  {
   "cell_type": "code",
   "execution_count": null,
   "id": "e5a34eb7",
   "metadata": {
    "papermill": {
     "duration": 0.087903,
     "end_time": "2023-09-18T19:23:03.764262",
     "exception": false,
     "start_time": "2023-09-18T19:23:03.676359",
     "status": "completed"
    },
    "tags": []
   },
   "outputs": [],
   "source": [
    "# The lowest \"annual_consume_lowtarif\" values (En düşük \"annual_consume_lowtarif\" değerleri)\n",
    "area_seg_df.sort_values(by = \"annual_consume_lowtarif\", ascending = True).head(10)"
   ]
  },
  {
   "cell_type": "markdown",
   "id": "841a25fb",
   "metadata": {
    "papermill": {
     "duration": 0.05773,
     "end_time": "2023-09-18T19:23:03.881636",
     "exception": false,
     "start_time": "2023-09-18T19:23:03.823906",
     "status": "completed"
    },
    "tags": []
   },
   "source": [
    "   According to the tables above, my conclusion is that the highest energy consumption is at the lowest tariff.\n",
    "   \n",
    "---\n",
    "   Yukarıdaki tablolara göre çıkarımım en yüksek enerji tükerimleri en düşük tarifede gerçekleştiğidir."
   ]
  },
  {
   "cell_type": "markdown",
   "id": "513630dc",
   "metadata": {
    "papermill": {
     "duration": 0.058188,
     "end_time": "2023-09-18T19:23:03.999103",
     "exception": false,
     "start_time": "2023-09-18T19:23:03.940915",
     "status": "completed"
    },
    "tags": []
   },
   "source": [
    "### Chapter 2: Sort Classes(Bölüm 2: Sınflara Göre Sıralama) <a id = \"3c2\"></a>\n",
    "[Go Content(Content'e Git)](#cont)\n",
    "   \n",
    "   In this section, I am going to sort according to the classes.\n",
    "   \n",
    "---\n",
    "   Bu bölümde sınıflara göre sıralama işlemi yapacağız."
   ]
  },
  {
   "cell_type": "code",
   "execution_count": null,
   "id": "c329ea87",
   "metadata": {
    "papermill": {
     "duration": 0.086269,
     "end_time": "2023-09-18T19:23:04.144741",
     "exception": false,
     "start_time": "2023-09-18T19:23:04.058472",
     "status": "completed"
    },
    "tags": []
   },
   "outputs": [],
   "source": [
    "area_seg_df[area_seg_df[\"Class_of_Total\"] == \"A\"].sort_values(\"annual_consume\", ascending = False).head(10)"
   ]
  },
  {
   "cell_type": "code",
   "execution_count": null,
   "id": "7d601601",
   "metadata": {
    "papermill": {
     "duration": 0.086547,
     "end_time": "2023-09-18T19:23:04.290452",
     "exception": false,
     "start_time": "2023-09-18T19:23:04.203905",
     "status": "completed"
    },
    "tags": []
   },
   "outputs": [],
   "source": [
    "area_seg_df[area_seg_df[\"Class_of_hightarif\"] == \"A\"].sort_values(\"annual_consume_hightarif\", ascending = False).head(10)"
   ]
  },
  {
   "cell_type": "code",
   "execution_count": null,
   "id": "3aade29f",
   "metadata": {
    "papermill": {
     "duration": 0.086674,
     "end_time": "2023-09-18T19:23:04.437328",
     "exception": false,
     "start_time": "2023-09-18T19:23:04.350654",
     "status": "completed"
    },
    "tags": []
   },
   "outputs": [],
   "source": [
    "area_seg_df[area_seg_df[\"Class_of_lowtarif\"] == \"A\"].sort_values(\"annual_consume_lowtarif\", ascending = False).head(10)"
   ]
  },
  {
   "cell_type": "code",
   "execution_count": null,
   "id": "3669ac7b",
   "metadata": {
    "papermill": {
     "duration": 0.09083,
     "end_time": "2023-09-18T19:23:04.588831",
     "exception": false,
     "start_time": "2023-09-18T19:23:04.498001",
     "status": "completed"
    },
    "tags": []
   },
   "outputs": [],
   "source": [
    "area_seg_df[area_seg_df[\"Class\"] == \"AAA\"].sort_values(by = \"annual_consume\", ascending = False)"
   ]
  },
  {
   "cell_type": "markdown",
   "id": "59cfc943",
   "metadata": {
    "papermill": {
     "duration": 0.06064,
     "end_time": "2023-09-18T19:23:04.710200",
     "exception": false,
     "start_time": "2023-09-18T19:23:04.649560",
     "status": "completed"
    },
    "tags": []
   },
   "source": [
    "   In the above tables, I sorted the Class_of_Total, Class_of_lowtarif, Class_of_hightarif, and Class columns from most to least according to the \"A\" class data. If you want to do a different sort, You can with my codes.\n",
    "\n",
    "---\n",
    "   Yukarıdaki tablolarda Class_of_Total, Class_of_lowtarif, Class_of_hightarif ve Class sütünlarının \"A\" sınıf verilerinine göre çoktan aza doğru sıralama yaptım. Sizler farklı bir sıralama yapmak isterseniz kodlarımı kullanıp farklı bir sıralama yapabilirsiniz. "
   ]
  },
  {
   "cell_type": "markdown",
   "id": "f19b4a02",
   "metadata": {
    "papermill": {
     "duration": 0.060658,
     "end_time": "2023-09-18T19:23:04.905080",
     "exception": false,
     "start_time": "2023-09-18T19:23:04.844422",
     "status": "completed"
    },
    "tags": []
   },
   "source": [
    "# Conclusion(Sonuç) <a id = \"4\"></a>\n",
    "[Go Content(Content'e Git)](#cont)\n",
    "\n",
    "Hello again, we have come to the end of my work. I hope you enjoyed my work. I tried to perform prediction with Polynomial Linear Regression and perform segmentation. If I have a mistake, Please warn me in the comments. If you have any suggestions about my project, please feel free to comment me about your suggestion. Take good care of yourself and See you in the other project.\n",
    "\n",
    "---\n",
    "Tekrardan merhaba, çalışmamın sonuna geldik. Umarım çalışmam sizlerin hoşuna gitmiştir. Bu çalışmamda Polinom Lineer Regresyon ile tahmin işlemi ve segmentasyon işlemi yapmaya çalıştım. Eğer bir hatam olduysa lütfen beni yorumlarda uyarın. Projem hakkıdan önerileriniz olur ise lütfen bana yorumlarda bildirmekten çekinmeyin. Diğer projelerde görüşmek üzere kendinize iyi bakın. \n",
    "\n",
    "<div style=\"width:100%;text-align: center;\"> <img align=middle src=\"https://64.media.tumblr.com/90f0854253f2afd0c77d834046a0d6a4/tumblr_inline_nwc278RVQE1sgzopb_640.gif\" alt=\"Heat beating\" style=\"height:300px;margin-top:1rem;margin-bottom:1rem;\"> </div>"
   ]
  },
  {
   "cell_type": "code",
   "execution_count": null,
   "id": "cea5e342-f056-48d1-8e9d-e5903b805ee0",
   "metadata": {},
   "outputs": [],
   "source": []
  }
 ],
 "metadata": {
  "kernelspec": {
   "display_name": "Python 3 (ipykernel)",
   "language": "python",
   "name": "python3"
  },
  "language_info": {
   "codemirror_mode": {
    "name": "ipython",
    "version": 3
   },
   "file_extension": ".py",
   "mimetype": "text/x-python",
   "name": "python",
   "nbconvert_exporter": "python",
   "pygments_lexer": "ipython3",
   "version": "3.10.12"
  },
  "papermill": {
   "default_parameters": {},
   "duration": 33.916328,
   "end_time": "2023-09-18T19:23:05.789894",
   "environment_variables": {},
   "exception": null,
   "input_path": "__notebook__.ipynb",
   "output_path": "__notebook__.ipynb",
   "parameters": {},
   "start_time": "2023-09-18T19:22:31.873566",
   "version": "2.3.4"
  }
 },
 "nbformat": 4,
 "nbformat_minor": 5
}
