{
 "cells": [
  {
   "cell_type": "code",
   "execution_count": null,
   "id": "800b5539",
   "metadata": {
    "_kg_hide-input": true,
    "_kg_hide-output": true,
    "papermill": {
     "duration": 0.096906,
     "end_time": "2022-02-05T09:47:23.643738",
     "exception": false,
     "start_time": "2022-02-05T09:47:23.546832",
     "status": "completed"
    },
    "tags": []
   },
   "outputs": [],
   "source": [
    "# This Python 3 environment comes with many helpful analytics libraries installed\n",
    "# It is defined by the kaggle/python Docker image: https://github.com/kaggle/docker-python\n",
    "# For example, here's several helpful packages to load\n",
    "\n",
    "import numpy as np # linear algebra\n",
    "import pandas as pd # data processing, CSV file I/O (e.g. pd.read_csv)\n",
    "\n",
    "# Input data files are available in the read-only \"../input/\" directory\n",
    "# For example, running this (by clicking run or pressing Shift+Enter) will list all files under the input directory\n",
    "\n",
    "import os\n",
    "for dirname, _, filenames in os.walk('../datasets'):\n",
    "    for filename in filenames:\n",
    "        print(os.path.join(dirname, filename))\n",
    "\n",
    "# You can write up to 20GB to the current directory (/kaggle/working/) that gets preserved as output when you create a version using \"Save & Run All\" \n",
    "# You can also write temporary files to /kaggle/temp/, but they won't be saved outside of the current session"
   ]
  },
  {
   "cell_type": "code",
   "execution_count": null,
   "id": "6446be6f",
   "metadata": {
    "_kg_hide-input": true,
    "_kg_hide-output": true,
    "papermill": {
     "duration": 38.919073,
     "end_time": "2022-02-05T09:48:02.628239",
     "exception": false,
     "start_time": "2022-02-05T09:47:23.709166",
     "status": "completed"
    },
    "tags": []
   },
   "outputs": [],
   "source": [
    "try:\n",
    "    import pycaret\n",
    "except:\n",
    "    !pip install pycaret\n",
    "\n",
    "try:\n",
    "    import missingno\n",
    "except:\n",
    "    !pip install missingno"
   ]
  },
  {
   "cell_type": "markdown",
   "id": "9a5c83c2",
   "metadata": {
    "papermill": {
     "duration": 0.125539,
     "end_time": "2022-02-05T09:48:02.876725",
     "exception": false,
     "start_time": "2022-02-05T09:48:02.751186",
     "status": "completed"
    },
    "tags": []
   },
   "source": [
    "<hr style=\"border: solid 3px blue;\">\n",
    "\n",
    "# Introduction"
   ]
  },
  {
   "cell_type": "markdown",
   "id": "662373ad",
   "metadata": {
    "papermill": {
     "duration": 0.120814,
     "end_time": "2022-02-05T09:48:03.120117",
     "exception": false,
     "start_time": "2022-02-05T09:48:02.999303",
     "status": "completed"
    },
    "tags": []
   },
   "source": [
    "![](https://media4.giphy.com/media/jTYgOsJyYwZmQ6bKI8/giphy.gif)\n",
    "\n",
    "Picture Credit: https://media4.giphy.com"
   ]
  },
  {
   "cell_type": "markdown",
   "id": "ef47b710",
   "metadata": {
    "papermill": {
     "duration": 0.140432,
     "end_time": "2022-02-05T09:48:03.396425",
     "exception": false,
     "start_time": "2022-02-05T09:48:03.255993",
     "status": "completed"
    },
    "tags": []
   },
   "source": [
    "**Oversampling and Undersampling**\n",
    "> Both oversampling and undersampling involve introducing a bias to select more samples from one class than from another, to compensate for an imbalance that is either already present in the data, or likely to develop if a purely random sample were taken. Data Imbalance can be of the following types:\n",
    "> \n",
    "> 1. Under-representation of a class in one or more important predictor variables. Suppose, to address the question of gender discrimination, we have survey data on salaries within a particular field, e.g., computer software. It is known women are under-represented considerably in a random sample of software engineers, which would be important when adjusting for other variables such as years employed and current level of seniority. Suppose only 20% of software engineers are women, i.e., males are 4 times as frequent as females. If we were designing a survey to gather data, we would survey 4 times as many females as males, so that in the final sample, both genders will be represented equally. (See also Stratified Sampling.)\n",
    "> 2. Under-representation of one class in the outcome (dependent) variable. Suppose we want to predict, from a large clinical dataset, which patients are likely to develop a particular disease (e.g., diabetes). Assume, however, that only 10% of patients go on to develop the disease. Suppose we have a large existing dataset. We can then pick 9 times the number of patients who did not go on to develop the disease for every one patient who did.\n",
    "> \n",
    "> Oversampling is generally employed more frequently than undersampling, especially when the detailed data has yet to be collected by survey, interview or otherwise. Undersampling is employed much less frequently. Overabundance of already collected data became an issue only in the \"Big Data\" era, and the reasons to use undersampling are mainly practical and related to resource costs. Specifically, while one needs a suitably large sample size to draw valid statistical conclusions, the data must be cleaned before it can be used. Cleansing typically involves a significant human component, and is typically specific to the dataset and the analytical problem, and therefore takes time and money. For example:\n",
    "> \n",
    "> 1. Domain experts will suggest dataset-specific means of validation involving not only intra-variable checks (permissible values, maximum and minimum possible valid values, etc.), but also inter-variable checks. For example, the individual components of a differential white blood cell count must all add up to 100, because each is a percentage of the total.\n",
    "> 2. Data that is embedded in narrative text (e.g., interview transcripts) must be manually coded into discrete variables that a statistical or machine-learning package can deal with. The more the data, the more the coding effort. (Sometimes, the coding can be done through software, but somebody must often write a custom, one-off program to do so, and the program's output must be tested for accuracy, in terms of false positive and false negative results.)\n",
    "> For these reasons, one will typically cleanse only as much data as is needed to answer a question with reasonable statistical confidence (see Sample Size), but not more than that.\n",
    "\n",
    "Ref: https://en.wikipedia.org/wiki/Oversampling_and_undersampling_in_data_analysis\n"
   ]
  },
  {
   "cell_type": "markdown",
   "id": "5ba596d8",
   "metadata": {
    "papermill": {
     "duration": 0.120434,
     "end_time": "2022-02-05T09:48:03.638867",
     "exception": false,
     "start_time": "2022-02-05T09:48:03.518433",
     "status": "completed"
    },
    "tags": []
   },
   "source": [
    "In the case of binary classification, there may be cases where the value of the target is skewed to one side. Therefore, it is necessary to check the distribution of target values during the EDA process.\n",
    "\n",
    "In this notebook, we examine how the data distribution is changed after oversampling and undersampling and whether imbalance can be effectively resolved through this. Finally, We draw pictures of reducing the 28-dimensional dataset to 2D. There are beautiful pictures drawn by Datasets.\n",
    "\n",
    "After this, we try to solve the classification problem after sampling using an appropriate sampling method."
   ]
  },
  {
   "cell_type": "markdown",
   "id": "6fac9129",
   "metadata": {
    "papermill": {
     "duration": 0.120556,
     "end_time": "2022-02-05T09:48:03.881097",
     "exception": false,
     "start_time": "2022-02-05T09:48:03.760541",
     "status": "completed"
    },
    "tags": []
   },
   "source": [
    "--------------------------------------\n",
    "# Setting Up"
   ]
  },
  {
   "cell_type": "code",
   "execution_count": null,
   "id": "3a085fc0",
   "metadata": {
    "papermill": {
     "duration": 26.656496,
     "end_time": "2022-02-05T09:48:30.659964",
     "exception": false,
     "start_time": "2022-02-05T09:48:04.003468",
     "status": "completed"
    },
    "scrolled": true,
    "tags": []
   },
   "outputs": [],
   "source": [
    "import pandas as pd\n",
    "import numpy as np \n",
    "import matplotlib.pyplot as plt\n",
    "import seaborn as sns\n",
    "from matplotlib import rcParams\n",
    "import plotly.express as px\n",
    "from sklearn.model_selection import train_test_split\n",
    "from plotly.subplots import make_subplots\n",
    "import plotly.graph_objects as go\n",
    "\n",
    "import warnings\n",
    "warnings.filterwarnings(\"ignore\")\n",
    "\n",
    "import umap\n",
    "import umap.plot\n",
    "from pycaret.classification import *\n",
    "from sklearn.metrics import accuracy_score, precision_score, recall_score, roc_auc_score\n",
    "from sklearn.metrics import f1_score, confusion_matrix, precision_recall_curve, roc_curve\n",
    "from sklearn.metrics import ConfusionMatrixDisplay\n",
    "\n",
    "import scipy.stats as stats"
   ]
  },
  {
   "cell_type": "markdown",
   "id": "034cdfb6",
   "metadata": {
    "papermill": {
     "duration": 0.12536,
     "end_time": "2022-02-05T09:48:30.908386",
     "exception": false,
     "start_time": "2022-02-05T09:48:30.783026",
     "status": "completed"
    },
    "tags": []
   },
   "source": [
    "-------------------------------------------------------------------------------\n",
    "# Checking Target Imbalance\n",
    "\n"
   ]
  },
  {
   "cell_type": "code",
   "execution_count": null,
   "id": "4831f683",
   "metadata": {
    "papermill": {
     "duration": 3.453993,
     "end_time": "2022-02-05T09:48:34.486215",
     "exception": false,
     "start_time": "2022-02-05T09:48:31.032222",
     "status": "completed"
    },
    "tags": []
   },
   "outputs": [],
   "source": [
    "card_df = pd.read_csv('../datasets/creditcard-fraud-detection/creditcard.csv')\n",
    "card_org = card_df.copy()"
   ]
  },
  {
   "cell_type": "code",
   "execution_count": null,
   "id": "0112852e",
   "metadata": {
    "papermill": {
     "duration": 0.275938,
     "end_time": "2022-02-05T09:48:34.883110",
     "exception": false,
     "start_time": "2022-02-05T09:48:34.607172",
     "status": "completed"
    },
    "tags": []
   },
   "outputs": [],
   "source": [
    "colors = ['gold', 'mediumturquoise']\n",
    "labels = ['Normal','Fraud']\n",
    "values = card_df['Class'].value_counts()/card_df['Class'].shape[0]\n",
    "fig = go.Figure(data=[go.Pie(labels = labels,\n",
    "                             values=values,hole=.3)])\n",
    "fig.update_traces(hoverinfo='label+percent', textinfo='percent', textfont_size=20,\n",
    "                  marker=dict(colors=colors, line=dict(color='white', width=0.1)))\n",
    "fig.update_layout(\n",
    "    title_text=\"Credit Card Fraud\",\n",
    "    title_font_color=\"white\",\n",
    "    legend_title_font_color=\"yellow\",\n",
    "    paper_bgcolor=\"black\",\n",
    "    plot_bgcolor='black',\n",
    "    font_color=\"white\",\n",
    ")\n",
    "fig.show()"
   ]
  },
  {
   "cell_type": "markdown",
   "id": "c84cc464",
   "metadata": {
    "papermill": {
     "duration": 0.123288,
     "end_time": "2022-02-05T09:48:35.146805",
     "exception": false,
     "start_time": "2022-02-05T09:48:35.023517",
     "status": "completed"
    },
    "tags": []
   },
   "source": [
    "<span style=\"color:Blue\"> Observation:\n",
    "    \n",
    "In the case of the Credit Card Fraud dataset, severe imbalance is observed.\n",
    "\n",
    "Oversampling or undersampling should be considered."
   ]
  },
  {
   "cell_type": "markdown",
   "id": "17b364a9",
   "metadata": {
    "papermill": {
     "duration": 0.123233,
     "end_time": "2022-02-05T09:48:35.392711",
     "exception": false,
     "start_time": "2022-02-05T09:48:35.269478",
     "status": "completed"
    },
    "tags": []
   },
   "source": [
    "--------------------------------\n",
    "# EDA"
   ]
  },
  {
   "cell_type": "code",
   "execution_count": null,
   "id": "b328dff7",
   "metadata": {
    "papermill": {
     "duration": 0.15601,
     "end_time": "2022-02-05T09:48:35.679463",
     "exception": false,
     "start_time": "2022-02-05T09:48:35.523453",
     "status": "completed"
    },
    "tags": []
   },
   "outputs": [],
   "source": [
    "card_df.head(5).T.style.set_properties(**{'background-color': 'black',\n",
    "                           'color': 'white',\n",
    "                           'border-color': 'white'})"
   ]
  },
  {
   "cell_type": "code",
   "execution_count": null,
   "id": "27c6ed16",
   "metadata": {
    "papermill": {
     "duration": 0.170356,
     "end_time": "2022-02-05T09:48:35.979436",
     "exception": false,
     "start_time": "2022-02-05T09:48:35.809080",
     "status": "completed"
    },
    "tags": []
   },
   "outputs": [],
   "source": [
    "card_df.info()"
   ]
  },
  {
   "cell_type": "code",
   "execution_count": null,
   "id": "6096f09e",
   "metadata": {
    "papermill": {
     "duration": 0.581567,
     "end_time": "2022-02-05T09:48:36.691012",
     "exception": false,
     "start_time": "2022-02-05T09:48:36.109445",
     "status": "completed"
    },
    "tags": []
   },
   "outputs": [],
   "source": [
    "card_df.describe().style.set_properties(**{'background-color': 'black',\n",
    "                           'color': 'white',\n",
    "                           'border-color': 'white'})"
   ]
  },
  {
   "cell_type": "code",
   "execution_count": null,
   "id": "fe47b22a",
   "metadata": {
    "papermill": {
     "duration": 3.301654,
     "end_time": "2022-02-05T09:48:40.127890",
     "exception": false,
     "start_time": "2022-02-05T09:48:36.826236",
     "status": "completed"
    },
    "tags": []
   },
   "outputs": [],
   "source": [
    "import missingno as msno\n",
    "msno.matrix(card_df)"
   ]
  },
  {
   "cell_type": "markdown",
   "id": "21c312af",
   "metadata": {
    "papermill": {
     "duration": 0.126211,
     "end_time": "2022-02-05T09:48:40.382322",
     "exception": false,
     "start_time": "2022-02-05T09:48:40.256111",
     "status": "completed"
    },
    "tags": []
   },
   "source": [
    "<span style=\"color:Blue\"> Observation:\n",
    "    \n",
    "**OK! There is no missing value!**"
   ]
  },
  {
   "cell_type": "markdown",
   "id": "0f817f35",
   "metadata": {
    "papermill": {
     "duration": 0.12636,
     "end_time": "2022-02-05T09:48:40.635955",
     "exception": false,
     "start_time": "2022-02-05T09:48:40.509595",
     "status": "completed"
    },
    "tags": []
   },
   "source": [
    "-----------------------------------\n",
    "# Checking the data type of features"
   ]
  },
  {
   "cell_type": "code",
   "execution_count": null,
   "id": "47f63da1",
   "metadata": {
    "papermill": {
     "duration": 0.33481,
     "end_time": "2022-02-05T09:48:41.097733",
     "exception": false,
     "start_time": "2022-02-05T09:48:40.762923",
     "status": "completed"
    },
    "tags": []
   },
   "outputs": [],
   "source": [
    "sns.set(style=\"ticks\", context=\"talk\",font_scale = 1)\n",
    "plt.style.use(\"dark_background\")\n",
    "plt.figure(figsize = (8,6))\n",
    "ax = card_df.dtypes.value_counts().plot(kind='bar',grid = False,fontsize=20,color='grey')\n",
    "for p in ax.patches:\n",
    "    height = p.get_height()\n",
    "    ax.text(p.get_x()+ p.get_width() / 2., height + 0.2, height, ha = 'center', size = 25)\n",
    "sns.despine()"
   ]
  },
  {
   "cell_type": "markdown",
   "id": "f108fb70",
   "metadata": {
    "papermill": {
     "duration": 0.126138,
     "end_time": "2022-02-05T09:48:41.350616",
     "exception": false,
     "start_time": "2022-02-05T09:48:41.224478",
     "status": "completed"
    },
    "tags": []
   },
   "source": [
    "<span style=\"color:Blue\"> Observation:\n",
    "\n",
    "* All features are numerical! So, there is no need to consider categorical feature engineering!    "
   ]
  },
  {
   "cell_type": "markdown",
   "id": "a09d55f1",
   "metadata": {
    "papermill": {
     "duration": 0.125717,
     "end_time": "2022-02-05T09:48:41.603510",
     "exception": false,
     "start_time": "2022-02-05T09:48:41.477793",
     "status": "completed"
    },
    "tags": []
   },
   "source": [
    "------------------------------------------------------------------"
   ]
  },
  {
   "cell_type": "code",
   "execution_count": null,
   "id": "63cd7b23",
   "metadata": {
    "papermill": {
     "duration": 0.155183,
     "end_time": "2022-02-05T09:48:41.884519",
     "exception": false,
     "start_time": "2022-02-05T09:48:41.729336",
     "status": "completed"
    },
    "tags": []
   },
   "outputs": [],
   "source": [
    "card_df = card_df.sample(n = 20000,random_state=42)"
   ]
  },
  {
   "cell_type": "markdown",
   "id": "0f5b8bf4",
   "metadata": {
    "papermill": {
     "duration": 0.127016,
     "end_time": "2022-02-05T09:48:42.141641",
     "exception": false,
     "start_time": "2022-02-05T09:48:42.014625",
     "status": "completed"
    },
    "tags": []
   },
   "source": [
    "-----------------------------------------------------\n",
    "# Scaling\n",
    "\n",
    "![](https://www.researchgate.net/profile/Xiao-Li-128/publication/324486223/figure/fig3/AS:614746801860608@1523578467516/Linear-vs-Nonlinear-response.png)\n",
    "\n",
    "Picture Credit: https://www.researchgate.net\n",
    "\n",
    "As confirmed above, all features are numerical features. So, we are going to check if scaling is necessary.\n",
    "Since we are going to use tree-based models, we will not consider linear scaling.\n",
    "\n",
    "If you want to know more about Scaling, please refer to the notebook below.\n",
    "\n",
    "[linear-nonlinear-scaling](https://www.kaggle.com/ohseokkim/linear-nonlinear-scaling)"
   ]
  },
  {
   "cell_type": "code",
   "execution_count": null,
   "id": "8816ec90",
   "metadata": {
    "papermill": {
     "duration": 0.135204,
     "end_time": "2022-02-05T09:48:42.403010",
     "exception": false,
     "start_time": "2022-02-05T09:48:42.267806",
     "status": "completed"
    },
    "tags": []
   },
   "outputs": [],
   "source": [
    "card_df['Amount'].min()"
   ]
  },
  {
   "cell_type": "code",
   "execution_count": null,
   "id": "32a8e50c",
   "metadata": {
    "papermill": {
     "duration": 0.138997,
     "end_time": "2022-02-05T09:48:42.669151",
     "exception": false,
     "start_time": "2022-02-05T09:48:42.530154",
     "status": "completed"
    },
    "tags": []
   },
   "outputs": [],
   "source": [
    "numerical_cols = [cname for cname in card_df.loc[:,:'Amount'].columns if \n",
    "                  card_df[cname].min() >= 0 and\n",
    "                  card_df[cname].dtype in ['int64','float64']]"
   ]
  },
  {
   "cell_type": "markdown",
   "id": "62248db4",
   "metadata": {
    "papermill": {
     "duration": 0.128309,
     "end_time": "2022-02-05T09:48:42.924526",
     "exception": false,
     "start_time": "2022-02-05T09:48:42.796217",
     "status": "completed"
    },
    "tags": []
   },
   "source": [
    "In various features, it is determined that skewness greater than 1 is skewed, and only these features are subjected to nonlinear scaling."
   ]
  },
  {
   "cell_type": "code",
   "execution_count": null,
   "id": "b61ffd11",
   "metadata": {
    "papermill": {
     "duration": 0.328179,
     "end_time": "2022-02-05T09:48:43.385015",
     "exception": false,
     "start_time": "2022-02-05T09:48:43.056836",
     "status": "completed"
    },
    "tags": []
   },
   "outputs": [],
   "source": [
    "from scipy.stats import skew\n",
    "plt.figure(figsize=(8, 8))\n",
    "skew_features = card_df[numerical_cols].apply(lambda x : skew(x))\n",
    "skew_features = skew_features[skew_features > 0.5].sort_values(ascending=False)\n",
    "ax = sns.barplot( x =skew_features.index,y=skew_features.values,color='grey')\n",
    "for p in ax.patches:\n",
    "    height = p.get_height().round(1)\n",
    "    ax.text(p.get_x()+ p.get_width()/2.5, height-4, height, ha = 'left', size = 50)\n",
    "plt.xticks(rotation=45)\n",
    "plt.text(0.01,1.2, 'Threshold',color='red')\n",
    "plt.axhline(y=1, color='green', linestyle='--', linewidth=3)\n",
    "plt.title('Skewness',fontsize=30)\n",
    "sns.despine()"
   ]
  },
  {
   "cell_type": "markdown",
   "id": "dd606ccd",
   "metadata": {
    "papermill": {
     "duration": 0.128587,
     "end_time": "2022-02-05T09:48:43.642928",
     "exception": false,
     "start_time": "2022-02-05T09:48:43.514341",
     "status": "completed"
    },
    "tags": []
   },
   "source": [
    "<span style=\"color:Blue\"> Observation:\n",
    "\n",
    "* Only Amount feature is met the condition!"
   ]
  },
  {
   "cell_type": "code",
   "execution_count": null,
   "id": "e024135d",
   "metadata": {
    "papermill": {
     "duration": 0.138777,
     "end_time": "2022-02-05T09:48:43.910732",
     "exception": false,
     "start_time": "2022-02-05T09:48:43.771955",
     "status": "completed"
    },
    "tags": []
   },
   "outputs": [],
   "source": [
    "def check_normality(feature):\n",
    "    plt.figure(figsize = (8,8))\n",
    "    ax1 = plt.subplot(1,1,1)\n",
    "    stats.probplot(card_df[feature],dist = stats.norm, plot = ax1)\n",
    "    ax1.set_title(f'{feature} Q-Q plot',fontsize=20)\n",
    "    sns.despine()\n",
    "\n",
    "    mean = card_df['Amount'].mean()\n",
    "    std = card_df['Amount'].std()\n",
    "    skew = card_df['Amount'].skew()\n",
    "    print(f'{feature} : mean: {0:.4f}, std: {1:.4f}, skew: {2:.4f}'.format(mean, std, skew))"
   ]
  },
  {
   "cell_type": "code",
   "execution_count": null,
   "id": "83d30f40",
   "metadata": {
    "papermill": {
     "duration": 0.138001,
     "end_time": "2022-02-05T09:48:44.205869",
     "exception": false,
     "start_time": "2022-02-05T09:48:44.067868",
     "status": "completed"
    },
    "tags": []
   },
   "outputs": [],
   "source": [
    "def plot_hist(feature):\n",
    "    fig = px.histogram(card_df, x=feature, \n",
    "                       color=\"Class\",\n",
    "                       marginal=\"box\",\n",
    "                       barmode =\"overlay\",\n",
    "                       histnorm ='density'\n",
    "                      )  \n",
    "    fig.update_layout(\n",
    "        title_text=f\"{feature} Distribution\",\n",
    "        title_font_color=\"white\",\n",
    "        legend_title_font_color=\"yellow\",\n",
    "        paper_bgcolor=\"black\",\n",
    "        plot_bgcolor='black',\n",
    "        font_color=\"white\",\n",
    "    )\n",
    "    fig.show()"
   ]
  },
  {
   "cell_type": "markdown",
   "id": "85fffba1",
   "metadata": {
    "papermill": {
     "duration": 0.128582,
     "end_time": "2022-02-05T09:48:44.465366",
     "exception": false,
     "start_time": "2022-02-05T09:48:44.336784",
     "status": "completed"
    },
    "tags": []
   },
   "source": [
    "Let's draw the distribution of the amount feature among the above skewed features."
   ]
  },
  {
   "cell_type": "code",
   "execution_count": null,
   "id": "c896c789",
   "metadata": {
    "papermill": {
     "duration": 1.65528,
     "end_time": "2022-02-05T09:48:46.250476",
     "exception": false,
     "start_time": "2022-02-05T09:48:44.595196",
     "status": "completed"
    },
    "tags": []
   },
   "outputs": [],
   "source": [
    "plot_hist(\"Amount\")\n",
    "check_normality(\"Amount\")"
   ]
  },
  {
   "cell_type": "markdown",
   "id": "a1ba231e",
   "metadata": {
    "papermill": {
     "duration": 0.141333,
     "end_time": "2022-02-05T09:48:46.530660",
     "exception": false,
     "start_time": "2022-02-05T09:48:46.389327",
     "status": "completed"
    },
    "tags": []
   },
   "source": [
    "<span style=\"color:Blue\"> Observation:\n",
    "* We can see that it is skewed as shown in the pictures above."
   ]
  },
  {
   "cell_type": "markdown",
   "id": "397ffa71",
   "metadata": {
    "papermill": {
     "duration": 0.135537,
     "end_time": "2022-02-05T09:48:46.802073",
     "exception": false,
     "start_time": "2022-02-05T09:48:46.666536",
     "status": "completed"
    },
    "tags": []
   },
   "source": [
    "-----------------------------------------------------------\n",
    "## Doing Logarithm Scaling"
   ]
  },
  {
   "cell_type": "markdown",
   "id": "f91c02eb",
   "metadata": {
    "papermill": {
     "duration": 0.134752,
     "end_time": "2022-02-05T09:48:47.071002",
     "exception": false,
     "start_time": "2022-02-05T09:48:46.936250",
     "status": "completed"
    },
    "tags": []
   },
   "source": [
    "![](https://upload.wikimedia.org/wikipedia/commons/thumb/8/81/Logarithm_plots.png/300px-Logarithm_plots.png)\n",
    "\n",
    "Picture Credit: https://upload.wikimedia.org\n",
    "\n",
    "Logarithm function increases the spacing between small numbers and reduces the spacing between large numbers. When certain features are dense with values in small values, by increasing these intervals, our models increase the intervals for small values, and we can improve the performance of the model when training and testing using these values."
   ]
  },
  {
   "cell_type": "code",
   "execution_count": null,
   "id": "a49a0960",
   "metadata": {
    "papermill": {
     "duration": 0.145449,
     "end_time": "2022-02-05T09:48:47.351578",
     "exception": false,
     "start_time": "2022-02-05T09:48:47.206129",
     "status": "completed"
    },
    "tags": []
   },
   "outputs": [],
   "source": [
    "card_df[skew_features.index] = np.log1p(card_df[skew_features.index])"
   ]
  },
  {
   "cell_type": "code",
   "execution_count": null,
   "id": "f4529338",
   "metadata": {
    "papermill": {
     "duration": 0.578846,
     "end_time": "2022-02-05T09:48:48.064952",
     "exception": false,
     "start_time": "2022-02-05T09:48:47.486106",
     "status": "completed"
    },
    "tags": []
   },
   "outputs": [],
   "source": [
    "plot_hist(\"Amount\")\n",
    "check_normality(\"Amount\")"
   ]
  },
  {
   "cell_type": "markdown",
   "id": "ce67156e",
   "metadata": {
    "papermill": {
     "duration": 0.154349,
     "end_time": "2022-02-05T09:48:48.377810",
     "exception": false,
     "start_time": "2022-02-05T09:48:48.223461",
     "status": "completed"
    },
    "tags": []
   },
   "source": [
    "<span style=\"color:Blue\"> Observation:\n",
    "* It can be seen that the skewness has improved a lot as shown in the pictures above."
   ]
  },
  {
   "cell_type": "markdown",
   "id": "68e54352",
   "metadata": {
    "papermill": {
     "duration": 0.153581,
     "end_time": "2022-02-05T09:48:48.683578",
     "exception": false,
     "start_time": "2022-02-05T09:48:48.529997",
     "status": "completed"
    },
    "tags": []
   },
   "source": [
    "--------------------------------------------------------\n",
    "# Checking Correlations\n",
    "\n",
    "First, draw a heatmap to find features that are related to classes."
   ]
  },
  {
   "cell_type": "code",
   "execution_count": null,
   "id": "78052ff2",
   "metadata": {
    "papermill": {
     "duration": 0.282192,
     "end_time": "2022-02-05T09:48:49.119254",
     "exception": false,
     "start_time": "2022-02-05T09:48:48.837062",
     "status": "completed"
    },
    "tags": []
   },
   "outputs": [],
   "source": [
    "import plotly.express as px\n",
    "plt.figure(figsize=(20,20))\n",
    "corr=card_df.corr().round(1)\n",
    "fig = px.imshow(corr)\n",
    "fig.update_layout(\n",
    "    title_text=\"Credit Card Fraud\",\n",
    "    title_font_color=\"white\",\n",
    "    legend_title_font_color=\"yellow\",\n",
    "    paper_bgcolor=\"black\",\n",
    "    plot_bgcolor='black',\n",
    "    font_color=\"white\",\n",
    ")\n",
    "fig.show()"
   ]
  },
  {
   "cell_type": "markdown",
   "id": "fda6ae94",
   "metadata": {
    "papermill": {
     "duration": 0.152727,
     "end_time": "2022-02-05T09:48:49.424757",
     "exception": false,
     "start_time": "2022-02-05T09:48:49.272030",
     "status": "completed"
    },
    "tags": []
   },
   "source": [
    "<span style=\"color:Blue\"> Observation:\n",
    "    \n",
    "V3, V7, V10, V11, V12, V14, V16, and V17 have a strong correlation with target(class) compared to other features."
   ]
  },
  {
   "cell_type": "code",
   "execution_count": null,
   "id": "eca6023a",
   "metadata": {
    "papermill": {
     "duration": 0.417088,
     "end_time": "2022-02-05T09:48:49.997858",
     "exception": false,
     "start_time": "2022-02-05T09:48:49.580770",
     "status": "completed"
    },
    "tags": []
   },
   "outputs": [],
   "source": [
    "features = [\n",
    "    \"V3\",\n",
    "    \"V7\",\n",
    "    \"V10\",\n",
    "    \"V11\",\n",
    "    \"V12\",\n",
    "    \"V14\",\n",
    "    \"V16\",\n",
    "    \"V17\",\n",
    "]\n",
    "\n",
    "plt.figure(figsize=(13,8))\n",
    "ax = abs(card_df[features].corrwith(card_df.Class)).sort_values(ascending=False).plot(kind='bar',color='grey',fontsize=20)\n",
    "for p in ax.patches:\n",
    "    height = p.get_height().round(2)\n",
    "    ax.text(p.get_x() + p.get_width() / 2., height+0.007, height, ha = 'center', size = 30)\n",
    "sns.despine()"
   ]
  },
  {
   "cell_type": "markdown",
   "id": "7a026dc6",
   "metadata": {
    "papermill": {
     "duration": 0.154255,
     "end_time": "2022-02-05T09:48:50.306561",
     "exception": false,
     "start_time": "2022-02-05T09:48:50.152306",
     "status": "completed"
    },
    "tags": []
   },
   "source": [
    "<span style=\"color:Blue\"> Observation:\n",
    "\n",
    "**Looking at the above pictures, the V14 and V17 features have a high correlation with target class. Let's dig deeper into these features.**\n",
    "\n",
    "**V14 and V17 features seem to have more correlation with Class than other features. Let's analyze the difference before and after sampling with a scatter plot of these two features.**"
   ]
  },
  {
   "cell_type": "markdown",
   "id": "a43cf3c4",
   "metadata": {
    "papermill": {
     "duration": 0.156546,
     "end_time": "2022-02-05T09:48:50.618699",
     "exception": false,
     "start_time": "2022-02-05T09:48:50.462153",
     "status": "completed"
    },
    "tags": []
   },
   "source": [
    "-------------------------------------------------------\n",
    "# Splitting train and test dataset"
   ]
  },
  {
   "cell_type": "code",
   "execution_count": null,
   "id": "bac77c65",
   "metadata": {
    "papermill": {
     "duration": 0.182517,
     "end_time": "2022-02-05T09:48:50.959578",
     "exception": false,
     "start_time": "2022-02-05T09:48:50.777061",
     "status": "completed"
    },
    "tags": []
   },
   "outputs": [],
   "source": [
    "def get_preprocessed_df(df=None):\n",
    "    df_copy = df.copy()\n",
    "    df_copy.drop('Time', axis=1, inplace=True)\n",
    "    return df_copy\n",
    "\n",
    "def get_train_test_dataset(df=None):\n",
    "    df_copy = get_preprocessed_df(df)\n",
    "    X_features = df_copy.loc[:,:'Amount']\n",
    "    y_target = df_copy.iloc[:, -1]\n",
    "    X_train, X_test, y_train, y_test = train_test_split(X_features,\n",
    "                                                        y_target, \n",
    "                                                        test_size=0.3, \n",
    "                                                        random_state=0, \n",
    "                                                        stratify=y_target)\n",
    "    return X_train, X_test, y_train, y_test"
   ]
  },
  {
   "cell_type": "code",
   "execution_count": null,
   "id": "a2b1f675",
   "metadata": {
    "papermill": {
     "duration": 0.200919,
     "end_time": "2022-02-05T09:48:51.333461",
     "exception": false,
     "start_time": "2022-02-05T09:48:51.132542",
     "status": "completed"
    },
    "tags": []
   },
   "outputs": [],
   "source": [
    "X_train, X_test, y_train, y_test = get_train_test_dataset(card_df)"
   ]
  },
  {
   "cell_type": "markdown",
   "id": "b5f4d989",
   "metadata": {
    "papermill": {
     "duration": 0.159976,
     "end_time": "2022-02-05T09:48:51.651834",
     "exception": false,
     "start_time": "2022-02-05T09:48:51.491858",
     "status": "completed"
    },
    "tags": []
   },
   "source": [
    "--------------------------------------------------\n",
    "# Checking Orignal Dataset"
   ]
  },
  {
   "cell_type": "markdown",
   "id": "0cc7e8e0",
   "metadata": {
    "papermill": {
     "duration": 0.154728,
     "end_time": "2022-02-05T09:48:51.962537",
     "exception": false,
     "start_time": "2022-02-05T09:48:51.807809",
     "status": "completed"
    },
    "tags": []
   },
   "source": [
    "### Plotting histogram Plot"
   ]
  },
  {
   "cell_type": "code",
   "execution_count": null,
   "id": "786ed50a",
   "metadata": {
    "_kg_hide-input": true,
    "papermill": {
     "duration": 0.303216,
     "end_time": "2022-02-05T09:48:52.424764",
     "exception": false,
     "start_time": "2022-02-05T09:48:52.121548",
     "status": "completed"
    },
    "tags": []
   },
   "outputs": [],
   "source": [
    "fig = px.histogram(card_df, x=\"V14\", \n",
    "                   color=\"Class\",\n",
    "                   marginal=\"box\",\n",
    "                   barmode =\"overlay\",\n",
    "                   histnorm ='density'\n",
    "                  )  \n",
    "fig.update_layout(\n",
    "    title_text=\"Orignal Distribution\",\n",
    "    title_font_color=\"white\",\n",
    "    legend_title_font_color=\"yellow\",\n",
    "    paper_bgcolor=\"black\",\n",
    "    plot_bgcolor='black',\n",
    "    font_color=\"white\",\n",
    ")\n",
    "fig.show()\n",
    "\n"
   ]
  },
  {
   "cell_type": "markdown",
   "id": "1e58396f",
   "metadata": {
    "papermill": {
     "duration": 0.172391,
     "end_time": "2022-02-05T09:48:52.772123",
     "exception": false,
     "start_time": "2022-02-05T09:48:52.599732",
     "status": "completed"
    },
    "tags": []
   },
   "source": [
    "<span style=\"color:Blue\"> Observation:\n",
    "    \n",
    "The imbalacne also seems to be large. Let's think about how we can solve this."
   ]
  },
  {
   "cell_type": "markdown",
   "id": "d3230b01",
   "metadata": {
    "papermill": {
     "duration": 0.172324,
     "end_time": "2022-02-05T09:48:53.119817",
     "exception": false,
     "start_time": "2022-02-05T09:48:52.947493",
     "status": "completed"
    },
    "tags": []
   },
   "source": [
    "### Plotting Scatter Plot"
   ]
  },
  {
   "cell_type": "code",
   "execution_count": null,
   "id": "a16b19d6",
   "metadata": {
    "papermill": {
     "duration": 0.315432,
     "end_time": "2022-02-05T09:48:53.606956",
     "exception": false,
     "start_time": "2022-02-05T09:48:53.291524",
     "status": "completed"
    },
    "tags": []
   },
   "outputs": [],
   "source": [
    "colors = ['gold', 'mediumturquoise']\n",
    "fig = px.scatter(card_df, x=\"V17\", y=\"V14\", color=\"Class\")\n",
    "fig.update_layout(\n",
    "    title_text=\"Original Scatter Plot\",\n",
    "    title_font_color=\"white\",\n",
    "    legend_title_font_color=\"yellow\",\n",
    "    paper_bgcolor=\"black\",\n",
    "    plot_bgcolor='black',\n",
    "    font_color=\"white\",\n",
    ")"
   ]
  },
  {
   "cell_type": "code",
   "execution_count": null,
   "id": "deaac951",
   "metadata": {
    "papermill": {
     "duration": 0.209675,
     "end_time": "2022-02-05T09:48:54.007659",
     "exception": false,
     "start_time": "2022-02-05T09:48:53.797984",
     "status": "completed"
    },
    "tags": []
   },
   "outputs": [],
   "source": [
    "card_df.loc[:,:'Amount'].info()"
   ]
  },
  {
   "cell_type": "markdown",
   "id": "3fc00a43",
   "metadata": {
    "papermill": {
     "duration": 0.187536,
     "end_time": "2022-02-05T09:48:54.381789",
     "exception": false,
     "start_time": "2022-02-05T09:48:54.194253",
     "status": "completed"
    },
    "tags": []
   },
   "source": [
    "### Visualizing after Dimension Reduction"
   ]
  },
  {
   "cell_type": "code",
   "execution_count": null,
   "id": "c5d06711",
   "metadata": {
    "papermill": {
     "duration": 133.219366,
     "end_time": "2022-02-05T09:51:07.788901",
     "exception": false,
     "start_time": "2022-02-05T09:48:54.569535",
     "status": "completed"
    },
    "tags": []
   },
   "outputs": [],
   "source": [
    "sns.set(style=\"ticks\", context=\"talk\",font_scale = 1)\n",
    "plt.style.use(\"dark_background\")\n",
    "mapper = umap.UMAP().fit(card_df.loc[:,:'Amount']) \n",
    "umap.plot.points(mapper, labels=card_df.loc[:,'Class'], theme='fire')"
   ]
  },
  {
   "cell_type": "markdown",
   "id": "e525c249",
   "metadata": {
    "papermill": {
     "duration": 0.193081,
     "end_time": "2022-02-05T09:51:08.175059",
     "exception": false,
     "start_time": "2022-02-05T09:51:07.981978",
     "status": "completed"
    },
    "tags": []
   },
   "source": [
    "<span style=\"color:Blue\"> Observation:\n",
    "    \n",
    "* Wow! It is beatiful!\n",
    "* The target is severely imbalaced. Level 1 target is too small compared to level 0 target.    "
   ]
  },
  {
   "cell_type": "markdown",
   "id": "a32b0854",
   "metadata": {
    "papermill": {
     "duration": 0.190267,
     "end_time": "2022-02-05T09:51:08.556352",
     "exception": false,
     "start_time": "2022-02-05T09:51:08.366085",
     "status": "completed"
    },
    "tags": []
   },
   "source": [
    "-----------------------------------------------\n",
    "# Oversampling"
   ]
  },
  {
   "cell_type": "markdown",
   "id": "4134a26b",
   "metadata": {
    "papermill": {
     "duration": 0.192345,
     "end_time": "2022-02-05T09:51:08.939698",
     "exception": false,
     "start_time": "2022-02-05T09:51:08.747353",
     "status": "completed"
    },
    "tags": []
   },
   "source": [
    "![](https://dataaspirant.com/wp-content/uploads/2020/08/10-oversampling.png)\n",
    "Picture Credit: https://dataaspirant.com"
   ]
  },
  {
   "cell_type": "markdown",
   "id": "dd25e993",
   "metadata": {
    "papermill": {
     "duration": 0.192431,
     "end_time": "2022-02-05T09:51:09.325079",
     "exception": false,
     "start_time": "2022-02-05T09:51:09.132648",
     "status": "completed"
    },
    "tags": []
   },
   "source": [
    "Let's oversampling V14 feature using each method and check the results."
   ]
  },
  {
   "cell_type": "markdown",
   "id": "56902d52",
   "metadata": {
    "papermill": {
     "duration": 0.192848,
     "end_time": "2022-02-05T09:51:09.709326",
     "exception": false,
     "start_time": "2022-02-05T09:51:09.516478",
     "status": "completed"
    },
    "tags": []
   },
   "source": [
    "-----------------\n",
    "## SMOTE\n",
    "\n",
    "> Synthetic prime sampling technique samples the majority class and interpolates existing prime samples to synthesize new prime instances.\n",
    "> In general, it works successfully, but because it works by interpolating between fractional data, it reflects only the characteristics between fractional data of the modeling set and may be weak in data prediction in new cases."
   ]
  },
  {
   "cell_type": "code",
   "execution_count": null,
   "id": "5539f784",
   "metadata": {
    "papermill": {
     "duration": 0.228989,
     "end_time": "2022-02-05T09:51:10.132907",
     "exception": false,
     "start_time": "2022-02-05T09:51:09.903918",
     "status": "completed"
    },
    "tags": []
   },
   "outputs": [],
   "source": [
    "from imblearn.over_sampling import SMOTE\n",
    "\n",
    "smote = SMOTE(random_state=0)\n",
    "X_train_smote, y_train_smote = smote.fit_resample(X_train, y_train)\n",
    "print('Feature/label dataset for training before applying SMOTE: ', X_train.shape, y_train.shape)\n",
    "print('Feature/label dataset for training after applying SMOTE: ', X_train_smote.shape, y_train_smote.shape)\n",
    "print('Distribution of label values after applying SMOTE:\\n',pd.Series(y_train_smote).value_counts())"
   ]
  },
  {
   "cell_type": "markdown",
   "id": "63b10c52",
   "metadata": {
    "papermill": {
     "duration": 0.190985,
     "end_time": "2022-02-05T09:51:10.514574",
     "exception": false,
     "start_time": "2022-02-05T09:51:10.323589",
     "status": "completed"
    },
    "tags": []
   },
   "source": [
    "### Plotting histogram Plot"
   ]
  },
  {
   "cell_type": "code",
   "execution_count": null,
   "id": "f9d44238",
   "metadata": {
    "_kg_hide-input": true,
    "papermill": {
     "duration": 0.368262,
     "end_time": "2022-02-05T09:51:11.074015",
     "exception": false,
     "start_time": "2022-02-05T09:51:10.705753",
     "status": "completed"
    },
    "tags": []
   },
   "outputs": [],
   "source": [
    "card_df_smote = pd.concat([X_train_smote,y_train_smote],axis=1)\n",
    "fig = px.histogram(card_df_smote, x=\"V14\", \n",
    "                   color=\"Class\", \n",
    "                   marginal=\"box\",\n",
    "                   barmode =\"overlay\",\n",
    "                   histnorm ='density'\n",
    "                  )  \n",
    "fig.update_layout(\n",
    "    title_text=\"Oversampled by SMOTE\",\n",
    "    title_font_color=\"white\",\n",
    "    legend_title_font_color=\"yellow\",\n",
    "    paper_bgcolor=\"black\",\n",
    "    plot_bgcolor='black',\n",
    "    font_color=\"white\",\n",
    ")\n",
    "fig.show()"
   ]
  },
  {
   "cell_type": "markdown",
   "id": "01f1b3f8",
   "metadata": {
    "papermill": {
     "duration": 0.217717,
     "end_time": "2022-02-05T09:51:11.512167",
     "exception": false,
     "start_time": "2022-02-05T09:51:11.294450",
     "status": "completed"
    },
    "tags": []
   },
   "source": [
    "<span style=\"color:Blue\"> Observation:\n",
    "\n",
    "If you look at the distribution of the created zero-target data, you can see that it is spread over a wide range."
   ]
  },
  {
   "cell_type": "markdown",
   "id": "e1bad36b",
   "metadata": {
    "papermill": {
     "duration": 0.214664,
     "end_time": "2022-02-05T09:51:11.942317",
     "exception": false,
     "start_time": "2022-02-05T09:51:11.727653",
     "status": "completed"
    },
    "tags": []
   },
   "source": [
    "### Plotting Scatter Plot"
   ]
  },
  {
   "cell_type": "code",
   "execution_count": null,
   "id": "56b40cab",
   "metadata": {
    "papermill": {
     "duration": 0.78432,
     "end_time": "2022-02-05T09:51:12.944532",
     "exception": false,
     "start_time": "2022-02-05T09:51:12.160212",
     "status": "completed"
    },
    "tags": []
   },
   "outputs": [],
   "source": [
    "fig = px.scatter(card_df_smote, x=\"V17\", y=\"V14\", color=\"Class\")\n",
    "fig.update_layout(\n",
    "    title_text=\"Oversampled by SMOTE\",\n",
    "    title_font_color=\"white\",\n",
    "    legend_title_font_color=\"yellow\",\n",
    "    paper_bgcolor=\"black\",\n",
    "    plot_bgcolor='black',\n",
    "    font_color=\"white\"\n",
    ")"
   ]
  },
  {
   "cell_type": "markdown",
   "id": "bde9d69a",
   "metadata": {
    "papermill": {
     "duration": 0.24068,
     "end_time": "2022-02-05T09:51:13.434510",
     "exception": false,
     "start_time": "2022-02-05T09:51:13.193830",
     "status": "completed"
    },
    "tags": []
   },
   "source": [
    "<span style=\"color:Blue\"> Observation:\n",
    "\n",
    "If you look at the result of SMOTE, it looks like lines connected between points. This is because SMOTE uses an interpolation technique."
   ]
  },
  {
   "cell_type": "markdown",
   "id": "6d8a6d19",
   "metadata": {
    "papermill": {
     "duration": 0.23741,
     "end_time": "2022-02-05T09:51:13.909173",
     "exception": false,
     "start_time": "2022-02-05T09:51:13.671763",
     "status": "completed"
    },
    "tags": []
   },
   "source": [
    "### Visualizing after Dimension Reduction"
   ]
  },
  {
   "cell_type": "code",
   "execution_count": null,
   "id": "26cecbb4",
   "metadata": {
    "papermill": {
     "duration": 24.887125,
     "end_time": "2022-02-05T09:51:39.034031",
     "exception": false,
     "start_time": "2022-02-05T09:51:14.146906",
     "status": "completed"
    },
    "tags": []
   },
   "outputs": [],
   "source": [
    "sns.set(style=\"ticks\", context=\"talk\",font_scale = 1)\n",
    "plt.style.use(\"dark_background\")\n",
    "\n",
    "mapper = umap.UMAP().fit(card_df_smote.loc[:,:'Amount']) \n",
    "umap.plot.points(mapper, labels=card_df_smote.loc[:,'Class'], theme='fire')"
   ]
  },
  {
   "cell_type": "markdown",
   "id": "79c6b8e7",
   "metadata": {
    "papermill": {
     "duration": 0.238817,
     "end_time": "2022-02-05T09:51:39.517155",
     "exception": false,
     "start_time": "2022-02-05T09:51:39.278338",
     "status": "completed"
    },
    "tags": []
   },
   "source": [
    "<span style=\"color:Blue\"> Observation:\n",
    "\n",
    "You can see that the blue dots are expanding their power."
   ]
  },
  {
   "cell_type": "markdown",
   "id": "f4ce86fd",
   "metadata": {
    "papermill": {
     "duration": 0.25958,
     "end_time": "2022-02-05T09:51:40.015915",
     "exception": false,
     "start_time": "2022-02-05T09:51:39.756335",
     "status": "completed"
    },
    "tags": []
   },
   "source": [
    "------------------\n",
    "## RandomOverSampler\n",
    "\n",
    "> Object to over-sample the minority class(es) by picking samples at random with replacement. The bootstrap can be generated in a smoothed manner."
   ]
  },
  {
   "cell_type": "code",
   "execution_count": null,
   "id": "c2203d3a",
   "metadata": {
    "papermill": {
     "duration": 0.273383,
     "end_time": "2022-02-05T09:51:40.540006",
     "exception": false,
     "start_time": "2022-02-05T09:51:40.266623",
     "status": "completed"
    },
    "tags": []
   },
   "outputs": [],
   "source": [
    "from imblearn.over_sampling import RandomOverSampler\n",
    "\n",
    "ros = RandomOverSampler(random_state=0)\n",
    "X_train_ros, y_train_ros = ros.fit_resample(X_train, y_train)\n",
    "print('Feature/label dataset for training before applying RandomOverSampler: ', X_train.shape, y_train.shape)\n",
    "print('Feature/label dataset for training after applying RandomOverSampler: ', X_train_ros.shape, y_train_ros.shape)\n",
    "print('Distribution of label values after applying RandomOverSampler: \\n', pd.Series(y_train_ros).value_counts())"
   ]
  },
  {
   "cell_type": "markdown",
   "id": "3f184355",
   "metadata": {
    "papermill": {
     "duration": 0.241311,
     "end_time": "2022-02-05T09:51:41.023290",
     "exception": false,
     "start_time": "2022-02-05T09:51:40.781979",
     "status": "completed"
    },
    "tags": []
   },
   "source": [
    "### Plotting histogram Plot"
   ]
  },
  {
   "cell_type": "code",
   "execution_count": null,
   "id": "5d03fdd2",
   "metadata": {
    "_kg_hide-input": true,
    "papermill": {
     "duration": 0.414618,
     "end_time": "2022-02-05T09:51:41.679882",
     "exception": false,
     "start_time": "2022-02-05T09:51:41.265264",
     "status": "completed"
    },
    "tags": []
   },
   "outputs": [],
   "source": [
    "card_df_ros = pd.concat([X_train_ros,y_train_ros],axis=1)\n",
    "fig = px.histogram(card_df_ros, x=\"V14\", \n",
    "                   color=\"Class\", \n",
    "                   marginal=\"box\",\n",
    "                   barmode =\"overlay\",\n",
    "                   histnorm ='density'\n",
    "                  )  \n",
    "fig.update_layout(\n",
    "    title_text=\"Oversampled by RandomOverSampler\",\n",
    "    title_font_color=\"white\",\n",
    "    legend_title_font_color=\"yellow\",\n",
    "    paper_bgcolor=\"black\",\n",
    "    plot_bgcolor='black',\n",
    "    font_color=\"white\",\n",
    ")\n",
    "fig.show()"
   ]
  },
  {
   "cell_type": "markdown",
   "id": "cdc83980",
   "metadata": {
    "papermill": {
     "duration": 0.265996,
     "end_time": "2022-02-05T09:51:42.216059",
     "exception": false,
     "start_time": "2022-02-05T09:51:41.950063",
     "status": "completed"
    },
    "tags": []
   },
   "source": [
    "<span style=\"color:Blue\"> Observation:\n",
    "    \n",
    "It can be seen that the number of data of the normal class (value = 0) is reduced. It can be seen that the distribution of the negative class (value = 0) maintains the shape of the original distribution similarly."
   ]
  },
  {
   "cell_type": "markdown",
   "id": "dd8e8ebf",
   "metadata": {
    "papermill": {
     "duration": 0.261387,
     "end_time": "2022-02-05T09:51:42.739260",
     "exception": false,
     "start_time": "2022-02-05T09:51:42.477873",
     "status": "completed"
    },
    "tags": []
   },
   "source": [
    "### Plotting Scatter Plot"
   ]
  },
  {
   "cell_type": "code",
   "execution_count": null,
   "id": "f5c64f54",
   "metadata": {
    "papermill": {
     "duration": 0.411204,
     "end_time": "2022-02-05T09:51:43.414007",
     "exception": false,
     "start_time": "2022-02-05T09:51:43.002803",
     "status": "completed"
    },
    "tags": []
   },
   "outputs": [],
   "source": [
    "fig = px.scatter(card_df_ros, x=\"V17\", y=\"V14\", color=\"Class\")\n",
    "fig.update_layout(\n",
    "    title_text=\"Oversampled by SMOTE\",\n",
    "    title_font_color=\"white\",\n",
    "    legend_title_font_color=\"yellow\",\n",
    "    paper_bgcolor=\"black\",\n",
    "    plot_bgcolor='black',\n",
    "    font_color=\"white\",\n",
    ")"
   ]
  },
  {
   "cell_type": "markdown",
   "id": "238574a1",
   "metadata": {
    "papermill": {
     "duration": 0.288639,
     "end_time": "2022-02-05T09:51:43.996296",
     "exception": false,
     "start_time": "2022-02-05T09:51:43.707657",
     "status": "completed"
    },
    "tags": []
   },
   "source": [
    "<span style=\"color:Blue\"> Observation:\n",
    "    \n",
    "It can be seen that the negative values increase randomly. "
   ]
  },
  {
   "cell_type": "markdown",
   "id": "50e6d057",
   "metadata": {
    "papermill": {
     "duration": 0.306578,
     "end_time": "2022-02-05T09:51:44.587116",
     "exception": false,
     "start_time": "2022-02-05T09:51:44.280538",
     "status": "completed"
    },
    "tags": []
   },
   "source": [
    "### Visualizing after Dimension Reduction"
   ]
  },
  {
   "cell_type": "code",
   "execution_count": null,
   "id": "2319238c",
   "metadata": {
    "papermill": {
     "duration": 38.279645,
     "end_time": "2022-02-05T09:52:23.151887",
     "exception": false,
     "start_time": "2022-02-05T09:51:44.872242",
     "status": "completed"
    },
    "tags": []
   },
   "outputs": [],
   "source": [
    "mapper = umap.UMAP().fit(card_df_ros.loc[:,:'Amount']) \n",
    "umap.plot.points(mapper, labels=card_df_ros.loc[:,'Class'], theme='fire')"
   ]
  },
  {
   "cell_type": "markdown",
   "id": "d5cc2a0b",
   "metadata": {
    "papermill": {
     "duration": 0.284518,
     "end_time": "2022-02-05T09:52:23.722037",
     "exception": false,
     "start_time": "2022-02-05T09:52:23.437519",
     "status": "completed"
    },
    "tags": []
   },
   "source": [
    "-----------------------\n",
    "## ADASYN\n",
    "\n",
    "> This method is similar to SMOTE but it generates different number of samples depending on an estimate of the local distribution of the class to be oversampled."
   ]
  },
  {
   "cell_type": "code",
   "execution_count": null,
   "id": "9263706d",
   "metadata": {
    "papermill": {
     "duration": 0.392082,
     "end_time": "2022-02-05T09:52:24.427545",
     "exception": false,
     "start_time": "2022-02-05T09:52:24.035463",
     "status": "completed"
    },
    "tags": []
   },
   "outputs": [],
   "source": [
    "from imblearn.over_sampling import ADASYN\n",
    "adasyn = ADASYN(random_state=0)\n",
    "\n",
    "X_train_adasyn, y_train_adasyn = adasyn.fit_resample(X_train, y_train)\n",
    "print('Feature/label dataset for training before applying ADASYN: ', X_train.shape, y_train.shape)\n",
    "print('Feature/label dataset for training after applying ADASYN: ', X_train_adasyn.shape, y_train_adasyn.shape)\n",
    "print('Distribution of label values after applying ADASYN: \\n', pd.Series(y_train_adasyn).value_counts())"
   ]
  },
  {
   "cell_type": "markdown",
   "id": "f2d26154",
   "metadata": {
    "papermill": {
     "duration": 0.294563,
     "end_time": "2022-02-05T09:52:25.012786",
     "exception": false,
     "start_time": "2022-02-05T09:52:24.718223",
     "status": "completed"
    },
    "tags": []
   },
   "source": [
    "### Plotting histogram Plot"
   ]
  },
  {
   "cell_type": "code",
   "execution_count": null,
   "id": "b5801a45",
   "metadata": {
    "_kg_hide-input": true,
    "papermill": {
     "duration": 0.879679,
     "end_time": "2022-02-05T09:52:26.186196",
     "exception": false,
     "start_time": "2022-02-05T09:52:25.306517",
     "status": "completed"
    },
    "tags": []
   },
   "outputs": [],
   "source": [
    "card_df_adasyn = pd.concat([X_train_adasyn,y_train_adasyn],axis=1)\n",
    "fig = px.histogram(card_df_adasyn, x=\"V14\", \n",
    "                   color=\"Class\", \n",
    "                   marginal=\"box\",\n",
    "                   barmode =\"overlay\",\n",
    "                   histnorm ='density'\n",
    "                  )  \n",
    "fig.update_layout(\n",
    "    title_text=\"Oversampled by ADASYN\",\n",
    "    title_font_color=\"white\",\n",
    "    legend_title_font_color=\"yellow\",\n",
    "    paper_bgcolor=\"black\",\n",
    "    plot_bgcolor='black',\n",
    "    font_color=\"white\",\n",
    ")\n",
    "fig.show()"
   ]
  },
  {
   "cell_type": "markdown",
   "id": "3f92c648",
   "metadata": {
    "papermill": {
     "duration": 0.32586,
     "end_time": "2022-02-05T09:52:26.839786",
     "exception": false,
     "start_time": "2022-02-05T09:52:26.513926",
     "status": "completed"
    },
    "tags": []
   },
   "source": [
    "<span style=\"color:Blue\"> Observation:\n",
    "    \n",
    "Looking at the historgram, it can be seen that both the V14 features increase the normal data (value = 0). For both V14 features, it can be confirmed that the overlapping section between fraud (value = 1) and normal (value = 0) is larger than other methods."
   ]
  },
  {
   "cell_type": "markdown",
   "id": "fb3169c3",
   "metadata": {
    "papermill": {
     "duration": 0.315478,
     "end_time": "2022-02-05T09:52:27.475038",
     "exception": false,
     "start_time": "2022-02-05T09:52:27.159560",
     "status": "completed"
    },
    "tags": []
   },
   "source": [
    "### Plotting Scatter Plot"
   ]
  },
  {
   "cell_type": "code",
   "execution_count": null,
   "id": "4cb6011a",
   "metadata": {
    "papermill": {
     "duration": 0.467092,
     "end_time": "2022-02-05T09:52:28.259848",
     "exception": false,
     "start_time": "2022-02-05T09:52:27.792756",
     "status": "completed"
    },
    "tags": []
   },
   "outputs": [],
   "source": [
    "fig = px.scatter(card_df_adasyn, x=\"V17\", y=\"V14\", color=\"Class\")\n",
    "fig.update_layout(\n",
    "    title_text=\"Oversampled by ADASYN\",\n",
    "    title_font_color=\"white\",\n",
    "    legend_title_font_color=\"yellow\",\n",
    "    paper_bgcolor=\"black\",\n",
    "    plot_bgcolor='black',\n",
    "    font_color=\"white\",\n",
    ")"
   ]
  },
  {
   "cell_type": "markdown",
   "id": "3024ed29",
   "metadata": {
    "papermill": {
     "duration": 0.338532,
     "end_time": "2022-02-05T09:52:28.938791",
     "exception": false,
     "start_time": "2022-02-05T09:52:28.600259",
     "status": "completed"
    },
    "tags": []
   },
   "source": [
    "<span style=\"color:Blue\"> Observation:\n",
    "    \n",
    "Similar to SMOTE, it can be confirmed that oversampling occurs through interpolation."
   ]
  },
  {
   "cell_type": "markdown",
   "id": "c5c8047c",
   "metadata": {
    "papermill": {
     "duration": 0.334144,
     "end_time": "2022-02-05T09:52:29.610238",
     "exception": false,
     "start_time": "2022-02-05T09:52:29.276094",
     "status": "completed"
    },
    "tags": []
   },
   "source": [
    "### Visualizing after Dimension Reduction"
   ]
  },
  {
   "cell_type": "code",
   "execution_count": null,
   "id": "1c3954a4",
   "metadata": {
    "papermill": {
     "duration": 28.28098,
     "end_time": "2022-02-05T09:52:58.230303",
     "exception": false,
     "start_time": "2022-02-05T09:52:29.949323",
     "status": "completed"
    },
    "tags": []
   },
   "outputs": [],
   "source": [
    "mapper = umap.UMAP().fit(card_df_adasyn.loc[:,:'Amount']) \n",
    "umap.plot.points(mapper, labels=card_df_adasyn.loc[:,'Class'], theme='fire')"
   ]
  },
  {
   "cell_type": "markdown",
   "id": "32f6daea",
   "metadata": {
    "papermill": {
     "duration": 0.335187,
     "end_time": "2022-02-05T09:52:58.912554",
     "exception": false,
     "start_time": "2022-02-05T09:52:58.577367",
     "status": "completed"
    },
    "tags": []
   },
   "source": [
    "<hr style=\"border: solid 3px blue;\">\n",
    "\n",
    "# Undersampling"
   ]
  },
  {
   "cell_type": "markdown",
   "id": "2c0877cf",
   "metadata": {
    "papermill": {
     "duration": 0.335597,
     "end_time": "2022-02-05T09:52:59.585223",
     "exception": false,
     "start_time": "2022-02-05T09:52:59.249626",
     "status": "completed"
    },
    "tags": []
   },
   "source": [
    "![](https://i1.wp.com/dataaspirant.com/wp-content/uploads/2020/08/17-undersampling.png?resize=613%2C318&ssl=1)\n",
    "\n",
    "Picture Credit: https://i1.wp.com\n",
    "\n",
    "Let's undersampling the V14 feature using each method and check the results."
   ]
  },
  {
   "cell_type": "markdown",
   "id": "7d954e59",
   "metadata": {
    "papermill": {
     "duration": 0.337884,
     "end_time": "2022-02-05T09:53:00.259321",
     "exception": false,
     "start_time": "2022-02-05T09:52:59.921437",
     "status": "completed"
    },
    "tags": []
   },
   "source": [
    "-----------------------------------------------------------\n",
    "## RandomUnderSampler\n",
    "\n",
    "> Under-sample the majority class(es) by randomly picking samples with or without replacement."
   ]
  },
  {
   "cell_type": "code",
   "execution_count": null,
   "id": "1abb8ac7",
   "metadata": {
    "_kg_hide-output": false,
    "papermill": {
     "duration": 0.35986,
     "end_time": "2022-02-05T09:53:00.957263",
     "exception": false,
     "start_time": "2022-02-05T09:53:00.597403",
     "status": "completed"
    },
    "tags": []
   },
   "outputs": [],
   "source": [
    "from imblearn.under_sampling import RandomUnderSampler\n",
    "rus = RandomUnderSampler(random_state=0)\n",
    "\n",
    "X_train_rus, y_train_rus = rus.fit_resample(X_train, y_train)\n",
    "print('Feature/label dataset for training before applying RandomUnderSampler: ', X_train.shape, y_train.shape)\n",
    "print('Feature/label dataset for training after applying RandomUnderSampler: ', X_train_rus.shape, y_train_rus.shape)\n",
    "print('Distribution of label values ​​after applying RandomUnderSampler: \\n', pd.Series(y_train_rus).value_counts())"
   ]
  },
  {
   "cell_type": "markdown",
   "id": "37f1a485",
   "metadata": {
    "papermill": {
     "duration": 0.337501,
     "end_time": "2022-02-05T09:53:01.681145",
     "exception": false,
     "start_time": "2022-02-05T09:53:01.343644",
     "status": "completed"
    },
    "tags": []
   },
   "source": [
    "<span style=\"color:Blue\"> Observation:\n",
    "\n",
    "It feels like a lot of the values of the normal class(value = 0) was thrown away."
   ]
  },
  {
   "cell_type": "markdown",
   "id": "5b7c2280",
   "metadata": {
    "papermill": {
     "duration": 0.338053,
     "end_time": "2022-02-05T09:53:02.357878",
     "exception": false,
     "start_time": "2022-02-05T09:53:02.019825",
     "status": "completed"
    },
    "tags": []
   },
   "source": [
    "### Plotting histogram Plot"
   ]
  },
  {
   "cell_type": "code",
   "execution_count": null,
   "id": "0a26af23",
   "metadata": {
    "_kg_hide-input": true,
    "papermill": {
     "duration": 0.425986,
     "end_time": "2022-02-05T09:53:03.123457",
     "exception": false,
     "start_time": "2022-02-05T09:53:02.697471",
     "status": "completed"
    },
    "tags": []
   },
   "outputs": [],
   "source": [
    "card_df_rus = pd.concat([X_train_rus,y_train_rus],axis=1)\n",
    "fig = px.histogram(card_df_rus, x=\"V14\", \n",
    "                   color=\"Class\", \n",
    "                   marginal=\"box\",\n",
    "                   barmode =\"overlay\",\n",
    "                   histnorm ='density'\n",
    "                  )  \n",
    "fig.update_layout(\n",
    "    title_text=\"Undersampled by RandomUnderSampler\",\n",
    "    title_font_color=\"white\",\n",
    "    legend_title_font_color=\"yellow\",\n",
    "    paper_bgcolor=\"black\",\n",
    "    plot_bgcolor='black',\n",
    "    font_color=\"white\",\n",
    ")\n",
    "fig.show()"
   ]
  },
  {
   "cell_type": "markdown",
   "id": "5a5d96ec",
   "metadata": {
    "papermill": {
     "duration": 0.339821,
     "end_time": "2022-02-05T09:53:03.801050",
     "exception": false,
     "start_time": "2022-02-05T09:53:03.461229",
     "status": "completed"
    },
    "tags": []
   },
   "source": [
    "<span style=\"color:Blue\"> Observation:\n",
    "    \n",
    "It can be seen that the number of data of the normal class (value = 0) is reduced. It can be seen that the distribution of the normal class (value = 0) maintains the shape of the original distribution similarly."
   ]
  },
  {
   "cell_type": "markdown",
   "id": "e789be3d",
   "metadata": {
    "papermill": {
     "duration": 0.336835,
     "end_time": "2022-02-05T09:53:04.480202",
     "exception": false,
     "start_time": "2022-02-05T09:53:04.143367",
     "status": "completed"
    },
    "tags": []
   },
   "source": [
    "### Plotting Scatter Plot"
   ]
  },
  {
   "cell_type": "code",
   "execution_count": null,
   "id": "22ae2bf3",
   "metadata": {
    "papermill": {
     "duration": 0.41771,
     "end_time": "2022-02-05T09:53:05.240057",
     "exception": false,
     "start_time": "2022-02-05T09:53:04.822347",
     "status": "completed"
    },
    "tags": []
   },
   "outputs": [],
   "source": [
    "fig = px.scatter(card_df_rus, x=\"V17\", y=\"V14\", color=\"Class\")\n",
    "fig.update_layout(\n",
    "    title_text=\"Undersampled by RandomUnderSampler\",\n",
    "    title_font_color=\"white\",\n",
    "    legend_title_font_color=\"yellow\",\n",
    "    paper_bgcolor=\"black\",\n",
    "    plot_bgcolor='black',\n",
    "    font_color=\"white\",\n",
    ")"
   ]
  },
  {
   "cell_type": "markdown",
   "id": "89d2a103",
   "metadata": {
    "papermill": {
     "duration": 0.336867,
     "end_time": "2022-02-05T09:53:05.914556",
     "exception": false,
     "start_time": "2022-02-05T09:53:05.577689",
     "status": "completed"
    },
    "tags": []
   },
   "source": [
    "<span style=\"color:Blue\"> Observation:\n",
    "\n",
    "It can be seen that the fraud-level data are randomly sampled. The distribution of positive values was also changed."
   ]
  },
  {
   "cell_type": "markdown",
   "id": "d9552312",
   "metadata": {
    "papermill": {
     "duration": 0.339009,
     "end_time": "2022-02-05T09:53:06.594239",
     "exception": false,
     "start_time": "2022-02-05T09:53:06.255230",
     "status": "completed"
    },
    "tags": []
   },
   "source": [
    "### Visualizing after Dimension Reduction"
   ]
  },
  {
   "cell_type": "code",
   "execution_count": null,
   "id": "8189412b",
   "metadata": {
    "papermill": {
     "duration": 6.446414,
     "end_time": "2022-02-05T09:53:13.381236",
     "exception": false,
     "start_time": "2022-02-05T09:53:06.934822",
     "status": "completed"
    },
    "tags": []
   },
   "outputs": [],
   "source": [
    "mapper = umap.UMAP().fit(card_df_rus.loc[:,:'Amount']) \n",
    "umap.plot.points(mapper, labels=card_df_rus.loc[:,'Class'], theme='fire')"
   ]
  },
  {
   "cell_type": "markdown",
   "id": "5677a729",
   "metadata": {
    "papermill": {
     "duration": 0.345062,
     "end_time": "2022-02-05T09:53:14.073471",
     "exception": false,
     "start_time": "2022-02-05T09:53:13.728409",
     "status": "completed"
    },
    "tags": []
   },
   "source": [
    "---------------------------------------------\n",
    "## Instance Hardness Threshold\n",
    "\n",
    "> Unlike other methods, it is not a method of classifying by defining a distance, but a method of undersampling based on a classification model.\n",
    "> It calculates and eliminates the probability that the classification of the model becomes difficult, such as an outlier. It is a method to remove a value with a high probability of misclassification by determining the classification algorithm and calculating the misclassification probability for each data value."
   ]
  },
  {
   "cell_type": "code",
   "execution_count": null,
   "id": "4a925f33",
   "metadata": {
    "papermill": {
     "duration": 0.713864,
     "end_time": "2022-02-05T09:53:15.133306",
     "exception": false,
     "start_time": "2022-02-05T09:53:14.419442",
     "status": "completed"
    },
    "tags": []
   },
   "outputs": [],
   "source": [
    "from sklearn.linear_model import LogisticRegression\n",
    "from imblearn.under_sampling import InstanceHardnessThreshold\n",
    "iht = InstanceHardnessThreshold(random_state=0,\n",
    "                               estimator=LogisticRegression(solver='lbfgs', multi_class='auto'))\n",
    "\n",
    "X_train_iht, y_train_iht = iht.fit_resample(X_train.loc[:,features], y_train)\n",
    "print('Feature/label dataset for training before applying InstanceHardnessThreshold: ', X_train.shape, y_train.shape)\n",
    "print('Feature/label dataset for training after applying InstanceHardnessThreshold: ', X_train_iht.shape, y_train_iht.shape)\n",
    "print('Distribution of label values after applying InstanceHardnessThreshold: \\n', pd.Series(y_train_iht).value_counts())"
   ]
  },
  {
   "cell_type": "markdown",
   "id": "eb21bfa1",
   "metadata": {
    "papermill": {
     "duration": 0.376617,
     "end_time": "2022-02-05T09:53:15.897464",
     "exception": false,
     "start_time": "2022-02-05T09:53:15.520847",
     "status": "completed"
    },
    "tags": []
   },
   "source": [
    "### Plotting histogram Plot"
   ]
  },
  {
   "cell_type": "code",
   "execution_count": null,
   "id": "7e8b9a8b",
   "metadata": {
    "_kg_hide-input": true,
    "papermill": {
     "duration": 0.437551,
     "end_time": "2022-02-05T09:53:16.687570",
     "exception": false,
     "start_time": "2022-02-05T09:53:16.250019",
     "status": "completed"
    },
    "tags": []
   },
   "outputs": [],
   "source": [
    "card_df_iht = pd.concat([X_train_iht,y_train_iht],axis=1)\n",
    "fig = px.histogram(card_df_iht, x=\"V14\", \n",
    "                   color=\"Class\", \n",
    "                   marginal=\"box\",\n",
    "                   barmode =\"overlay\",\n",
    "                   histnorm ='density'\n",
    "                  )  \n",
    "fig.update_layout(\n",
    "    title_text=\"Undersampled by Instance Hardness Threshold\",\n",
    "    title_font_color=\"white\",\n",
    "    legend_title_font_color=\"yellow\",\n",
    "    paper_bgcolor=\"black\",\n",
    "    plot_bgcolor='black',\n",
    "    font_color=\"white\",\n",
    ")\n",
    "fig.show()"
   ]
  },
  {
   "cell_type": "markdown",
   "id": "8263b61e",
   "metadata": {
    "papermill": {
     "duration": 0.343524,
     "end_time": "2022-02-05T09:53:17.377866",
     "exception": false,
     "start_time": "2022-02-05T09:53:17.034342",
     "status": "completed"
    },
    "tags": []
   },
   "source": [
    "<span style=\"color:Blue\"> Observation:\n",
    "    \n",
    "It can be seen that the number of data of the normal class (value = 0) is reduced. It can be seen that the distribution of the normal class (value=0) maintains the shape of the original distribution similarly, and it can be confirmed that the distribution of the fraud class (value=1) has a smaller variance compared to random undersampling."
   ]
  },
  {
   "cell_type": "markdown",
   "id": "1d851c33",
   "metadata": {
    "papermill": {
     "duration": 0.344325,
     "end_time": "2022-02-05T09:53:18.063230",
     "exception": false,
     "start_time": "2022-02-05T09:53:17.718905",
     "status": "completed"
    },
    "tags": []
   },
   "source": [
    "### Plotting Scatter Plot"
   ]
  },
  {
   "cell_type": "code",
   "execution_count": null,
   "id": "33a2153e",
   "metadata": {
    "papermill": {
     "duration": 0.411065,
     "end_time": "2022-02-05T09:53:18.817366",
     "exception": false,
     "start_time": "2022-02-05T09:53:18.406301",
     "status": "completed"
    },
    "tags": []
   },
   "outputs": [],
   "source": [
    "fig = px.scatter(card_df_iht, x=\"V17\", y=\"V14\", color=\"Class\")\n",
    "fig.update_layout(\n",
    "    title_text=\"Undersampled by RandomUnderSampler\",\n",
    "    title_font_color=\"white\",\n",
    "    legend_title_font_color=\"yellow\",\n",
    "    paper_bgcolor=\"black\",\n",
    "    plot_bgcolor='black',\n",
    "    font_color=\"white\",\n",
    ")"
   ]
  },
  {
   "cell_type": "markdown",
   "id": "7023cfb8",
   "metadata": {
    "papermill": {
     "duration": 0.339808,
     "end_time": "2022-02-05T09:53:19.572093",
     "exception": false,
     "start_time": "2022-02-05T09:53:19.232285",
     "status": "completed"
    },
    "tags": []
   },
   "source": [
    "### Visualizing after Dimension Reduction"
   ]
  },
  {
   "cell_type": "code",
   "execution_count": null,
   "id": "4fd8cb14",
   "metadata": {
    "papermill": {
     "duration": 2.594534,
     "end_time": "2022-02-05T09:53:22.511299",
     "exception": false,
     "start_time": "2022-02-05T09:53:19.916765",
     "status": "completed"
    },
    "tags": []
   },
   "outputs": [],
   "source": [
    "mapper = umap.UMAP().fit(card_df_iht.loc[:,:'V17']) \n",
    "umap.plot.points(mapper, labels=card_df_iht.loc[:,'Class'], theme='fire')"
   ]
  },
  {
   "cell_type": "markdown",
   "id": "d46da358",
   "metadata": {
    "papermill": {
     "duration": 0.348556,
     "end_time": "2022-02-05T09:53:23.213522",
     "exception": false,
     "start_time": "2022-02-05T09:53:22.864966",
     "status": "completed"
    },
    "tags": []
   },
   "source": [
    "----------------------------------------------\n",
    "## Near Miss\n",
    "\n",
    "> It can be grouped under undersampling algorithms and is an efficient way to balance the data. The algorithm does this by looking at the class distribution and randomly eliminating samples from the larger class. When two points belonging to different classes are very close to each other in the distribution, this algorithm eliminates the datapoint of the larger class thereby trying to balance the distribution. "
   ]
  },
  {
   "cell_type": "code",
   "execution_count": null,
   "id": "7ea6ddaa",
   "metadata": {
    "papermill": {
     "duration": 0.402334,
     "end_time": "2022-02-05T09:53:23.959839",
     "exception": false,
     "start_time": "2022-02-05T09:53:23.557505",
     "status": "completed"
    },
    "tags": []
   },
   "outputs": [],
   "source": [
    "from imblearn.under_sampling import NearMiss\n",
    "nm = NearMiss()\n",
    "\n",
    "X_train_nm, y_train_nm = nm.fit_resample(X_train, y_train)\n",
    "print('Feature/label dataset for training before applying RandomUnderSampler: ', X_train.shape, y_train.shape)\n",
    "print('Feature/label dataset for training after applying RandomUnderSampler: ', X_train_nm.shape, y_train_nm.shape)\n",
    "print('Distribution of label values after applying RandomUnderSampler: \\n', pd.Series(y_train_nm).value_counts())"
   ]
  },
  {
   "cell_type": "markdown",
   "id": "578f7350",
   "metadata": {
    "papermill": {
     "duration": 0.345141,
     "end_time": "2022-02-05T09:53:24.652901",
     "exception": false,
     "start_time": "2022-02-05T09:53:24.307760",
     "status": "completed"
    },
    "tags": []
   },
   "source": [
    "### Plotting histogram Plot"
   ]
  },
  {
   "cell_type": "code",
   "execution_count": null,
   "id": "96a3b256",
   "metadata": {
    "_kg_hide-input": true,
    "papermill": {
     "duration": 0.430549,
     "end_time": "2022-02-05T09:53:25.434557",
     "exception": false,
     "start_time": "2022-02-05T09:53:25.004008",
     "status": "completed"
    },
    "tags": []
   },
   "outputs": [],
   "source": [
    "card_df_nm = pd.concat([X_train_nm,y_train_nm],axis=1)\n",
    "fig = px.histogram(card_df_nm, x=\"V14\", \n",
    "                   color=\"Class\", \n",
    "                   marginal=\"box\",\n",
    "                   barmode =\"overlay\",\n",
    "                   histnorm ='density'\n",
    "                  )  \n",
    "fig.update_layout(\n",
    "    title_text=\"Undersampled by Near Miss\",\n",
    "    title_font_color=\"white\",\n",
    "    legend_title_font_color=\"yellow\",\n",
    "    paper_bgcolor=\"black\",\n",
    "    plot_bgcolor='black',\n",
    "    font_color=\"white\",\n",
    ")\n",
    "fig.show()"
   ]
  },
  {
   "cell_type": "markdown",
   "id": "dfb19ccc",
   "metadata": {
    "papermill": {
     "duration": 0.345943,
     "end_time": "2022-02-05T09:53:26.128133",
     "exception": false,
     "start_time": "2022-02-05T09:53:25.782190",
     "status": "completed"
    },
    "tags": []
   },
   "source": [
    "<span style=\"color:Blue\"> Observation:\n",
    "    \n",
    "It can be seen that the number of data of the normal class (value = 0) is reduced. The distribution of the normal class (value=0) became a bimodal distribution in the shape of the original distribution. The shape of the original distribution is broken and is unlikely to be conducive to learning."
   ]
  },
  {
   "cell_type": "markdown",
   "id": "530f1ce6",
   "metadata": {
    "papermill": {
     "duration": 0.348043,
     "end_time": "2022-02-05T09:53:26.826012",
     "exception": false,
     "start_time": "2022-02-05T09:53:26.477969",
     "status": "completed"
    },
    "tags": []
   },
   "source": [
    "### Plotting Scatter Plot"
   ]
  },
  {
   "cell_type": "code",
   "execution_count": null,
   "id": "09295a9c",
   "metadata": {
    "papermill": {
     "duration": 0.411978,
     "end_time": "2022-02-05T09:53:27.588060",
     "exception": false,
     "start_time": "2022-02-05T09:53:27.176082",
     "status": "completed"
    },
    "tags": []
   },
   "outputs": [],
   "source": [
    "fig = px.scatter(card_df_nm, x=\"V17\", y=\"V14\", color=\"Class\")\n",
    "fig.update_layout(\n",
    "    title_text=\"Undersampled by NearMiss\",\n",
    "    title_font_color=\"white\",\n",
    "    legend_title_font_color=\"yellow\",\n",
    "    paper_bgcolor=\"black\",\n",
    "    plot_bgcolor='black',\n",
    "    font_color=\"white\",\n",
    ")"
   ]
  },
  {
   "cell_type": "markdown",
   "id": "32786071",
   "metadata": {
    "papermill": {
     "duration": 0.34634,
     "end_time": "2022-02-05T09:53:28.280386",
     "exception": false,
     "start_time": "2022-02-05T09:53:27.934046",
     "status": "completed"
    },
    "tags": []
   },
   "source": [
    "### Visualizing after Dimension Reduction"
   ]
  },
  {
   "cell_type": "code",
   "execution_count": null,
   "id": "caa94c32",
   "metadata": {
    "papermill": {
     "duration": 2.639629,
     "end_time": "2022-02-05T09:53:31.264550",
     "exception": false,
     "start_time": "2022-02-05T09:53:28.624921",
     "status": "completed"
    },
    "tags": []
   },
   "outputs": [],
   "source": [
    "mapper = umap.UMAP().fit(card_df_nm.loc[:,:'Amount']) \n",
    "umap.plot.points(mapper, labels=card_df_nm.loc[:,'Class'], theme='fire')"
   ]
  },
  {
   "cell_type": "markdown",
   "id": "3623b865",
   "metadata": {
    "papermill": {
     "duration": 0.345518,
     "end_time": "2022-02-05T09:53:31.974000",
     "exception": false,
     "start_time": "2022-02-05T09:53:31.628482",
     "status": "completed"
    },
    "tags": []
   },
   "source": [
    "<hr style=\"border: solid 3px blue;\">\n",
    "\n",
    "# Let's find Fraud\n",
    "\n",
    "![](https://thumbs.gfycat.com/ElasticFearlessGonolek-size_restricted.gif)\n",
    "\n",
    "Picture Credit: https://thumbs.gfycat.com"
   ]
  },
  {
   "cell_type": "markdown",
   "id": "8e44ec6e",
   "metadata": {
    "papermill": {
     "duration": 0.347285,
     "end_time": "2022-02-05T09:53:32.671135",
     "exception": false,
     "start_time": "2022-02-05T09:53:32.323850",
     "status": "completed"
    },
    "tags": []
   },
   "source": [
    "# Selecting Sampling Method\n",
    "\n",
    "As above, oversampling/undersampling methods are checked using the creditcard fraud dataset. Additional experiments will have to be done in the future, but looking at the histogram of the main features, it seems appropriate to use SMOTE among the oversampling methods. "
   ]
  },
  {
   "cell_type": "code",
   "execution_count": null,
   "id": "1b392268",
   "metadata": {
    "papermill": {
     "duration": 0.371901,
     "end_time": "2022-02-05T09:53:33.394823",
     "exception": false,
     "start_time": "2022-02-05T09:53:33.022922",
     "status": "completed"
    },
    "tags": []
   },
   "outputs": [],
   "source": [
    "train_df =pd.concat([X_train_smote,y_train_smote],axis=1)\n",
    "X_test_smote, y_test_smote = smote.fit_resample(X_test, y_test)"
   ]
  },
  {
   "cell_type": "code",
   "execution_count": null,
   "id": "671735f8",
   "metadata": {
    "papermill": {
     "duration": 0.373325,
     "end_time": "2022-02-05T09:53:34.114499",
     "exception": false,
     "start_time": "2022-02-05T09:53:33.741174",
     "status": "completed"
    },
    "tags": []
   },
   "outputs": [],
   "source": [
    "colors = ['gold', 'mediumturquoise']\n",
    "labels = ['Normal','Fraud']\n",
    "values = train_df['Class'].value_counts()/train_df['Class'].shape[0]\n",
    "fig = go.Figure(data=[go.Pie(labels = labels,\n",
    "                             values=values,hole=.3)])\n",
    "fig.update_traces(hoverinfo='label+percent', textinfo='percent', textfont_size=20,\n",
    "                  marker=dict(colors=colors, line=dict(color='#000000', width=2)))\n",
    "fig.update_layout(\n",
    "    title_text=\"Credit Card Fraud\",\n",
    "    title_font_color=\"white\",\n",
    "    legend_title_font_color=\"yellow\",\n",
    "    paper_bgcolor=\"black\",\n",
    "    plot_bgcolor='black',\n",
    "    font_color=\"white\",\n",
    ")\n",
    "fig.show()"
   ]
  },
  {
   "cell_type": "markdown",
   "id": "e51ddca8",
   "metadata": {
    "papermill": {
     "duration": 0.348485,
     "end_time": "2022-02-05T09:53:34.812204",
     "exception": false,
     "start_time": "2022-02-05T09:53:34.463719",
     "status": "completed"
    },
    "tags": []
   },
   "source": [
    "<span style=\"color:Blue\"> Observation:\n",
    "    \n",
    "Wow! Oversampling completely solved the imbalace problem."
   ]
  },
  {
   "cell_type": "markdown",
   "id": "73e372c6",
   "metadata": {
    "papermill": {
     "duration": 0.352954,
     "end_time": "2022-02-05T09:53:35.515927",
     "exception": false,
     "start_time": "2022-02-05T09:53:35.162973",
     "status": "completed"
    },
    "tags": []
   },
   "source": [
    "# Setting Up\n",
    "\n",
    "> This function initializes the training environment and creates the transformation pipeline. Setup function must be called before executing any other function. It takes two mandatory parameters: data and target. All the other parameters are optional.\n",
    "\n",
    "Ref: https://pycaret.readthedocs.io/en/latest/api/classification.html"
   ]
  },
  {
   "cell_type": "code",
   "execution_count": null,
   "id": "ea26571f",
   "metadata": {
    "papermill": {
     "duration": 2.072796,
     "end_time": "2022-02-05T09:53:37.940503",
     "exception": false,
     "start_time": "2022-02-05T09:53:35.867707",
     "status": "completed"
    },
    "tags": []
   },
   "outputs": [],
   "source": [
    "classifier = setup(data=train_df, preprocess=False, target='Class', verbose=False)"
   ]
  },
  {
   "cell_type": "markdown",
   "id": "3b658976",
   "metadata": {
    "papermill": {
     "duration": 0.356967,
     "end_time": "2022-02-05T09:53:38.651419",
     "exception": false,
     "start_time": "2022-02-05T09:53:38.294452",
     "status": "completed"
    },
    "tags": []
   },
   "source": [
    "# Creating Model\n",
    "\n",
    "> create_model is the most granular function in PyCaret and is often the foundation behind most of the PyCaret functionalities. As the name suggests this function trains and evaluates a model using cross validation that can be set with fold parameter. The output prints a score grid that shows Accuracy, AUC, Recall, Precision, F1, Kappa and MCC by fold.\n",
    "\n",
    "Ref: https://github.com/pycaret/pycaret"
   ]
  },
  {
   "cell_type": "code",
   "execution_count": null,
   "id": "ddb73824-0b56-4a10-ba57-e3671f2d2115",
   "metadata": {},
   "outputs": [],
   "source": [
    "from pycaret.classification import models\n",
    "models()"
   ]
  },
  {
   "cell_type": "code",
   "execution_count": null,
   "id": "047c1510",
   "metadata": {
    "papermill": {
     "duration": 111.762811,
     "end_time": "2022-02-05T09:55:30.770465",
     "exception": false,
     "start_time": "2022-02-05T09:53:39.007654",
     "status": "completed"
    },
    "tags": []
   },
   "outputs": [],
   "source": [
    "dt = create_model('dt')\n",
    "catboost = create_model('catboost')"
   ]
  },
  {
   "cell_type": "markdown",
   "id": "5e5481d1",
   "metadata": {
    "papermill": {
     "duration": 0.359117,
     "end_time": "2022-02-05T09:55:31.514814",
     "exception": false,
     "start_time": "2022-02-05T09:55:31.155697",
     "status": "completed"
    },
    "tags": []
   },
   "source": [
    "# Tuning Hyperparameters\n",
    "\n",
    "> When a model is created using the create_model() function it uses the default hyperparameters to train the model. In order to tune hyperparameters, the tune_model() function is used. This function automatically tunes the hyperparameters of a model using Random Grid Search on a pre-defined search space. The output prints a score grid that shows Accuracy, AUC, Recall, Precision, F1, Kappa, and MCC by fold for the best model. To use the custom search grid, you can pass custom_grid parameter in the tune_model function\n",
    "\n",
    "Ref: https://github.com/pycaret/pycaret"
   ]
  },
  {
   "cell_type": "code",
   "execution_count": null,
   "id": "dec618fa",
   "metadata": {
    "papermill": {
     "duration": 397.384335,
     "end_time": "2022-02-05T10:02:09.251527",
     "exception": false,
     "start_time": "2022-02-05T09:55:31.867192",
     "status": "completed"
    },
    "tags": []
   },
   "outputs": [],
   "source": [
    "tuned_dt = tune_model(dt, optimize = 'AUC')\n",
    "tuned_catboost = tune_model(catboost, optimize = 'AUC')"
   ]
  },
  {
   "cell_type": "markdown",
   "id": "f814170d",
   "metadata": {
    "papermill": {
     "duration": 0.351176,
     "end_time": "2022-02-05T10:02:09.956913",
     "exception": false,
     "start_time": "2022-02-05T10:02:09.605737",
     "status": "completed"
    },
    "tags": []
   },
   "source": [
    "# Interpreting Model"
   ]
  },
  {
   "cell_type": "code",
   "execution_count": null,
   "id": "19b75440",
   "metadata": {
    "papermill": {
     "duration": 4.848213,
     "end_time": "2022-02-05T10:02:15.158684",
     "exception": false,
     "start_time": "2022-02-05T10:02:10.310471",
     "status": "completed"
    },
    "tags": []
   },
   "outputs": [],
   "source": [
    "with plt.rc_context({'figure.facecolor':'grey'}):\n",
    "    interpret_model(tuned_dt)"
   ]
  },
  {
   "cell_type": "code",
   "execution_count": null,
   "id": "5fb3a43a",
   "metadata": {
    "papermill": {
     "duration": 15.609542,
     "end_time": "2022-02-05T10:02:31.136339",
     "exception": false,
     "start_time": "2022-02-05T10:02:15.526797",
     "status": "completed"
    },
    "tags": []
   },
   "outputs": [],
   "source": [
    "with plt.rc_context({'figure.facecolor':'grey'}):\n",
    "    interpret_model(tuned_catboost)"
   ]
  },
  {
   "cell_type": "code",
   "execution_count": null,
   "id": "91b2c693",
   "metadata": {
    "papermill": {
     "duration": 0.986059,
     "end_time": "2022-02-05T10:02:32.485459",
     "exception": false,
     "start_time": "2022-02-05T10:02:31.499400",
     "status": "completed"
    },
    "tags": []
   },
   "outputs": [],
   "source": [
    "plot_model(tuned_dt, plot='feature')"
   ]
  },
  {
   "cell_type": "code",
   "execution_count": null,
   "id": "4c677d87",
   "metadata": {
    "papermill": {
     "duration": 1.066268,
     "end_time": "2022-02-05T10:02:33.908203",
     "exception": false,
     "start_time": "2022-02-05T10:02:32.841935",
     "status": "completed"
    },
    "tags": []
   },
   "outputs": [],
   "source": [
    "plot_model(tuned_catboost, plot='feature')"
   ]
  },
  {
   "cell_type": "markdown",
   "id": "8f02b98f",
   "metadata": {
    "papermill": {
     "duration": 0.366042,
     "end_time": "2022-02-05T10:02:34.685209",
     "exception": false,
     "start_time": "2022-02-05T10:02:34.319167",
     "status": "completed"
    },
    "tags": []
   },
   "source": [
    "<span style=\"color:Blue\"> Observation:\n",
    "\n",
    "V14, V8 and V4 features were determined as important features."
   ]
  },
  {
   "cell_type": "markdown",
   "id": "817ab177",
   "metadata": {
    "papermill": {
     "duration": 0.362411,
     "end_time": "2022-02-05T10:02:35.416450",
     "exception": false,
     "start_time": "2022-02-05T10:02:35.054039",
     "status": "completed"
    },
    "tags": []
   },
   "source": [
    "# Ploting Model"
   ]
  },
  {
   "cell_type": "code",
   "execution_count": null,
   "id": "3f936593",
   "metadata": {
    "papermill": {
     "duration": 3.372555,
     "end_time": "2022-02-05T10:02:39.147660",
     "exception": false,
     "start_time": "2022-02-05T10:02:35.775105",
     "status": "completed"
    },
    "tags": []
   },
   "outputs": [],
   "source": [
    "plt.figure(figsize=(8, 8))\n",
    "plot_model(tuned_catboost, plot='boundary')"
   ]
  },
  {
   "cell_type": "code",
   "execution_count": null,
   "id": "86896d6d",
   "metadata": {
    "papermill": {
     "duration": 2.715794,
     "end_time": "2022-02-05T10:02:42.225703",
     "exception": false,
     "start_time": "2022-02-05T10:02:39.509909",
     "status": "completed"
    },
    "tags": []
   },
   "outputs": [],
   "source": [
    "plt.figure(figsize=(8, 8))\n",
    "plot_model(tuned_dt, plot='boundary')"
   ]
  },
  {
   "cell_type": "markdown",
   "id": "ab321473",
   "metadata": {
    "papermill": {
     "duration": 0.357954,
     "end_time": "2022-02-05T10:02:42.947973",
     "exception": false,
     "start_time": "2022-02-05T10:02:42.590019",
     "status": "completed"
    },
    "tags": []
   },
   "source": [
    "<span style=\"color:Blue\"> Observation:\n",
    "    \n",
    "When looking at the boundary in the model using the train dataset, it was drawn very clearly."
   ]
  },
  {
   "cell_type": "markdown",
   "id": "2d12dd36",
   "metadata": {
    "papermill": {
     "duration": 0.367799,
     "end_time": "2022-02-05T10:02:46.439166",
     "exception": false,
     "start_time": "2022-02-05T10:02:46.071367",
     "status": "completed"
    },
    "tags": []
   },
   "source": [
    "<span style=\"color:Blue\"> Observation:\n",
    "    \n",
    "If you look at the picture above, you can check the conditions under which the decision tree is made."
   ]
  },
  {
   "cell_type": "code",
   "execution_count": null,
   "id": "7d798a01",
   "metadata": {
    "papermill": {
     "duration": 7.978732,
     "end_time": "2022-02-05T10:02:54.789819",
     "exception": false,
     "start_time": "2022-02-05T10:02:46.811087",
     "status": "completed"
    },
    "tags": []
   },
   "outputs": [],
   "source": [
    "plt.figure(figsize=(8, 8))\n",
    "plot_model(tuned_dt, plot='learning')"
   ]
  },
  {
   "cell_type": "code",
   "execution_count": null,
   "id": "4be2a30f",
   "metadata": {
    "papermill": {
     "duration": 1.136453,
     "end_time": "2022-02-05T10:02:56.319023",
     "exception": false,
     "start_time": "2022-02-05T10:02:55.182570",
     "status": "completed"
    },
    "tags": []
   },
   "outputs": [],
   "source": [
    "plt.figure(figsize=(8, 8))\n",
    "plot_model(tuned_dt, plot='class_report')"
   ]
  },
  {
   "cell_type": "markdown",
   "id": "b65ddaff",
   "metadata": {
    "papermill": {
     "duration": 0.373541,
     "end_time": "2022-02-05T10:02:57.072436",
     "exception": false,
     "start_time": "2022-02-05T10:02:56.698895",
     "status": "completed"
    },
    "tags": []
   },
   "source": [
    "# Predicting with the test dateset"
   ]
  },
  {
   "cell_type": "code",
   "execution_count": null,
   "id": "c84c6d37",
   "metadata": {
    "papermill": {
     "duration": 0.41173,
     "end_time": "2022-02-05T10:02:57.863481",
     "exception": false,
     "start_time": "2022-02-05T10:02:57.451751",
     "status": "completed"
    },
    "tags": []
   },
   "outputs": [],
   "source": [
    "pred = tuned_catboost.predict(X_test_smote)"
   ]
  },
  {
   "cell_type": "code",
   "execution_count": null,
   "id": "da8ca3d2",
   "metadata": {
    "papermill": {
     "duration": 0.420399,
     "end_time": "2022-02-05T10:02:58.675483",
     "exception": false,
     "start_time": "2022-02-05T10:02:58.255084",
     "status": "completed"
    },
    "tags": []
   },
   "outputs": [],
   "source": [
    "final_model_result = confusion_matrix(y_test_smote, pred)\n",
    "accuracy = accuracy_score(y_test_smote , pred)\n",
    "precision = precision_score(y_test_smote , pred)\n",
    "recall = recall_score(y_test_smote , pred)\n",
    "f1 = f1_score(y_test_smote,pred) \n",
    "print('accuracy: {0:.4f}, precision: {1:.4f}, recall: {2:.4f},\\\n",
    "F1: {3:.4f}'.format(accuracy, precision, recall, f1))"
   ]
  },
  {
   "cell_type": "code",
   "execution_count": null,
   "id": "a2dcfe51",
   "metadata": {
    "papermill": {
     "duration": 0.665653,
     "end_time": "2022-02-05T10:02:59.731827",
     "exception": false,
     "start_time": "2022-02-05T10:02:59.066174",
     "status": "completed"
    },
    "tags": []
   },
   "outputs": [],
   "source": [
    "plt.figure(figsize=(8, 6))\n",
    "ax = sns.heatmap(final_model_result, cmap = 'YlGnBu',annot = True, fmt='d')\n",
    "ax.set_title('Confusion Matrix (final_model)')"
   ]
  },
  {
   "cell_type": "markdown",
   "id": "ed9dc82e",
   "metadata": {
    "papermill": {
     "duration": 0.393353,
     "end_time": "2022-02-05T10:03:00.515525",
     "exception": false,
     "start_time": "2022-02-05T10:03:00.122172",
     "status": "completed"
    },
    "tags": []
   },
   "source": [
    "<hr style=\"border: solid 3px blue;\">"
   ]
  }
 ],
 "metadata": {
  "kernelspec": {
   "display_name": "Python 3 (ipykernel)",
   "language": "python",
   "name": "python3"
  },
  "language_info": {
   "codemirror_mode": {
    "name": "ipython",
    "version": 3
   },
   "file_extension": ".py",
   "mimetype": "text/x-python",
   "name": "python",
   "nbconvert_exporter": "python",
   "pygments_lexer": "ipython3",
   "version": "3.10.12"
  },
  "papermill": {
   "default_parameters": {},
   "duration": 947.860857,
   "end_time": "2022-02-05T10:03:03.833173",
   "environment_variables": {},
   "exception": null,
   "input_path": "__notebook__.ipynb",
   "output_path": "__notebook__.ipynb",
   "parameters": {},
   "start_time": "2022-02-05T09:47:15.972316",
   "version": "2.3.3"
  },
  "widgets": {
   "application/vnd.jupyter.widget-state+json": {
    "state": {
     "00d09b9de9a945ba9ac7dd4b02b7b96e": {
      "model_module": "@jupyter-widgets/controls",
      "model_module_version": "1.5.0",
      "model_name": "ProgressStyleModel",
      "state": {
       "_model_module": "@jupyter-widgets/controls",
       "_model_module_version": "1.5.0",
       "_model_name": "ProgressStyleModel",
       "_view_count": null,
       "_view_module": "@jupyter-widgets/base",
       "_view_module_version": "1.2.0",
       "_view_name": "StyleView",
       "bar_color": null,
       "description_width": ""
      }
     },
     "01972ad903424260b15012783da1ce2a": {
      "model_module": "@jupyter-widgets/controls",
      "model_module_version": "1.5.0",
      "model_name": "IntProgressModel",
      "state": {
       "_dom_classes": [],
       "_model_module": "@jupyter-widgets/controls",
       "_model_module_version": "1.5.0",
       "_model_name": "IntProgressModel",
       "_view_count": null,
       "_view_module": "@jupyter-widgets/controls",
       "_view_module_version": "1.5.0",
       "_view_name": "ProgressView",
       "bar_style": "",
       "description": "Processing: ",
       "description_tooltip": null,
       "layout": "IPY_MODEL_528dc6aa5f3647e9bc73ff5e7388d7be",
       "max": 3,
       "min": 0,
       "orientation": "horizontal",
       "style": "IPY_MODEL_f7ebe9aca69d455595001bcc0d16ff3c",
       "value": 3
      }
     },
     "037b7c8a96d445f09a660925aa214f26": {
      "model_module": "@jupyter-widgets/controls",
      "model_module_version": "1.5.0",
      "model_name": "ProgressStyleModel",
      "state": {
       "_model_module": "@jupyter-widgets/controls",
       "_model_module_version": "1.5.0",
       "_model_name": "ProgressStyleModel",
       "_view_count": null,
       "_view_module": "@jupyter-widgets/base",
       "_view_module_version": "1.2.0",
       "_view_name": "StyleView",
       "bar_color": null,
       "description_width": ""
      }
     },
     "0f58ede77b46463195d463aa366c8f1c": {
      "model_module": "@jupyter-widgets/base",
      "model_module_version": "1.2.0",
      "model_name": "LayoutModel",
      "state": {
       "_model_module": "@jupyter-widgets/base",
       "_model_module_version": "1.2.0",
       "_model_name": "LayoutModel",
       "_view_count": null,
       "_view_module": "@jupyter-widgets/base",
       "_view_module_version": "1.2.0",
       "_view_name": "LayoutView",
       "align_content": null,
       "align_items": null,
       "align_self": null,
       "border": null,
       "bottom": null,
       "display": null,
       "flex": null,
       "flex_flow": null,
       "grid_area": null,
       "grid_auto_columns": null,
       "grid_auto_flow": null,
       "grid_auto_rows": null,
       "grid_column": null,
       "grid_gap": null,
       "grid_row": null,
       "grid_template_areas": null,
       "grid_template_columns": null,
       "grid_template_rows": null,
       "height": null,
       "justify_content": null,
       "justify_items": null,
       "left": null,
       "margin": null,
       "max_height": null,
       "max_width": null,
       "min_height": null,
       "min_width": null,
       "object_fit": null,
       "object_position": null,
       "order": null,
       "overflow": null,
       "overflow_x": null,
       "overflow_y": null,
       "padding": null,
       "right": null,
       "top": null,
       "visibility": null,
       "width": null
      }
     },
     "1436b167e900449ebe014b4eac091e6a": {
      "model_module": "@jupyter-widgets/controls",
      "model_module_version": "1.5.0",
      "model_name": "IntProgressModel",
      "state": {
       "_dom_classes": [],
       "_model_module": "@jupyter-widgets/controls",
       "_model_module_version": "1.5.0",
       "_model_name": "IntProgressModel",
       "_view_count": null,
       "_view_module": "@jupyter-widgets/controls",
       "_view_module_version": "1.5.0",
       "_view_name": "ProgressView",
       "bar_style": "",
       "description": "Processing: ",
       "description_tooltip": null,
       "layout": "IPY_MODEL_c064378825764396bb60224d1c399480",
       "max": 4,
       "min": 0,
       "orientation": "horizontal",
       "style": "IPY_MODEL_1ac2276e2d7a4416ac7542199e748ac1",
       "value": 4
      }
     },
     "1a20880f8c464e13b5fc47a86017591a": {
      "model_module": "@jupyter-widgets/base",
      "model_module_version": "1.2.0",
      "model_name": "LayoutModel",
      "state": {
       "_model_module": "@jupyter-widgets/base",
       "_model_module_version": "1.2.0",
       "_model_name": "LayoutModel",
       "_view_count": null,
       "_view_module": "@jupyter-widgets/base",
       "_view_module_version": "1.2.0",
       "_view_name": "LayoutView",
       "align_content": null,
       "align_items": null,
       "align_self": null,
       "border": null,
       "bottom": null,
       "display": null,
       "flex": null,
       "flex_flow": null,
       "grid_area": null,
       "grid_auto_columns": null,
       "grid_auto_flow": null,
       "grid_auto_rows": null,
       "grid_column": null,
       "grid_gap": null,
       "grid_row": null,
       "grid_template_areas": null,
       "grid_template_columns": null,
       "grid_template_rows": null,
       "height": null,
       "justify_content": null,
       "justify_items": null,
       "left": null,
       "margin": null,
       "max_height": null,
       "max_width": null,
       "min_height": null,
       "min_width": null,
       "object_fit": null,
       "object_position": null,
       "order": null,
       "overflow": null,
       "overflow_x": null,
       "overflow_y": null,
       "padding": null,
       "right": null,
       "top": null,
       "visibility": null,
       "width": null
      }
     },
     "1ac2276e2d7a4416ac7542199e748ac1": {
      "model_module": "@jupyter-widgets/controls",
      "model_module_version": "1.5.0",
      "model_name": "ProgressStyleModel",
      "state": {
       "_model_module": "@jupyter-widgets/controls",
       "_model_module_version": "1.5.0",
       "_model_name": "ProgressStyleModel",
       "_view_count": null,
       "_view_module": "@jupyter-widgets/base",
       "_view_module_version": "1.2.0",
       "_view_name": "StyleView",
       "bar_color": null,
       "description_width": ""
      }
     },
     "1cae88525044417097fb4ee7151b1cfa": {
      "model_module": "@jupyter-widgets/controls",
      "model_module_version": "1.5.0",
      "model_name": "IntProgressModel",
      "state": {
       "_dom_classes": [],
       "_model_module": "@jupyter-widgets/controls",
       "_model_module_version": "1.5.0",
       "_model_name": "IntProgressModel",
       "_view_count": null,
       "_view_module": "@jupyter-widgets/controls",
       "_view_module_version": "1.5.0",
       "_view_name": "ProgressView",
       "bar_style": "",
       "description": "Processing: ",
       "description_tooltip": null,
       "layout": "IPY_MODEL_8aad51ee18444ac098a89e6c2e8d52a0",
       "max": 5,
       "min": 0,
       "orientation": "horizontal",
       "style": "IPY_MODEL_d59a719773714a28b4c20b03ac02493b",
       "value": 5
      }
     },
     "1d94b15695e44b23b4406ef7093df264": {
      "model_module": "@jupyter-widgets/controls",
      "model_module_version": "1.5.0",
      "model_name": "IntProgressModel",
      "state": {
       "_dom_classes": [],
       "_model_module": "@jupyter-widgets/controls",
       "_model_module_version": "1.5.0",
       "_model_name": "IntProgressModel",
       "_view_count": null,
       "_view_module": "@jupyter-widgets/controls",
       "_view_module_version": "1.5.0",
       "_view_name": "ProgressView",
       "bar_style": "",
       "description": "Processing: ",
       "description_tooltip": null,
       "layout": "IPY_MODEL_6d6e2a65d57a42c8b873d67b3794faf3",
       "max": 5,
       "min": 0,
       "orientation": "horizontal",
       "style": "IPY_MODEL_00d09b9de9a945ba9ac7dd4b02b7b96e",
       "value": 5
      }
     },
     "2f9429d9091240cda2a8a3b7eb4315e8": {
      "model_module": "@jupyter-widgets/controls",
      "model_module_version": "1.5.0",
      "model_name": "IntProgressModel",
      "state": {
       "_dom_classes": [],
       "_model_module": "@jupyter-widgets/controls",
       "_model_module_version": "1.5.0",
       "_model_name": "IntProgressModel",
       "_view_count": null,
       "_view_module": "@jupyter-widgets/controls",
       "_view_module_version": "1.5.0",
       "_view_name": "ProgressView",
       "bar_style": "",
       "description": "Processing: ",
       "description_tooltip": null,
       "layout": "IPY_MODEL_655c6d2071de4ffd96f21d71559b2b29",
       "max": 5,
       "min": 0,
       "orientation": "horizontal",
       "style": "IPY_MODEL_b6cb0f49c4394cdb839f79f9af32545d",
       "value": 5
      }
     },
     "3833c6b507b345ecb28e706ed3072e79": {
      "model_module": "@jupyter-widgets/controls",
      "model_module_version": "1.5.0",
      "model_name": "IntProgressModel",
      "state": {
       "_dom_classes": [],
       "_model_module": "@jupyter-widgets/controls",
       "_model_module_version": "1.5.0",
       "_model_name": "IntProgressModel",
       "_view_count": null,
       "_view_module": "@jupyter-widgets/controls",
       "_view_module_version": "1.5.0",
       "_view_name": "ProgressView",
       "bar_style": "",
       "description": "Processing: ",
       "description_tooltip": null,
       "layout": "IPY_MODEL_88e5cbd12d4844d781cfd039abbedc5e",
       "max": 7,
       "min": 0,
       "orientation": "horizontal",
       "style": "IPY_MODEL_6fb0fbb130a64de78c025e9d6c53b869",
       "value": 7
      }
     },
     "4304fe46c75f47a4a4f6e3edf834c295": {
      "model_module": "@jupyter-widgets/base",
      "model_module_version": "1.2.0",
      "model_name": "LayoutModel",
      "state": {
       "_model_module": "@jupyter-widgets/base",
       "_model_module_version": "1.2.0",
       "_model_name": "LayoutModel",
       "_view_count": null,
       "_view_module": "@jupyter-widgets/base",
       "_view_module_version": "1.2.0",
       "_view_name": "LayoutView",
       "align_content": null,
       "align_items": null,
       "align_self": null,
       "border": null,
       "bottom": null,
       "display": null,
       "flex": null,
       "flex_flow": null,
       "grid_area": null,
       "grid_auto_columns": null,
       "grid_auto_flow": null,
       "grid_auto_rows": null,
       "grid_column": null,
       "grid_gap": null,
       "grid_row": null,
       "grid_template_areas": null,
       "grid_template_columns": null,
       "grid_template_rows": null,
       "height": null,
       "justify_content": null,
       "justify_items": null,
       "left": null,
       "margin": null,
       "max_height": null,
       "max_width": null,
       "min_height": null,
       "min_width": null,
       "object_fit": null,
       "object_position": null,
       "order": null,
       "overflow": null,
       "overflow_x": null,
       "overflow_y": null,
       "padding": null,
       "right": null,
       "top": null,
       "visibility": null,
       "width": null
      }
     },
     "450bb4e0ead34b4ea9df3f2be7fa5a88": {
      "model_module": "@jupyter-widgets/base",
      "model_module_version": "1.2.0",
      "model_name": "LayoutModel",
      "state": {
       "_model_module": "@jupyter-widgets/base",
       "_model_module_version": "1.2.0",
       "_model_name": "LayoutModel",
       "_view_count": null,
       "_view_module": "@jupyter-widgets/base",
       "_view_module_version": "1.2.0",
       "_view_name": "LayoutView",
       "align_content": null,
       "align_items": null,
       "align_self": null,
       "border": null,
       "bottom": null,
       "display": null,
       "flex": null,
       "flex_flow": null,
       "grid_area": null,
       "grid_auto_columns": null,
       "grid_auto_flow": null,
       "grid_auto_rows": null,
       "grid_column": null,
       "grid_gap": null,
       "grid_row": null,
       "grid_template_areas": null,
       "grid_template_columns": null,
       "grid_template_rows": null,
       "height": null,
       "justify_content": null,
       "justify_items": null,
       "left": null,
       "margin": null,
       "max_height": null,
       "max_width": null,
       "min_height": null,
       "min_width": null,
       "object_fit": null,
       "object_position": null,
       "order": null,
       "overflow": null,
       "overflow_x": null,
       "overflow_y": null,
       "padding": null,
       "right": null,
       "top": null,
       "visibility": null,
       "width": null
      }
     },
     "4d5504babc754e4faf19ef5e7ebb3f8e": {
      "model_module": "@jupyter-widgets/controls",
      "model_module_version": "1.5.0",
      "model_name": "ProgressStyleModel",
      "state": {
       "_model_module": "@jupyter-widgets/controls",
       "_model_module_version": "1.5.0",
       "_model_name": "ProgressStyleModel",
       "_view_count": null,
       "_view_module": "@jupyter-widgets/base",
       "_view_module_version": "1.2.0",
       "_view_name": "StyleView",
       "bar_color": null,
       "description_width": ""
      }
     },
     "528dc6aa5f3647e9bc73ff5e7388d7be": {
      "model_module": "@jupyter-widgets/base",
      "model_module_version": "1.2.0",
      "model_name": "LayoutModel",
      "state": {
       "_model_module": "@jupyter-widgets/base",
       "_model_module_version": "1.2.0",
       "_model_name": "LayoutModel",
       "_view_count": null,
       "_view_module": "@jupyter-widgets/base",
       "_view_module_version": "1.2.0",
       "_view_name": "LayoutView",
       "align_content": null,
       "align_items": null,
       "align_self": null,
       "border": null,
       "bottom": null,
       "display": null,
       "flex": null,
       "flex_flow": null,
       "grid_area": null,
       "grid_auto_columns": null,
       "grid_auto_flow": null,
       "grid_auto_rows": null,
       "grid_column": null,
       "grid_gap": null,
       "grid_row": null,
       "grid_template_areas": null,
       "grid_template_columns": null,
       "grid_template_rows": null,
       "height": null,
       "justify_content": null,
       "justify_items": null,
       "left": null,
       "margin": null,
       "max_height": null,
       "max_width": null,
       "min_height": null,
       "min_width": null,
       "object_fit": null,
       "object_position": null,
       "order": null,
       "overflow": null,
       "overflow_x": null,
       "overflow_y": null,
       "padding": null,
       "right": null,
       "top": null,
       "visibility": null,
       "width": null
      }
     },
     "5d45a1c5bfc34e5393a21c4ccda4bfa8": {
      "model_module": "@jupyter-widgets/base",
      "model_module_version": "1.2.0",
      "model_name": "LayoutModel",
      "state": {
       "_model_module": "@jupyter-widgets/base",
       "_model_module_version": "1.2.0",
       "_model_name": "LayoutModel",
       "_view_count": null,
       "_view_module": "@jupyter-widgets/base",
       "_view_module_version": "1.2.0",
       "_view_name": "LayoutView",
       "align_content": null,
       "align_items": null,
       "align_self": null,
       "border": null,
       "bottom": null,
       "display": null,
       "flex": null,
       "flex_flow": null,
       "grid_area": null,
       "grid_auto_columns": null,
       "grid_auto_flow": null,
       "grid_auto_rows": null,
       "grid_column": null,
       "grid_gap": null,
       "grid_row": null,
       "grid_template_areas": null,
       "grid_template_columns": null,
       "grid_template_rows": null,
       "height": null,
       "justify_content": null,
       "justify_items": null,
       "left": null,
       "margin": null,
       "max_height": null,
       "max_width": null,
       "min_height": null,
       "min_width": null,
       "object_fit": null,
       "object_position": null,
       "order": null,
       "overflow": null,
       "overflow_x": null,
       "overflow_y": null,
       "padding": null,
       "right": null,
       "top": null,
       "visibility": null,
       "width": null
      }
     },
     "6068bd8065a247fa80ee1b4349725634": {
      "model_module": "@jupyter-widgets/controls",
      "model_module_version": "1.5.0",
      "model_name": "IntProgressModel",
      "state": {
       "_dom_classes": [],
       "_model_module": "@jupyter-widgets/controls",
       "_model_module_version": "1.5.0",
       "_model_name": "IntProgressModel",
       "_view_count": null,
       "_view_module": "@jupyter-widgets/controls",
       "_view_module_version": "1.5.0",
       "_view_name": "ProgressView",
       "bar_style": "",
       "description": "Processing: ",
       "description_tooltip": null,
       "layout": "IPY_MODEL_0f58ede77b46463195d463aa366c8f1c",
       "max": 5,
       "min": 0,
       "orientation": "horizontal",
       "style": "IPY_MODEL_c084a7e139ed48e3be731cb8970527a2",
       "value": 5
      }
     },
     "655c6d2071de4ffd96f21d71559b2b29": {
      "model_module": "@jupyter-widgets/base",
      "model_module_version": "1.2.0",
      "model_name": "LayoutModel",
      "state": {
       "_model_module": "@jupyter-widgets/base",
       "_model_module_version": "1.2.0",
       "_model_name": "LayoutModel",
       "_view_count": null,
       "_view_module": "@jupyter-widgets/base",
       "_view_module_version": "1.2.0",
       "_view_name": "LayoutView",
       "align_content": null,
       "align_items": null,
       "align_self": null,
       "border": null,
       "bottom": null,
       "display": null,
       "flex": null,
       "flex_flow": null,
       "grid_area": null,
       "grid_auto_columns": null,
       "grid_auto_flow": null,
       "grid_auto_rows": null,
       "grid_column": null,
       "grid_gap": null,
       "grid_row": null,
       "grid_template_areas": null,
       "grid_template_columns": null,
       "grid_template_rows": null,
       "height": null,
       "justify_content": null,
       "justify_items": null,
       "left": null,
       "margin": null,
       "max_height": null,
       "max_width": null,
       "min_height": null,
       "min_width": null,
       "object_fit": null,
       "object_position": null,
       "order": null,
       "overflow": null,
       "overflow_x": null,
       "overflow_y": null,
       "padding": null,
       "right": null,
       "top": null,
       "visibility": null,
       "width": null
      }
     },
     "6d6e2a65d57a42c8b873d67b3794faf3": {
      "model_module": "@jupyter-widgets/base",
      "model_module_version": "1.2.0",
      "model_name": "LayoutModel",
      "state": {
       "_model_module": "@jupyter-widgets/base",
       "_model_module_version": "1.2.0",
       "_model_name": "LayoutModel",
       "_view_count": null,
       "_view_module": "@jupyter-widgets/base",
       "_view_module_version": "1.2.0",
       "_view_name": "LayoutView",
       "align_content": null,
       "align_items": null,
       "align_self": null,
       "border": null,
       "bottom": null,
       "display": null,
       "flex": null,
       "flex_flow": null,
       "grid_area": null,
       "grid_auto_columns": null,
       "grid_auto_flow": null,
       "grid_auto_rows": null,
       "grid_column": null,
       "grid_gap": null,
       "grid_row": null,
       "grid_template_areas": null,
       "grid_template_columns": null,
       "grid_template_rows": null,
       "height": null,
       "justify_content": null,
       "justify_items": null,
       "left": null,
       "margin": null,
       "max_height": null,
       "max_width": null,
       "min_height": null,
       "min_width": null,
       "object_fit": null,
       "object_position": null,
       "order": null,
       "overflow": null,
       "overflow_x": null,
       "overflow_y": null,
       "padding": null,
       "right": null,
       "top": null,
       "visibility": null,
       "width": null
      }
     },
     "6d9b83040716493f8e41f0cf59928fc3": {
      "model_module": "@jupyter-widgets/controls",
      "model_module_version": "1.5.0",
      "model_name": "IntProgressModel",
      "state": {
       "_dom_classes": [],
       "_model_module": "@jupyter-widgets/controls",
       "_model_module_version": "1.5.0",
       "_model_name": "IntProgressModel",
       "_view_count": null,
       "_view_module": "@jupyter-widgets/controls",
       "_view_module_version": "1.5.0",
       "_view_name": "ProgressView",
       "bar_style": "",
       "description": "Processing: ",
       "description_tooltip": null,
       "layout": "IPY_MODEL_5d45a1c5bfc34e5393a21c4ccda4bfa8",
       "max": 7,
       "min": 0,
       "orientation": "horizontal",
       "style": "IPY_MODEL_f9a0c84b1765453b9320675fc45ec1f9",
       "value": 7
      }
     },
     "6fb0fbb130a64de78c025e9d6c53b869": {
      "model_module": "@jupyter-widgets/controls",
      "model_module_version": "1.5.0",
      "model_name": "ProgressStyleModel",
      "state": {
       "_model_module": "@jupyter-widgets/controls",
       "_model_module_version": "1.5.0",
       "_model_name": "ProgressStyleModel",
       "_view_count": null,
       "_view_module": "@jupyter-widgets/base",
       "_view_module_version": "1.2.0",
       "_view_name": "StyleView",
       "bar_color": null,
       "description_width": ""
      }
     },
     "7f8c7d5127b04dcdbd04bc6f1a1480e9": {
      "model_module": "@jupyter-widgets/controls",
      "model_module_version": "1.5.0",
      "model_name": "ProgressStyleModel",
      "state": {
       "_model_module": "@jupyter-widgets/controls",
       "_model_module_version": "1.5.0",
       "_model_name": "ProgressStyleModel",
       "_view_count": null,
       "_view_module": "@jupyter-widgets/base",
       "_view_module_version": "1.2.0",
       "_view_name": "StyleView",
       "bar_color": null,
       "description_width": ""
      }
     },
     "82c3e7fc5eeb4e8c8bb1f1aab43b11eb": {
      "model_module": "@jupyter-widgets/controls",
      "model_module_version": "1.5.0",
      "model_name": "IntProgressModel",
      "state": {
       "_dom_classes": [],
       "_model_module": "@jupyter-widgets/controls",
       "_model_module_version": "1.5.0",
       "_model_name": "IntProgressModel",
       "_view_count": null,
       "_view_module": "@jupyter-widgets/controls",
       "_view_module_version": "1.5.0",
       "_view_name": "ProgressView",
       "bar_style": "",
       "description": "Processing: ",
       "description_tooltip": null,
       "layout": "IPY_MODEL_450bb4e0ead34b4ea9df3f2be7fa5a88",
       "max": 5,
       "min": 0,
       "orientation": "horizontal",
       "style": "IPY_MODEL_037b7c8a96d445f09a660925aa214f26",
       "value": 5
      }
     },
     "88e5cbd12d4844d781cfd039abbedc5e": {
      "model_module": "@jupyter-widgets/base",
      "model_module_version": "1.2.0",
      "model_name": "LayoutModel",
      "state": {
       "_model_module": "@jupyter-widgets/base",
       "_model_module_version": "1.2.0",
       "_model_name": "LayoutModel",
       "_view_count": null,
       "_view_module": "@jupyter-widgets/base",
       "_view_module_version": "1.2.0",
       "_view_name": "LayoutView",
       "align_content": null,
       "align_items": null,
       "align_self": null,
       "border": null,
       "bottom": null,
       "display": null,
       "flex": null,
       "flex_flow": null,
       "grid_area": null,
       "grid_auto_columns": null,
       "grid_auto_flow": null,
       "grid_auto_rows": null,
       "grid_column": null,
       "grid_gap": null,
       "grid_row": null,
       "grid_template_areas": null,
       "grid_template_columns": null,
       "grid_template_rows": null,
       "height": null,
       "justify_content": null,
       "justify_items": null,
       "left": null,
       "margin": null,
       "max_height": null,
       "max_width": null,
       "min_height": null,
       "min_width": null,
       "object_fit": null,
       "object_position": null,
       "order": null,
       "overflow": null,
       "overflow_x": null,
       "overflow_y": null,
       "padding": null,
       "right": null,
       "top": null,
       "visibility": null,
       "width": null
      }
     },
     "8aad51ee18444ac098a89e6c2e8d52a0": {
      "model_module": "@jupyter-widgets/base",
      "model_module_version": "1.2.0",
      "model_name": "LayoutModel",
      "state": {
       "_model_module": "@jupyter-widgets/base",
       "_model_module_version": "1.2.0",
       "_model_name": "LayoutModel",
       "_view_count": null,
       "_view_module": "@jupyter-widgets/base",
       "_view_module_version": "1.2.0",
       "_view_name": "LayoutView",
       "align_content": null,
       "align_items": null,
       "align_self": null,
       "border": null,
       "bottom": null,
       "display": null,
       "flex": null,
       "flex_flow": null,
       "grid_area": null,
       "grid_auto_columns": null,
       "grid_auto_flow": null,
       "grid_auto_rows": null,
       "grid_column": null,
       "grid_gap": null,
       "grid_row": null,
       "grid_template_areas": null,
       "grid_template_columns": null,
       "grid_template_rows": null,
       "height": null,
       "justify_content": null,
       "justify_items": null,
       "left": null,
       "margin": null,
       "max_height": null,
       "max_width": null,
       "min_height": null,
       "min_width": null,
       "object_fit": null,
       "object_position": null,
       "order": null,
       "overflow": null,
       "overflow_x": null,
       "overflow_y": null,
       "padding": null,
       "right": null,
       "top": null,
       "visibility": null,
       "width": null
      }
     },
     "8f1cb4d9c9fa47e0b0b33b91cf342948": {
      "model_module": "@jupyter-widgets/base",
      "model_module_version": "1.2.0",
      "model_name": "LayoutModel",
      "state": {
       "_model_module": "@jupyter-widgets/base",
       "_model_module_version": "1.2.0",
       "_model_name": "LayoutModel",
       "_view_count": null,
       "_view_module": "@jupyter-widgets/base",
       "_view_module_version": "1.2.0",
       "_view_name": "LayoutView",
       "align_content": null,
       "align_items": null,
       "align_self": null,
       "border": null,
       "bottom": null,
       "display": null,
       "flex": null,
       "flex_flow": null,
       "grid_area": null,
       "grid_auto_columns": null,
       "grid_auto_flow": null,
       "grid_auto_rows": null,
       "grid_column": null,
       "grid_gap": null,
       "grid_row": null,
       "grid_template_areas": null,
       "grid_template_columns": null,
       "grid_template_rows": null,
       "height": null,
       "justify_content": null,
       "justify_items": null,
       "left": null,
       "margin": null,
       "max_height": null,
       "max_width": null,
       "min_height": null,
       "min_width": null,
       "object_fit": null,
       "object_position": null,
       "order": null,
       "overflow": null,
       "overflow_x": null,
       "overflow_y": null,
       "padding": null,
       "right": null,
       "top": null,
       "visibility": null,
       "width": null
      }
     },
     "a0f0cef56b06458986f3abf54eb7b28b": {
      "model_module": "@jupyter-widgets/controls",
      "model_module_version": "1.5.0",
      "model_name": "IntProgressModel",
      "state": {
       "_dom_classes": [],
       "_model_module": "@jupyter-widgets/controls",
       "_model_module_version": "1.5.0",
       "_model_name": "IntProgressModel",
       "_view_count": null,
       "_view_module": "@jupyter-widgets/controls",
       "_view_module_version": "1.5.0",
       "_view_name": "ProgressView",
       "bar_style": "",
       "description": "Processing: ",
       "description_tooltip": null,
       "layout": "IPY_MODEL_8f1cb4d9c9fa47e0b0b33b91cf342948",
       "max": 5,
       "min": 0,
       "orientation": "horizontal",
       "style": "IPY_MODEL_7f8c7d5127b04dcdbd04bc6f1a1480e9",
       "value": 5
      }
     },
     "a92b85c55c274a19b99c52560ecf1578": {
      "model_module": "@jupyter-widgets/controls",
      "model_module_version": "1.5.0",
      "model_name": "ProgressStyleModel",
      "state": {
       "_model_module": "@jupyter-widgets/controls",
       "_model_module_version": "1.5.0",
       "_model_name": "ProgressStyleModel",
       "_view_count": null,
       "_view_module": "@jupyter-widgets/base",
       "_view_module_version": "1.2.0",
       "_view_name": "StyleView",
       "bar_color": null,
       "description_width": ""
      }
     },
     "b573d9fd8c2a45ad848ec8e99f3fa657": {
      "model_module": "@jupyter-widgets/controls",
      "model_module_version": "1.5.0",
      "model_name": "IntProgressModel",
      "state": {
       "_dom_classes": [],
       "_model_module": "@jupyter-widgets/controls",
       "_model_module_version": "1.5.0",
       "_model_name": "IntProgressModel",
       "_view_count": null,
       "_view_module": "@jupyter-widgets/controls",
       "_view_module_version": "1.5.0",
       "_view_name": "ProgressView",
       "bar_style": "",
       "description": "Processing: ",
       "description_tooltip": null,
       "layout": "IPY_MODEL_1a20880f8c464e13b5fc47a86017591a",
       "max": 5,
       "min": 0,
       "orientation": "horizontal",
       "style": "IPY_MODEL_a92b85c55c274a19b99c52560ecf1578",
       "value": 5
      }
     },
     "b6cb0f49c4394cdb839f79f9af32545d": {
      "model_module": "@jupyter-widgets/controls",
      "model_module_version": "1.5.0",
      "model_name": "ProgressStyleModel",
      "state": {
       "_model_module": "@jupyter-widgets/controls",
       "_model_module_version": "1.5.0",
       "_model_name": "ProgressStyleModel",
       "_view_count": null,
       "_view_module": "@jupyter-widgets/base",
       "_view_module_version": "1.2.0",
       "_view_name": "StyleView",
       "bar_color": null,
       "description_width": ""
      }
     },
     "c064378825764396bb60224d1c399480": {
      "model_module": "@jupyter-widgets/base",
      "model_module_version": "1.2.0",
      "model_name": "LayoutModel",
      "state": {
       "_model_module": "@jupyter-widgets/base",
       "_model_module_version": "1.2.0",
       "_model_name": "LayoutModel",
       "_view_count": null,
       "_view_module": "@jupyter-widgets/base",
       "_view_module_version": "1.2.0",
       "_view_name": "LayoutView",
       "align_content": null,
       "align_items": null,
       "align_self": null,
       "border": null,
       "bottom": null,
       "display": null,
       "flex": null,
       "flex_flow": null,
       "grid_area": null,
       "grid_auto_columns": null,
       "grid_auto_flow": null,
       "grid_auto_rows": null,
       "grid_column": null,
       "grid_gap": null,
       "grid_row": null,
       "grid_template_areas": null,
       "grid_template_columns": null,
       "grid_template_rows": null,
       "height": null,
       "justify_content": null,
       "justify_items": null,
       "left": null,
       "margin": null,
       "max_height": null,
       "max_width": null,
       "min_height": null,
       "min_width": null,
       "object_fit": null,
       "object_position": null,
       "order": null,
       "overflow": null,
       "overflow_x": null,
       "overflow_y": null,
       "padding": null,
       "right": null,
       "top": null,
       "visibility": null,
       "width": null
      }
     },
     "c084a7e139ed48e3be731cb8970527a2": {
      "model_module": "@jupyter-widgets/controls",
      "model_module_version": "1.5.0",
      "model_name": "ProgressStyleModel",
      "state": {
       "_model_module": "@jupyter-widgets/controls",
       "_model_module_version": "1.5.0",
       "_model_name": "ProgressStyleModel",
       "_view_count": null,
       "_view_module": "@jupyter-widgets/base",
       "_view_module_version": "1.2.0",
       "_view_name": "StyleView",
       "bar_color": null,
       "description_width": ""
      }
     },
     "d10ff8e1c4c945ec979ff2b559a49efe": {
      "model_module": "@jupyter-widgets/controls",
      "model_module_version": "1.5.0",
      "model_name": "IntProgressModel",
      "state": {
       "_dom_classes": [],
       "_model_module": "@jupyter-widgets/controls",
       "_model_module_version": "1.5.0",
       "_model_name": "IntProgressModel",
       "_view_count": null,
       "_view_module": "@jupyter-widgets/controls",
       "_view_module_version": "1.5.0",
       "_view_name": "ProgressView",
       "bar_style": "",
       "description": "Processing: ",
       "description_tooltip": null,
       "layout": "IPY_MODEL_4304fe46c75f47a4a4f6e3edf834c295",
       "max": 4,
       "min": 0,
       "orientation": "horizontal",
       "style": "IPY_MODEL_4d5504babc754e4faf19ef5e7ebb3f8e",
       "value": 4
      }
     },
     "d59a719773714a28b4c20b03ac02493b": {
      "model_module": "@jupyter-widgets/controls",
      "model_module_version": "1.5.0",
      "model_name": "ProgressStyleModel",
      "state": {
       "_model_module": "@jupyter-widgets/controls",
       "_model_module_version": "1.5.0",
       "_model_name": "ProgressStyleModel",
       "_view_count": null,
       "_view_module": "@jupyter-widgets/base",
       "_view_module_version": "1.2.0",
       "_view_name": "StyleView",
       "bar_color": null,
       "description_width": ""
      }
     },
     "f7ebe9aca69d455595001bcc0d16ff3c": {
      "model_module": "@jupyter-widgets/controls",
      "model_module_version": "1.5.0",
      "model_name": "ProgressStyleModel",
      "state": {
       "_model_module": "@jupyter-widgets/controls",
       "_model_module_version": "1.5.0",
       "_model_name": "ProgressStyleModel",
       "_view_count": null,
       "_view_module": "@jupyter-widgets/base",
       "_view_module_version": "1.2.0",
       "_view_name": "StyleView",
       "bar_color": null,
       "description_width": ""
      }
     },
     "f9a0c84b1765453b9320675fc45ec1f9": {
      "model_module": "@jupyter-widgets/controls",
      "model_module_version": "1.5.0",
      "model_name": "ProgressStyleModel",
      "state": {
       "_model_module": "@jupyter-widgets/controls",
       "_model_module_version": "1.5.0",
       "_model_name": "ProgressStyleModel",
       "_view_count": null,
       "_view_module": "@jupyter-widgets/base",
       "_view_module_version": "1.2.0",
       "_view_name": "StyleView",
       "bar_color": null,
       "description_width": ""
      }
     }
    },
    "version_major": 2,
    "version_minor": 0
   }
  }
 },
 "nbformat": 4,
 "nbformat_minor": 5
}
